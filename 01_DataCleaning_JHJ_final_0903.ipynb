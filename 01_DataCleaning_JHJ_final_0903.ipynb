{
 "metadata": {
  "language_info": {
   "codemirror_mode": {
    "name": "ipython",
    "version": 3
   },
   "file_extension": ".py",
   "mimetype": "text/x-python",
   "name": "python",
   "nbconvert_exporter": "python",
   "pygments_lexer": "ipython3",
   "version": "3.8.3-final"
  },
  "orig_nbformat": 2,
  "kernelspec": {
   "name": "python3",
   "display_name": "Python 3"
  }
 },
 "nbformat": 4,
 "nbformat_minor": 2,
 "cells": [
  {
   "cell_type": "code",
   "execution_count": 1,
   "metadata": {},
   "outputs": [],
   "source": [
    "import pandas as pd\n",
    "import numpy as np\n",
    "import os"
   ]
  },
  {
   "cell_type": "code",
   "execution_count": 2,
   "metadata": {},
   "outputs": [],
   "source": [
    "#loading channels sheet\n",
    "from os import listdir\n",
    "filepaths=[\"./channel/day=25/hour=17/\"+f for f in listdir(\"./channel/day=25/hour=17/\") if f.endswith('.csv')]\n",
    "rawchan=[]\n",
    "for filename in filepaths:\n",
    "    temp=pd.read_csv(filename, header=0, sep=\"|\")\n",
    "    rawchan.append(temp)\n",
    "df_channel=pd.concat(rawchan, axis=0, ignore_index=True)"
   ]
  },
  {
   "cell_type": "code",
   "execution_count": null,
   "metadata": {},
   "outputs": [],
   "source": [
    "#loading video sheets\n",
    "rawvideo=[]\n",
    "filepaths=[\"./video/day=25/hour=17/\"+f for f in listdir(\"./video/day=25/hour=17/\") if f.endswith(\".csv\")]\n",
    "for filename in filepaths:\n",
    "    temp=pd.read_csv(filename, header=0, sep=\"|\", error_bad_lines=False)\n",
    "    rawvideo.append(temp)\n",
    "df_video=pd.concat(rawvideo, axis=0, ignore_index=True)"
   ]
  },
  {
   "cell_type": "code",
   "execution_count": 4,
   "metadata": {
    "tags": []
   },
   "outputs": [
    {
     "output_type": "stream",
     "name": "stdout",
     "text": "Index(['id', 'title', 'collectedTime', 'category', 'sub_category',\n       'description', 'publishedAt', 'thumbnailUrl', 'country', 'viewCount',\n       'commentCount', 'subscriberCount', 'hiddenSubscriberCount',\n       'videoCount', 'keywords', 'unsubscribedTrailer'],\n      dtype='object')\nIndex(['id', 'collectedTime', 'publishedAt', 'channelId', 'title',\n       'description', 'thumbnailUrl', 'tags', 'category', 'defaultLanguage',\n       'duration', 'caption', 'viewCount', 'likeCount', 'dislikeCount',\n       'commentCount'],\n      dtype='object')\n"
    }
   ],
   "source": [
    "#check variables\n",
    "print(df_channel.columns)\n",
    "print(df_video.columns)"
   ]
  },
  {
   "cell_type": "code",
   "execution_count": 5,
   "metadata": {},
   "outputs": [],
   "source": [
    "#change id@channel to channelId for ease of use\n",
    "df_channel=df_channel.rename(columns={\"id\":\"channelId\"})"
   ]
  },
  {
   "cell_type": "code",
   "execution_count": 6,
   "metadata": {},
   "outputs": [],
   "source": [
    "#date and time conversion\n",
    "df_channel[\"collectedTime\"]=pd.to_datetime(df_channel.collectedTime)\n",
    "df_channel[\"publishedAt\"]=pd.to_datetime(df_channel.publishedAt)\n",
    "df_video[\"collectedTime\"]=pd.to_datetime(df_video.collectedTime)\n",
    "df_video[\"publishedAt\"]=pd.to_datetime(df_video.publishedAt)"
   ]
  },
  {
   "cell_type": "code",
   "execution_count": 7,
   "metadata": {},
   "outputs": [],
   "source": [
    "#sum total like and dislike from each videos\n",
    "like=df_video.groupby([\"channelId\"]).sum()#get sum\n",
    "like=like.drop([\"viewCount\", \"commentCount\"], axis=1).reset_index()#drop pointless columns and reset index"
   ]
  },
  {
   "cell_type": "code",
   "execution_count": 8,
   "metadata": {},
   "outputs": [],
   "source": [
    "#merge calculated like/dislikes into chanel data set\n",
    "df_channel=pd.merge(df_channel, like, how=\"outer\")"
   ]
  },
  {
   "cell_type": "code",
   "execution_count": 9,
   "metadata": {},
   "outputs": [],
   "source": [
    "#title and category @ channel\n",
    "chtovid=df_channel[[\"channelId\", \"title\", \"category\", \"sub_category\"]]#creating sub df\n",
    "chtovid=chtovid.rename(columns={\"channelId\":\"channelId\", \"title\":\"ch_title\", \"category\":\"ch_category\", \"sub_category\":\"ch_sub_category\"})"
   ]
  },
  {
   "cell_type": "code",
   "execution_count": 10,
   "metadata": {},
   "outputs": [],
   "source": [
    "#merge above title and category to video\n",
    "df_video=pd.merge(df_video, chtovid, how=\"inner\")"
   ]
  },
  {
   "cell_type": "code",
   "execution_count": 11,
   "metadata": {},
   "outputs": [],
   "source": [
    "#parse date out of publishedAt from df_video\n",
    "df_video[\"pubDate\"]=df_video.publishedAt.astype(str).str[:-15]\n",
    "df_video[\"pubDate\"]=pd.to_datetime(df_video.pubDate)"
   ]
  },
  {
   "cell_type": "code",
   "execution_count": 12,
   "metadata": {},
   "outputs": [],
   "source": [
    "#get recent 3-month data\n",
    "df3M=df_video.set_index(\"pubDate\").sort_index().last(\"3M\")\n",
    "df3M=df3M.reset_index()\n",
    "#get recent 6-month data\n",
    "df6M=df_video.set_index(\"pubDate\").sort_index().last(\"6M\")\n",
    "df6M=df6M.reset_index()"
   ]
  },
  {
   "cell_type": "code",
   "execution_count": 13,
   "metadata": {},
   "outputs": [],
   "source": [
    "#extract number of videos from the last three months using above df\n",
    "chanvid=df3M.channelId.value_counts().rename_axis(\"channelId\").reset_index(name=\"3M_video\")\n",
    "chanvid=chanvid.fillna(value=0)\n",
    "chanvid6=df6M.channelId.value_counts().rename_axis(\"channelId\").reset_index(name=\"6M_video\")\n",
    "chanvid6=chanvid6.fillna(value=0)"
   ]
  },
  {
   "cell_type": "code",
   "execution_count": 14,
   "metadata": {},
   "outputs": [],
   "source": [
    "#3 month outcomes together\n",
    "df3M_sum=df3M.groupby([\"channelId\"]).sum().reset_index()\n",
    "df3M_sum=df3M_sum.rename(columns={\"viewCount\":\"3M_viewCount\", \"likeCount\":\"3M_likeCount\", \"commentCount\":\"3M_commentCount\", \"dislikeCount\":\"3M_dislikeCount\"})\n",
    "df3M_sum=df3M_sum.fillna(value=0)\n",
    "#6 month outcomes together\n",
    "df6M_sum=df6M.groupby([\"channelId\"]).sum().reset_index()\n",
    "df6M_sum=df6M_sum.rename(columns={\"viewCount\":\"6M_viewCount\", \"likeCount\":\"6M_likeCount\", \"commentCount\":\"6M_commentCount\", \"dislikeCount\":\"6M_dislikeCount\"})\n",
    "df6M_sum=df6M_sum.fillna(value=0)"
   ]
  },
  {
   "cell_type": "code",
   "execution_count": 15,
   "metadata": {},
   "outputs": [],
   "source": [
    "#merge to df_channel\n",
    "df_channel=pd.merge(df_channel, chanvid, how=\"outer\")\n",
    "df_channel=pd.merge(df_channel, df3M_sum, how=\"outer\")\n",
    "df_channel=pd.merge(df_channel, chanvid6, how=\"outer\")\n",
    "df_channel=pd.merge(df_channel, df6M_sum, how=\"outer\")"
   ]
  },
  {
   "cell_type": "code",
   "execution_count": 16,
   "metadata": {},
   "outputs": [
    {
     "output_type": "execute_result",
     "data": {
      "text/plain": "Index(['channelId', 'title', 'collectedTime', 'category', 'sub_category',\n       'description', 'publishedAt', 'thumbnailUrl', 'country', 'viewCount',\n       'commentCount', 'subscriberCount', 'hiddenSubscriberCount',\n       'videoCount', 'keywords', 'unsubscribedTrailer', 'likeCount',\n       'dislikeCount', '3M_video', '3M_viewCount', '3M_likeCount',\n       '3M_dislikeCount', '3M_commentCount', '6M_video', '6M_viewCount',\n       '6M_likeCount', '6M_dislikeCount', '6M_commentCount'],\n      dtype='object')"
     },
     "metadata": {},
     "execution_count": 16
    }
   ],
   "source": [
    "df_channel.columns"
   ]
  },
  {
   "cell_type": "code",
   "execution_count": 17,
   "metadata": {},
   "outputs": [
    {
     "output_type": "execute_result",
     "data": {
      "text/plain": "Index(['채널ID', '채널명', '수집일자', '분류1', '분류2', '채널설명', '채널생성일', '6M_video',\n       '6M_viewCount', '6M_likeCount', '6M_dislikeCount', '6M_commentCount',\n       '산출물수', '최근산출물수', '정량개선도', '구독자수', '총조회수', '총좋아요수', '총싫어요수', '총댓글수',\n       'MAU', '최근조회수', '최근좋아요수', '최근싫어요수', '최근댓글수', '조회수개선도', '좋아요개선도',\n       '댓글수개선도', '정성개선도'],\n      dtype='object')"
     },
     "metadata": {},
     "execution_count": 17
    }
   ],
   "source": [
    "#create final dataset\n",
    "df_channel_k=df_channel\n",
    "df_channel_k[\"산출물수\"]=df_channel[\"videoCount\"]\n",
    "df_channel_k[\"최근산출물수\"]=df_channel[\"3M_video\"]\n",
    "df_channel_k[\"정량개선도\"]=(df_channel[\"3M_video\"])/(df_channel[\"6M_video\"])\n",
    "df_channel_k[\"구독자수\"]=df_channel.subscriberCount\n",
    "df_channel_k[\"총조회수\"]=df_channel.viewCount\n",
    "df_channel_k[\"총좋아요수\"]=df_channel.likeCount\n",
    "df_channel_k[\"총싫어요수\"]=df_channel.dislikeCount\n",
    "df_channel_k[\"총댓글수\"]=df_channel.commentCount\n",
    "df_channel_k[\"MAU\"]=(df_channel.viewCount)/(df_channel.subscriberCount)\n",
    "df_channel_k[\"최근조회수\"]=df_channel[\"3M_viewCount\"]\n",
    "df_channel_k[\"최근좋아요수\"]=df_channel[\"3M_likeCount\"]\n",
    "df_channel_k[\"최근싫어요수\"]=df_channel[\"3M_dislikeCount\"]\n",
    "df_channel_k[\"최근댓글수\"]=df_channel[\"3M_commentCount\"]\n",
    "df_channel_k[\"조회수개선도\"]=df_channel_k[\"최근조회수\"]/df_channel_k[\"6M_viewCount\"]\n",
    "df_channel_k[\"좋아요개선도\"]=df_channel_k[\"최근좋아요수\"]/df_channel_k[\"6M_likeCount\"]\n",
    "df_channel_k[\"댓글수개선도\"]=df_channel_k[\"최근댓글수\"]/df_channel_k[\"6M_commentCount\"]\n",
    "df_channel_k[\"정성개선도\"]=df_channel_k[\"조회수개선도\"]+df_channel_k[\"좋아요개선도\"]+df_channel_k[\"댓글수개선도\"]\n",
    "df_channel_k=df_channel_k.reset_index()\n",
    "df_channel_k=df_channel_k.drop(['index','thumbnailUrl', 'country', 'viewCount', 'commentCount', 'subscriberCount', 'hiddenSubscriberCount', 'videoCount', 'keywords', 'unsubscribedTrailer', 'likeCount', 'dislikeCount', '3M_video', \"3M_viewCount\", \"3M_likeCount\", \"3M_dislikeCount\",\"3M_commentCount\"], axis=1)\n",
    "df_channel_k=df_channel_k.rename(columns={\"channelId\":\"채널ID\", \"title\":\"채널명\", \"collectedTime\":\"수집일자\", \"category\":\"분류1\", \"sub_category\":\"분류2\", \"description\":\"채널설명\", \"publishedAt\":\"채널생성일\",\"hiddenSubscriberCount\":\"구독자숨김\"})\n",
    "df_channel_k.columns"
   ]
  },
  {
   "cell_type": "code",
   "execution_count": 18,
   "metadata": {},
   "outputs": [],
   "source": [
    "#create out of 100 scores\n",
    "cols=['산출물수', '최근산출물수', '정량개선도', '구독자수', '총조회수', '총좋아요수', '총싫어요수', '총댓글수', 'MAU', '최근조회수', '최근좋아요수', '최근싫어요수', '최근댓글수']#columns for 100 generation\n",
    "for item in cols:\n",
    "    item_100=item+\"_100\"\n",
    "    df_channel_k[item_100]=(df_channel_k[item]-df_channel_k[item].min())/((df_channel_k[item].max()-df_channel_k[item].min())/100)#최소값을 0점, 최대값을 100점이라 하였을때 상대적인 점수\n",
    "    "
   ]
  },
  {
   "cell_type": "code",
   "execution_count": 19,
   "metadata": {},
   "outputs": [],
   "source": [
    "#create standardized score using all channel\n",
    "zcols=['산출물수', '최근산출물수', '정량개선도', '구독자수', '총조회수', '총좋아요수', '총싫어요수', '총댓글수', 'MAU', '최근조회수', '최근좋아요수', '최근싫어요수', '최근댓글수']#columns for z-score generation\n",
    "for item in zcols:\n",
    "    item_Tscore=item+\"_zscore\"\n",
    "    df_channel_k[item_Tscore]=((df_channel_k[item] - df_channel_k[item].mean())/(df_channel_k[item].std()))#z-score"
   ]
  },
  {
   "cell_type": "code",
   "execution_count": 20,
   "metadata": {},
   "outputs": [],
   "source": [
    "# #calculate scores using T-scores\n",
    "# df_channel_k[\"MAU_Tscore\"]=(df_channel_k[\"총조회수_Tscore\"])/(df_channel_k[\"구독자수_Tscore\"])\n",
    "# df_channel_k[\"정량개선도_Tscore\"]=(df_channel_k[\"정기성_Tscore\"])/(df_channel_k[\"산출물수_Tscore\"])\n",
    "# df_channel_k[\"조회수개선도_Tscore\"]=df_channel_k[\"최근조회수_Tscore\"]/df_channel_k[\"총조회수_Tscore\"]\n",
    "# df_channel_k[\"좋아요개선도_Tscore\"]=df_channel_k[\"최근좋아요수_Tscore\"]/df_channel_k[\"총좋아요수_Tscore\"]\n",
    "# df_channel_k[\"댓글수개선도_Tscore\"]=df_channel_k[\"최근댓글수_Tscore\"]/df_channel_k[\"총댓글수_Tscore\"]"
   ]
  },
  {
   "cell_type": "code",
   "execution_count": 21,
   "metadata": {},
   "outputs": [],
   "source": [
    "#최종계산_100\n",
    "df_channel_k[\"정량지수_100\"]=(df_channel_k['산출물수_100']+df_channel_k['최근산출물수_100']+df_channel_k['정량개선도_100'])/3\n",
    "df_channel_k[\"정성지수_100\"]=(df_channel_k['구독자수_100']+df_channel_k['총조회수_100']+df_channel_k['총좋아요수_100']+df_channel_k['MAU_100'])/4\n",
    "df_channel_k[\"종합홍보지수_100\"]=df_channel_k[\"정량지수_100\"]*0.29+df_channel_k[\"정성지수_100\"]*0.71"
   ]
  },
  {
   "cell_type": "code",
   "execution_count": 22,
   "metadata": {},
   "outputs": [],
   "source": [
    "#최종계산_zscore\n",
    "df_channel_k[\"정량지수_zscore\"]=(df_channel_k['산출물수_zscore']+df_channel_k['최근산출물수_zscore']+df_channel_k['정량개선도_zscore'])/3\n",
    "df_channel_k[\"정성지수_zscore\"]=(df_channel_k['구독자수_zscore']+df_channel_k['총조회수_zscore']+df_channel_k['총좋아요수_zscore']+df_channel_k['MAU_zscore'])/4\n",
    "df_channel_k[\"종합홍보지수_zscore\"]=df_channel_k[\"정량지수_zscore\"]*0.29+df_channel_k[\"정성지수_zscore\"]*0.71"
   ]
  },
  {
   "cell_type": "code",
   "execution_count": 23,
   "metadata": {},
   "outputs": [],
   "source": [
    "#drop columns not open for clients\n",
    "df_channel_k=df_channel_k.drop(['6M_viewCount', '6M_video','6M_likeCount', '6M_dislikeCount', '6M_commentCount','최근산출물수', '총댓글수', '조회수개선도', '좋아요개선도', '댓글수개선도','정성개선도', '산출물수_100', '최근산출물수_100', '구독자수_100', '총조회수_100',\n",
    "       '총좋아요수_100', '총싫어요수_100', '총댓글수_100', 'MAU_100', '최근조회수_100',\n",
    "       '최근좋아요수_100', '최근싫어요수_100', '최근댓글수_100', '산출물수_zscore', '최근산출물수_zscore',\n",
    "       '구독자수_zscore', '총조회수_zscore', '총좋아요수_zscore',\n",
    "       '총싫어요수_zscore', '총댓글수_zscore', 'MAU_zscore', '최근조회수_zscore',\n",
    "       '최근좋아요수_zscore', '최근싫어요수_zscore', '최근댓글수_zscore'], axis=1)"
   ]
  },
  {
   "cell_type": "code",
   "execution_count": 24,
   "metadata": {},
   "outputs": [],
   "source": [
    "df_channel_k.to_csv(\"JHJ.csv\")"
   ]
  }
 ]
}
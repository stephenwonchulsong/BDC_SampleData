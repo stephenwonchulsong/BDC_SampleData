{
 "metadata": {
  "language_info": {
   "codemirror_mode": {
    "name": "ipython",
    "version": 3
   },
   "file_extension": ".py",
   "mimetype": "text/x-python",
   "name": "python",
   "nbconvert_exporter": "python",
   "pygments_lexer": "ipython3",
   "version": "3.8.3-final"
  },
  "orig_nbformat": 2,
  "kernelspec": {
   "name": "python3",
   "display_name": "Python 3"
  }
 },
 "nbformat": 4,
 "nbformat_minor": 2,
 "cells": [
  {
   "cell_type": "code",
   "execution_count": 1,
   "metadata": {},
   "outputs": [],
   "source": [
    "import pandas as pd\n",
    "import numpy as np\n",
    "import os"
   ]
  },
  {
   "cell_type": "code",
   "execution_count": 2,
   "metadata": {},
   "outputs": [],
   "source": [
    "#loading channels sheet\n",
    "from os import listdir\n",
    "filepaths=[\"./channel/day=25/hour=17/\"+f for f in listdir(\"./channel/day=25/hour=17/\") if f.endswith('.csv')]\n",
    "rawchan=[]\n",
    "for filename in filepaths:\n",
    "    temp=pd.read_csv(filename, header=0, sep=\"|\")\n",
    "    rawchan.append(temp)\n",
    "df_channel=pd.concat(rawchan, axis=0, ignore_index=True)"
   ]
  },
  {
   "cell_type": "code",
   "execution_count": 3,
   "metadata": {
    "tags": []
   },
   "outputs": [
    {
     "output_type": "stream",
     "name": "stderr",
     "text": "b'Skipping line 294: expected 16 fields, saw 17\\n'\nb'Skipping line 18: expected 16 fields, saw 17\\n'\nb'Skipping line 191: expected 16 fields, saw 17\\n'\nb'Skipping line 86: expected 16 fields, saw 17\\n'\nb'Skipping line 206: expected 16 fields, saw 17\\n'\nb'Skipping line 23: expected 16 fields, saw 17\\n'\n"
    }
   ],
   "source": [
    "#loading video sheets\n",
    "rawvideo=[]\n",
    "filepaths=[\"./video/day=25/hour=17/\"+f for f in listdir(\"./video/day=25/hour=17/\") if f.endswith(\".csv\")]\n",
    "for filename in filepaths:\n",
    "    temp=pd.read_csv(filename, header=0, sep=\"|\", error_bad_lines=False)\n",
    "    rawvideo.append(temp)\n",
    "df_video=pd.concat(rawvideo, axis=0, ignore_index=True)"
   ]
  },
  {
   "cell_type": "code",
   "execution_count": 4,
   "metadata": {
    "tags": []
   },
   "outputs": [
    {
     "output_type": "execute_result",
     "data": {
      "text/plain": "Index(['id', 'title', 'collectedTime', 'category', 'sub_category',\n       'description', 'publishedAt', 'thumbnailUrl', 'country', 'viewCount',\n       'commentCount', 'subscriberCount', 'hiddenSubscriberCount',\n       'videoCount', 'keywords', 'unsubscribedTrailer'],\n      dtype='object')"
     },
     "metadata": {},
     "execution_count": 4
    }
   ],
   "source": [
    "df_channel.columns"
   ]
  },
  {
   "cell_type": "code",
   "execution_count": 5,
   "metadata": {},
   "outputs": [],
   "source": [
    "#remove commentCount and rename channelId\n",
    "df_channel=df_channel.drop([\"commentCount\"], axis=1)\n",
    "df_channel=df_channel.rename(columns={\"id\":\"channelId\"})"
   ]
  },
  {
   "cell_type": "code",
   "execution_count": 6,
   "metadata": {},
   "outputs": [],
   "source": [
    "#date and time conversion\n",
    "df_channel[\"collectedTime\"]=pd.to_datetime(df_channel.collectedTime)\n",
    "df_channel[\"publishedAt\"]=pd.to_datetime(df_channel.publishedAt)"
   ]
  },
  {
   "cell_type": "code",
   "execution_count": 7,
   "metadata": {
    "tags": []
   },
   "outputs": [
    {
     "output_type": "execute_result",
     "data": {
      "text/plain": "Index(['id', 'collectedTime', 'publishedAt', 'channelId', 'title',\n       'description', 'thumbnailUrl', 'tags', 'category', 'defaultLanguage',\n       'duration', 'caption', 'viewCount', 'likeCount', 'dislikeCount',\n       'commentCount'],\n      dtype='object')"
     },
     "metadata": {},
     "execution_count": 7
    }
   ],
   "source": [
    "df_video.columns"
   ]
  },
  {
   "cell_type": "code",
   "execution_count": 8,
   "metadata": {},
   "outputs": [],
   "source": [
    "#rename videoId\n",
    "df_video=df_video.rename(columns={\"id\":\"videoId\"})"
   ]
  },
  {
   "cell_type": "code",
   "execution_count": 9,
   "metadata": {},
   "outputs": [],
   "source": [
    "#date and time conversion\n",
    "df_video[\"collectedTime\"]=pd.to_datetime(df_video.collectedTime)\n",
    "df_video[\"publishedAt\"]=pd.to_datetime(df_video.publishedAt)"
   ]
  },
  {
   "cell_type": "code",
   "execution_count": 10,
   "metadata": {},
   "outputs": [],
   "source": [
    "#title and category from channel to video\n",
    "chtovid=df_channel[[\"channelId\", \"title\", \"category\", \"sub_category\"]]#creating sub df#creating sub df\n",
    "chtovid=chtovid.rename(columns={\"channelId\":\"channelId\", \"title\":\"ch_title\", \"category\":\"ch_category\", \"sub_category\":\"ch_sub_category\"})"
   ]
  },
  {
   "cell_type": "code",
   "execution_count": 11,
   "metadata": {},
   "outputs": [
    {
     "output_type": "execute_result",
     "data": {
      "text/plain": "             videoId       collectedTime               publishedAt  \\\n0        DA_97MOLtLY 2020-07-25 20:39:15 2020-07-22 07:00:03+00:00   \n1        qCpfRmh7CVA 2020-07-25 20:39:15 2020-07-16 09:51:27+00:00   \n2        L-490gbXdoQ 2020-07-25 20:39:15 2020-07-16 01:12:20+00:00   \n3        RzmdfF4JmgE 2020-07-25 20:39:15 2020-07-15 07:22:55+00:00   \n4        wfISuuWRS3U 2020-07-25 20:39:15 2020-07-15 02:14:50+00:00   \n...              ...                 ...                       ...   \n2261803  HIfP-Ls-kEs 2020-07-25 17:46:31 2016-03-12 00:27:02+00:00   \n2261804  fHy9ZPucIXE 2020-07-25 17:46:31 2016-03-10 14:16:03+00:00   \n2261805  OnTXx2XxGws 2020-07-25 17:46:31 2016-03-10 14:12:32+00:00   \n2261806  b-2yovlkbVw 2020-07-25 17:46:31 2016-03-10 14:10:07+00:00   \n2261807  zntbYJ3vCsU 2020-07-25 17:46:31 2016-03-10 14:07:14+00:00   \n\n                        channelId                                title  \\\n0        UC-8R1d-KQrZy_7-EvE_w9Nw                 세차할 때 가장 필요한 것은 무엇?!   \n1        UC-8R1d-KQrZy_7-EvE_w9Nw          인천 서구 지역 유충 수돗물 피해와 관련한 QnA   \n2        UC-8R1d-KQrZy_7-EvE_w9Nw            무더위, 코로나19 극복 방법~! 극뽁~!😊💕   \n3        UC-8R1d-KQrZy_7-EvE_w9Nw       [나 없이 잘 될 것 같니?] 이거 없음 빨래 안됨~!   \n4        UC-8R1d-KQrZy_7-EvE_w9Nw             상수~ 상수도사업본부 기술부장님을 만나봤다!   \n...                           ...                                  ...   \n2261803  UCsU-I-vHLiaMfV_ceaYz5rQ          밤샘토론 43회 - 여야 공천 파동, 그 결말은?   \n2261804  UCsU-I-vHLiaMfV_ceaYz5rQ       [팩트체크] 커지는 '인공지능'에 대한 공포, 사실은…   \n2261805  UCsU-I-vHLiaMfV_ceaYz5rQ       [밀착카메라] 전자파에 노출된 유치원…차폐시설 필요\"\"   \n2261806  UCsU-I-vHLiaMfV_ceaYz5rQ       [앵커브리핑] '구화지문 설참신도(口禍之門 舌斬身刀)'   \n2261807  UCsU-I-vHLiaMfV_ceaYz5rQ  [인터뷰 풀영상] '독수리 에디' 휴 잭맨-태런 에저튼을 만나다   \n\n                                               description  \\\n0                세차할 때 가장 필요한 것은 두구두구두구...  바로~~~ 이것!!! 😂👍   \n1        인천 서구 지역 유충 수돗물 피해와 관련한 QnA를 소개해드립니다~!   출처 : ...   \n2        무더위, 코로나19 극복 방법~! 극뽁~! 수돗물홍보협의회와 KBS N이 함께 합니...   \n3                           [나 없이 잘 될 것 같니?] 이거 없음 빨래 안됨~!   \n4               상수~ 상수도사업본부 기술부장님을 만나봤다!  #광주 수돗물 안전관리 간담회   \n...                                                    ...   \n2261803  뜨거운 토론으로 금요일 밤 잠을 깨우는 JTBC '밤샘토론'에서는 이번 주 금요일밤...   \n2261804  방송사 : JTBC http:www.jtbc.co.kr ▶ JTBC 뉴스룸 월~일 ...   \n2261805  방송사 : JTBC http:www.jtbc.co.kr ▶ JTBC 뉴스룸 월~일 ...   \n2261806  방송사 : JTBC http:www.jtbc.co.kr ▶ JTBC 뉴스룸 월~일 ...   \n2261807  방송사 : JTBC http:www.jtbc.co.kr ▶ JTBC 뉴스룸 월~일 ...   \n\n                                           thumbnailUrl  \\\n0        https://i.ytimg.com/vi/DA_97MOLtLY/default.jpg   \n1        https://i.ytimg.com/vi/qCpfRmh7CVA/default.jpg   \n2        https://i.ytimg.com/vi/L-490gbXdoQ/default.jpg   \n3        https://i.ytimg.com/vi/RzmdfF4JmgE/default.jpg   \n4        https://i.ytimg.com/vi/wfISuuWRS3U/default.jpg   \n...                                                 ...   \n2261803  https://i.ytimg.com/vi/HIfP-Ls-kEs/default.jpg   \n2261804  https://i.ytimg.com/vi/fHy9ZPucIXE/default.jpg   \n2261805  https://i.ytimg.com/vi/OnTXx2XxGws/default.jpg   \n2261806  https://i.ytimg.com/vi/b-2yovlkbVw/default.jpg   \n2261807  https://i.ytimg.com/vi/zntbYJ3vCsU/default.jpg   \n\n                                                      tags category  \\\n0                                 세차차량나없이잘될것같니?필수품비오지마맑은날씨       29   \n1                                       수돗물유충인천서구피해qna질문답변       29   \n2                  수돗물무더위코로나19코로나극복초복캠페인오효주아나운서요새유행유행아무노래밈       29   \n3                   오아시수오아시수티비웹드라마유튜브드라마물에는힘이있다수돗물캠페인환경캠페인       29   \n4                   오아시수오아시수티비수돗물환경캠페인광주상수도사업본부수돗물캠페인광주광역시       29   \n...                                                    ...      ...   \n2261803  JTBC밤샘토론신애리밤토론여야 공천여야 공천 파동결말금요일4.13총선공천 개혁김무성...       25   \n2261804  이세돌 1승불계승연구김필규바둑한돌 대국뉴스시계수선공자율주행차jtbcAI회계사손석희뉴...       25   \n2261805  JTBCJTBC NEWSJTBC 뉴스뉴스룸뉴스9손석희손석희 뉴스전자파송전선고압송전선...       25   \n2261806  JTBCJTBC NEWSJTBC 뉴스뉴스룸뉴스9손석희손석희 뉴스스워드라인새누리당윤상...       25   \n2261807  JTBCJTBC NEWSJTBC 뉴스뉴스룸뉴스9손석희손석희 뉴스휴 잭맨태런 에저튼독...       25   \n\n        defaultLanguage    duration caption  viewCount  likeCount  \\\n0                   NaN       PT58S   False      319.0        3.0   \n1                   NaN     PT2M22S   False       41.0        4.0   \n2                   NaN       PT31S   False     1125.0        6.0   \n3                   NaN       PT56S   False     2404.0        4.0   \n4                   NaN     PT2M55S   False      208.0        3.0   \n...                 ...         ...     ...        ...        ...   \n2261803             NaN  PT2H24M10S   false    29250.0       52.0   \n2261804             NaN      PT6M1S   false   121701.0      567.0   \n2261805             NaN     PT4M21S   false     1716.0       18.0   \n2261806             NaN        PT3M   false    17651.0      235.0   \n2261807              en     PT13M7S    true   208317.0     1381.0   \n\n         dislikeCount  commentCount         ch_title ch_category  \\\n0                 0.0           0.0  오아시수TV_수돗물홍보협의회           P   \n1                 0.0           1.0  오아시수TV_수돗물홍보협의회           P   \n2                 0.0           2.0  오아시수TV_수돗물홍보협의회           P   \n3                 0.0           0.0  오아시수TV_수돗물홍보협의회           P   \n4                 0.0           0.0  오아시수TV_수돗물홍보협의회           P   \n...               ...           ...              ...         ...   \n2261803          10.0          28.0        JTBC News           T   \n2261804          32.0         125.0        JTBC News           T   \n2261805           0.0           7.0        JTBC News           T   \n2261806           2.0           2.0        JTBC News           T   \n2261807          41.0          97.0        JTBC News           T   \n\n        ch_sub_category  \n0                   PSL  \n1                   PSL  \n2                   PSL  \n3                   PSL  \n4                   PSL  \n...                 ...  \n2261803             TJT  \n2261804             TJT  \n2261805             TJT  \n2261806             TJT  \n2261807             TJT  \n\n[2261808 rows x 19 columns]",
      "text/html": "<div>\n<style scoped>\n    .dataframe tbody tr th:only-of-type {\n        vertical-align: middle;\n    }\n\n    .dataframe tbody tr th {\n        vertical-align: top;\n    }\n\n    .dataframe thead th {\n        text-align: right;\n    }\n</style>\n<table border=\"1\" class=\"dataframe\">\n  <thead>\n    <tr style=\"text-align: right;\">\n      <th></th>\n      <th>videoId</th>\n      <th>collectedTime</th>\n      <th>publishedAt</th>\n      <th>channelId</th>\n      <th>title</th>\n      <th>description</th>\n      <th>thumbnailUrl</th>\n      <th>tags</th>\n      <th>category</th>\n      <th>defaultLanguage</th>\n      <th>duration</th>\n      <th>caption</th>\n      <th>viewCount</th>\n      <th>likeCount</th>\n      <th>dislikeCount</th>\n      <th>commentCount</th>\n      <th>ch_title</th>\n      <th>ch_category</th>\n      <th>ch_sub_category</th>\n    </tr>\n  </thead>\n  <tbody>\n    <tr>\n      <th>0</th>\n      <td>DA_97MOLtLY</td>\n      <td>2020-07-25 20:39:15</td>\n      <td>2020-07-22 07:00:03+00:00</td>\n      <td>UC-8R1d-KQrZy_7-EvE_w9Nw</td>\n      <td>세차할 때 가장 필요한 것은 무엇?!</td>\n      <td>세차할 때 가장 필요한 것은 두구두구두구...  바로~~~ 이것!!! 😂👍</td>\n      <td>https://i.ytimg.com/vi/DA_97MOLtLY/default.jpg</td>\n      <td>세차차량나없이잘될것같니?필수품비오지마맑은날씨</td>\n      <td>29</td>\n      <td>NaN</td>\n      <td>PT58S</td>\n      <td>False</td>\n      <td>319.0</td>\n      <td>3.0</td>\n      <td>0.0</td>\n      <td>0.0</td>\n      <td>오아시수TV_수돗물홍보협의회</td>\n      <td>P</td>\n      <td>PSL</td>\n    </tr>\n    <tr>\n      <th>1</th>\n      <td>qCpfRmh7CVA</td>\n      <td>2020-07-25 20:39:15</td>\n      <td>2020-07-16 09:51:27+00:00</td>\n      <td>UC-8R1d-KQrZy_7-EvE_w9Nw</td>\n      <td>인천 서구 지역 유충 수돗물 피해와 관련한 QnA</td>\n      <td>인천 서구 지역 유충 수돗물 피해와 관련한 QnA를 소개해드립니다~!   출처 : ...</td>\n      <td>https://i.ytimg.com/vi/qCpfRmh7CVA/default.jpg</td>\n      <td>수돗물유충인천서구피해qna질문답변</td>\n      <td>29</td>\n      <td>NaN</td>\n      <td>PT2M22S</td>\n      <td>False</td>\n      <td>41.0</td>\n      <td>4.0</td>\n      <td>0.0</td>\n      <td>1.0</td>\n      <td>오아시수TV_수돗물홍보협의회</td>\n      <td>P</td>\n      <td>PSL</td>\n    </tr>\n    <tr>\n      <th>2</th>\n      <td>L-490gbXdoQ</td>\n      <td>2020-07-25 20:39:15</td>\n      <td>2020-07-16 01:12:20+00:00</td>\n      <td>UC-8R1d-KQrZy_7-EvE_w9Nw</td>\n      <td>무더위, 코로나19 극복 방법~! 극뽁~!😊💕</td>\n      <td>무더위, 코로나19 극복 방법~! 극뽁~! 수돗물홍보협의회와 KBS N이 함께 합니...</td>\n      <td>https://i.ytimg.com/vi/L-490gbXdoQ/default.jpg</td>\n      <td>수돗물무더위코로나19코로나극복초복캠페인오효주아나운서요새유행유행아무노래밈</td>\n      <td>29</td>\n      <td>NaN</td>\n      <td>PT31S</td>\n      <td>False</td>\n      <td>1125.0</td>\n      <td>6.0</td>\n      <td>0.0</td>\n      <td>2.0</td>\n      <td>오아시수TV_수돗물홍보협의회</td>\n      <td>P</td>\n      <td>PSL</td>\n    </tr>\n    <tr>\n      <th>3</th>\n      <td>RzmdfF4JmgE</td>\n      <td>2020-07-25 20:39:15</td>\n      <td>2020-07-15 07:22:55+00:00</td>\n      <td>UC-8R1d-KQrZy_7-EvE_w9Nw</td>\n      <td>[나 없이 잘 될 것 같니?] 이거 없음 빨래 안됨~!</td>\n      <td>[나 없이 잘 될 것 같니?] 이거 없음 빨래 안됨~!</td>\n      <td>https://i.ytimg.com/vi/RzmdfF4JmgE/default.jpg</td>\n      <td>오아시수오아시수티비웹드라마유튜브드라마물에는힘이있다수돗물캠페인환경캠페인</td>\n      <td>29</td>\n      <td>NaN</td>\n      <td>PT56S</td>\n      <td>False</td>\n      <td>2404.0</td>\n      <td>4.0</td>\n      <td>0.0</td>\n      <td>0.0</td>\n      <td>오아시수TV_수돗물홍보협의회</td>\n      <td>P</td>\n      <td>PSL</td>\n    </tr>\n    <tr>\n      <th>4</th>\n      <td>wfISuuWRS3U</td>\n      <td>2020-07-25 20:39:15</td>\n      <td>2020-07-15 02:14:50+00:00</td>\n      <td>UC-8R1d-KQrZy_7-EvE_w9Nw</td>\n      <td>상수~ 상수도사업본부 기술부장님을 만나봤다!</td>\n      <td>상수~ 상수도사업본부 기술부장님을 만나봤다!  #광주 수돗물 안전관리 간담회</td>\n      <td>https://i.ytimg.com/vi/wfISuuWRS3U/default.jpg</td>\n      <td>오아시수오아시수티비수돗물환경캠페인광주상수도사업본부수돗물캠페인광주광역시</td>\n      <td>29</td>\n      <td>NaN</td>\n      <td>PT2M55S</td>\n      <td>False</td>\n      <td>208.0</td>\n      <td>3.0</td>\n      <td>0.0</td>\n      <td>0.0</td>\n      <td>오아시수TV_수돗물홍보협의회</td>\n      <td>P</td>\n      <td>PSL</td>\n    </tr>\n    <tr>\n      <th>...</th>\n      <td>...</td>\n      <td>...</td>\n      <td>...</td>\n      <td>...</td>\n      <td>...</td>\n      <td>...</td>\n      <td>...</td>\n      <td>...</td>\n      <td>...</td>\n      <td>...</td>\n      <td>...</td>\n      <td>...</td>\n      <td>...</td>\n      <td>...</td>\n      <td>...</td>\n      <td>...</td>\n      <td>...</td>\n      <td>...</td>\n      <td>...</td>\n    </tr>\n    <tr>\n      <th>2261803</th>\n      <td>HIfP-Ls-kEs</td>\n      <td>2020-07-25 17:46:31</td>\n      <td>2016-03-12 00:27:02+00:00</td>\n      <td>UCsU-I-vHLiaMfV_ceaYz5rQ</td>\n      <td>밤샘토론 43회 - 여야 공천 파동, 그 결말은?</td>\n      <td>뜨거운 토론으로 금요일 밤 잠을 깨우는 JTBC '밤샘토론'에서는 이번 주 금요일밤...</td>\n      <td>https://i.ytimg.com/vi/HIfP-Ls-kEs/default.jpg</td>\n      <td>JTBC밤샘토론신애리밤토론여야 공천여야 공천 파동결말금요일4.13총선공천 개혁김무성...</td>\n      <td>25</td>\n      <td>NaN</td>\n      <td>PT2H24M10S</td>\n      <td>false</td>\n      <td>29250.0</td>\n      <td>52.0</td>\n      <td>10.0</td>\n      <td>28.0</td>\n      <td>JTBC News</td>\n      <td>T</td>\n      <td>TJT</td>\n    </tr>\n    <tr>\n      <th>2261804</th>\n      <td>fHy9ZPucIXE</td>\n      <td>2020-07-25 17:46:31</td>\n      <td>2016-03-10 14:16:03+00:00</td>\n      <td>UCsU-I-vHLiaMfV_ceaYz5rQ</td>\n      <td>[팩트체크] 커지는 '인공지능'에 대한 공포, 사실은…</td>\n      <td>방송사 : JTBC http:www.jtbc.co.kr ▶ JTBC 뉴스룸 월~일 ...</td>\n      <td>https://i.ytimg.com/vi/fHy9ZPucIXE/default.jpg</td>\n      <td>이세돌 1승불계승연구김필규바둑한돌 대국뉴스시계수선공자율주행차jtbcAI회계사손석희뉴...</td>\n      <td>25</td>\n      <td>NaN</td>\n      <td>PT6M1S</td>\n      <td>false</td>\n      <td>121701.0</td>\n      <td>567.0</td>\n      <td>32.0</td>\n      <td>125.0</td>\n      <td>JTBC News</td>\n      <td>T</td>\n      <td>TJT</td>\n    </tr>\n    <tr>\n      <th>2261805</th>\n      <td>OnTXx2XxGws</td>\n      <td>2020-07-25 17:46:31</td>\n      <td>2016-03-10 14:12:32+00:00</td>\n      <td>UCsU-I-vHLiaMfV_ceaYz5rQ</td>\n      <td>[밀착카메라] 전자파에 노출된 유치원…차폐시설 필요\"\"</td>\n      <td>방송사 : JTBC http:www.jtbc.co.kr ▶ JTBC 뉴스룸 월~일 ...</td>\n      <td>https://i.ytimg.com/vi/OnTXx2XxGws/default.jpg</td>\n      <td>JTBCJTBC NEWSJTBC 뉴스뉴스룸뉴스9손석희손석희 뉴스전자파송전선고압송전선...</td>\n      <td>25</td>\n      <td>NaN</td>\n      <td>PT4M21S</td>\n      <td>false</td>\n      <td>1716.0</td>\n      <td>18.0</td>\n      <td>0.0</td>\n      <td>7.0</td>\n      <td>JTBC News</td>\n      <td>T</td>\n      <td>TJT</td>\n    </tr>\n    <tr>\n      <th>2261806</th>\n      <td>b-2yovlkbVw</td>\n      <td>2020-07-25 17:46:31</td>\n      <td>2016-03-10 14:10:07+00:00</td>\n      <td>UCsU-I-vHLiaMfV_ceaYz5rQ</td>\n      <td>[앵커브리핑] '구화지문 설참신도(口禍之門 舌斬身刀)'</td>\n      <td>방송사 : JTBC http:www.jtbc.co.kr ▶ JTBC 뉴스룸 월~일 ...</td>\n      <td>https://i.ytimg.com/vi/b-2yovlkbVw/default.jpg</td>\n      <td>JTBCJTBC NEWSJTBC 뉴스뉴스룸뉴스9손석희손석희 뉴스스워드라인새누리당윤상...</td>\n      <td>25</td>\n      <td>NaN</td>\n      <td>PT3M</td>\n      <td>false</td>\n      <td>17651.0</td>\n      <td>235.0</td>\n      <td>2.0</td>\n      <td>2.0</td>\n      <td>JTBC News</td>\n      <td>T</td>\n      <td>TJT</td>\n    </tr>\n    <tr>\n      <th>2261807</th>\n      <td>zntbYJ3vCsU</td>\n      <td>2020-07-25 17:46:31</td>\n      <td>2016-03-10 14:07:14+00:00</td>\n      <td>UCsU-I-vHLiaMfV_ceaYz5rQ</td>\n      <td>[인터뷰 풀영상] '독수리 에디' 휴 잭맨-태런 에저튼을 만나다</td>\n      <td>방송사 : JTBC http:www.jtbc.co.kr ▶ JTBC 뉴스룸 월~일 ...</td>\n      <td>https://i.ytimg.com/vi/zntbYJ3vCsU/default.jpg</td>\n      <td>JTBCJTBC NEWSJTBC 뉴스뉴스룸뉴스9손석희손석희 뉴스휴 잭맨태런 에저튼독...</td>\n      <td>25</td>\n      <td>en</td>\n      <td>PT13M7S</td>\n      <td>true</td>\n      <td>208317.0</td>\n      <td>1381.0</td>\n      <td>41.0</td>\n      <td>97.0</td>\n      <td>JTBC News</td>\n      <td>T</td>\n      <td>TJT</td>\n    </tr>\n  </tbody>\n</table>\n<p>2261808 rows × 19 columns</p>\n</div>"
     },
     "metadata": {},
     "execution_count": 11
    }
   ],
   "source": [
    "#merge above title and category to video\n",
    "df_video2=pd.merge(df_video, chtovid, on=\"channelId\")"
   ]
  },
  {
   "cell_type": "code",
   "execution_count": null,
   "metadata": {},
   "outputs": [],
   "source": []
  },
  {
   "cell_type": "code",
   "execution_count": 15,
   "metadata": {},
   "outputs": [],
   "source": [
    "#parse date out of publishedAt from df_video\n",
    "df_video[\"pubDate\"]=df_video.publishedAt.astype(str).str[:-15]\n",
    "df_video[\"pubDate\"]=pd.to_datetime(df_video.pubDate)"
   ]
  },
  {
   "cell_type": "code",
   "execution_count": 16,
   "metadata": {},
   "outputs": [],
   "source": [
    "#parse date out of publishedAt from df_channel\n",
    "df_channel[\"pubDate\"]=df_channel.publishedAt.astype(str).str[:-15]\n",
    "df_channel[\"pubDate\"]=pd.to_datetime(df_channel.pubDate)"
   ]
  },
  {
   "cell_type": "code",
   "execution_count": 17,
   "metadata": {},
   "outputs": [],
   "source": [
    "df_channel[\"colDate\"]=df_channel.collectedTime.astype(str).str[:-15]\n",
    "df_channel[\"colDate\"]=pd.to_datetime(df_channel.colDate)"
   ]
  },
  {
   "cell_type": "code",
   "execution_count": 18,
   "metadata": {},
   "outputs": [],
   "source": [
    "df_channel[\"circa_D\"] = (df_channel.colDate - df_channel.pubDate).dt.days"
   ]
  },
  {
   "cell_type": "code",
   "execution_count": 19,
   "metadata": {},
   "outputs": [],
   "source": [
    "#get the last 1-day data\n",
    "df1D=df_video.set_index(\"pubDate\").sort_index().last(\"1D\")\n",
    "df1D=df1D.reset_index()\n",
    "#get the last 1-week data\n",
    "df1W=df_video.set_index(\"pubDate\").sort_index().last(\"1W\")\n",
    "df1W=df1W.reset_index()\n",
    "#get the last 1-month data\n",
    "df1M=df_video.set_index(\"pubDate\").sort_index().last(\"1M\")\n",
    "df1M=df1M.reset_index()\n",
    "#get the last 3-month data\n",
    "df3M=df_video.set_index(\"pubDate\").sort_index().last(\"3M\")\n",
    "df3M=df3M.reset_index()\n",
    "#get the last 6-month data\n",
    "df6M=df_video.set_index(\"pubDate\").sort_index().last(\"6M\")\n",
    "df6M=df6M.reset_index()\n",
    "#get the last 1-year data\n",
    "df1Y=df_video.set_index(\"pubDate\").sort_index().last(\"1Y\")\n",
    "df1Y=df1Y.reset_index()"
   ]
  },
  {
   "cell_type": "code",
   "execution_count": 34,
   "metadata": {},
   "outputs": [],
   "source": [
    "#extract commentCount, like, dislike, view\n",
    "#total\n",
    "like=df_video.groupby([\"channelId\"]).sum()#get sum\n",
    "# like=like.drop([\"viewCount\", \"commentCount\"], axis=1).reset_index()#drop pointless columns and reset index\n",
    "df_channel=pd.merge(df_channel, like, on=\"channelId\")#merge like and channel\n",
    "#1D\n",
    "df1D=df1D.rename(columns={\"viewCount\":\"viewCount_1D\", \"likeCount\":\"likeCount_1D\", \"dislikeCount\":\"dislikeCount_1D\" ,\"commentCount\":\"commentCount_1D\"})\n",
    "like=df1D.groupby([\"channelId\"]).sum()#get sum\n",
    "like=like.reset_index()\n",
    "df_channel=pd.merge(df_channel, like, on=\"channelId\")#merge like and channel\n",
    "#1W\n",
    "df1W=df1W.rename(columns={\"viewCount\":\"viewCount_1W\", \"likeCount\":\"likeCount_1W\", \"dislikeCount\":\"dislikeCount_1W\", \"commentCount\":\"commentCount_1W\"})\n",
    "like=df1W.groupby([\"channelId\"]).sum()#get sum\n",
    "like=like.reset_index()\n",
    "df_channel=pd.merge(df_channel, like, on=\"channelId\")#merge like and channel\n",
    "#1M\n",
    "df1M=df1M.rename(columns={\"viewCount\":\"viewCount_1M\", \"likeCount\":\"likeCount_1M\", \"dislikeCount\":\"dislikeCount_1M\", \"commentCount\":\"commentCount_1M\"})\n",
    "like=df1M.groupby([\"channelId\"]).sum()#get sum\n",
    "like=like.reset_index()\n",
    "df_channel=pd.merge(df_channel, like, on=\"channelId\")#merge like and channel\n",
    "#3M\n",
    "df3M=df3M.rename(columns={\"viewCount\":\"viewCount_3M\", \"likeCount\":\"likeCount_3M\", \"dislikeCount\":\"dislikeCount_3M\", \"commentCount\":\"commentCount_3M\"})\n",
    "like=df3M.groupby([\"channelId\"]).sum()#get sum\n",
    "like=like.reset_index()\n",
    "df_channel=pd.merge(df_channel, like, on=\"channelId\")#merge like and channel\n",
    "#6M\n",
    "df6M=df6M.rename(columns={\"viewCount\":\"viewCount_6M\", \"likeCount\":\"likeCount_6M\", \"dislikeCount\":\"dislikeCount_6M\", \"commentCount\":\"commentCount_6M\"})\n",
    "like=df6M.groupby([\"channelId\"]).sum()#get sum\n",
    "like=like.reset_index()\n",
    "df_channel=pd.merge(df_channel, like, on=\"channelId\")#merge like and channel\n",
    "#1Y\n",
    "df1Y=df1Y.rename(columns={\"viewCount\":\"viewCount_1Y\", \"likeCount\":\"likeCount_1Y\", \"dislikeCount\":\"dislikeCount_1Y\",\"commentCount\":\"commentCount_1Y\"})\n",
    "like=df1Y.groupby([\"channelId\"]).sum()#get sum\n",
    "like=like.reset_index()\n",
    "df_channel=pd.merge(df_channel, like, on=\"channelId\")#merge like and channel"
   ]
  },
  {
   "cell_type": "code",
   "execution_count": 21,
   "metadata": {},
   "outputs": [],
   "source": [
    "# df_F1W = df_video.sort_values([\"channelId\"], ascending=True).groupby([\"channelId\"], sort=False).apply(lambda x: x.sort_values([\"pubDate\"], ascending=True)).reset_index(drop=True)"
   ]
  },
  {
   "cell_type": "code",
   "execution_count": 22,
   "metadata": {},
   "outputs": [],
   "source": [
    "# df_F1W = df_video.set_index([\"channelId\", \"pubDate\"]).sort_values([\"channelId\", \"pubDate\"], agroupby(\"channelId\")\n",
    "# df_F1W.head()"
   ]
  },
  {
   "cell_type": "code",
   "execution_count": 23,
   "metadata": {},
   "outputs": [],
   "source": [
    "# df_F1W = df_video.set_index([\"pubDate\"]).sort_values([\"pubDate\"], ascending=True).groupby(\"channelId\").first(\"1W\")\n",
    "# df_F1W.head()"
   ]
  },
  {
   "cell_type": "code",
   "execution_count": 35,
   "metadata": {},
   "outputs": [
    {
     "output_type": "execute_result",
     "data": {
      "text/plain": "                    channelId                            title  \\\n0    UC5HSw5OY2vfVFSihpiB-AVQ                        TBS 시민의방송   \n1    UCaBwNyKKjDaYIzS8dhyaXBA                          GugakTV   \n2    UClEbJ_3EMk26pJ3Qun7QRMw  전쟁기념관 The War Memorial of Korea   \n3    UChqGvsUJKv4d9zIkmIUda8Q                             의정부시   \n4    UC02QEY0SPjAtOM8C4XBaG3g                              안양시   \n..                        ...                              ...   \n180  UCD4PvWa8T2SpKo3Ml6KUpKg                              치킨쿤   \n181  UCbbC0FaznmgJDuehIuQvYMA                           뚜아뚜지TV   \n182  UCEM711HSGyGQQWkmzoiev8g                East2WestOfficial   \n183  UCsU-I-vHLiaMfV_ceaYz5rQ                        JTBC News   \n184  UCG9aFJTZ-lMCHAiO1KJsirg                         MBN News   \n\n          collectedTime category sub_category  \\\n0   2020-07-25 17:40:42        P          PSL   \n1   2020-07-25 17:40:42        P          PSL   \n2   2020-07-25 17:40:42        P          PSL   \n3   2020-07-25 17:40:42        P          PGG   \n4   2020-07-25 17:40:42        P          PGG   \n..                  ...      ...          ...   \n180 2020-07-25 17:40:42        M          MSB   \n181 2020-07-25 17:40:42        M          MDT   \n182 2020-07-25 17:40:42        M          MDT   \n183 2020-07-25 17:40:42        T          TJT   \n184 2020-07-25 17:40:42        T          TMN   \n\n                                           description  \\\n0    시민에 의한, 시민을 위한! 시민의 품격을 높여 주는 [TBS 시민의방송]  ▣ 제...   \n1    (재)국악방송은 국내 유일 한국문화예술 전문 방송으로 다음의 채널에서 시청하실 수 ...   \n2    전쟁의 교훈과 평화의 소중함을 느낄 수 있는 곳! 국민과 함께하는, 스토리가 있는,...   \n3                            의정부시청 공식 유튜브입니다. 구독  알림\"\"   \n4    안양시 공식 유튜브 '안녕, 안양TV' 입니다.  안양시의 다양한 소식을 발빠르게 ...   \n..                                                 ...   \n180                     '-^) ~★ 메일 : pabiibap@daum.net   \n181  쌍둥이 뚜아,뚜지(수아,수지)의 유튜브 계정입니다. 꿀잼영상 많이 업로드 할거니까 ...   \n182  ‘East2West’ is a K-pop cover performance crew ...   \n183  Welcome to the official JTBC News Channel.  Ea...   \n184  「공정 신뢰 품격」이 있는 MBN 뉴스 !  유튜브 MBN NEWS로 여러분께 한발...   \n\n                  publishedAt  \\\n0   2012-02-23 07:50:03+00:00   \n1   2011-10-10 06:49:20+00:00   \n2   2019-02-12 08:51:38+00:00   \n3   2013-01-21 02:01:07+00:00   \n4   2017-06-22 05:39:37+00:00   \n..                        ...   \n180 2015-03-05 17:33:06+00:00   \n181 2016-12-22 05:13:34+00:00   \n182 2010-11-27 07:38:01+00:00   \n183 2012-02-21 07:43:44+00:00   \n184 2006-03-05 05:34:55+00:00   \n\n                                          thumbnailUrl country  viewCount_x  \\\n0    https://yt3.ggpht.com/a/AATXAJz4FV6FcDao3P2T6R...      KR    538140044   \n1    https://yt3.ggpht.com/a/AATXAJyY9hjzgyvgERetnb...      KR     11895506   \n2    https://yt3.ggpht.com/a/AATXAJzlVhFogIlQWhAC3G...      KR        14957   \n3    https://yt3.ggpht.com/a/AATXAJwHKg-L_IjFzOBnzC...     NaN       450568   \n4    https://yt3.ggpht.com/a/AATXAJxyp04T05HBJFhEob...      KR       818312   \n..                                                 ...     ...          ...   \n180  https://yt3.ggpht.com/a/AATXAJxeslmNZOni2HPE0B...      KR     24889275   \n181  https://yt3.ggpht.com/a/AATXAJyjB3rUi8AVKR8r-6...      KR    247926778   \n182  https://yt3.ggpht.com/a/AATXAJwiIDg9IfJ_Ieyw3m...      CA    198900873   \n183  https://yt3.ggpht.com/a/AATXAJy1KnsjcpLNKvaCPn...      KR   1472459237   \n184  https://yt3.ggpht.com/a/AATXAJxB1QCqwjYux-Xqqh...      KR    596650988   \n\n     ...  dislikeCount_3M  commentCount_3M  viewCount_6M likeCount_6M  \\\n0    ...          98133.0         171842.0   179906837.0    8625799.0   \n1    ...             37.0            218.0      539786.0       4425.0   \n2    ...              0.0             10.0        7705.0        322.0   \n3    ...             53.0            397.0       96036.0       2019.0   \n4    ...             21.0            108.0       69174.0       1531.0   \n..   ...              ...              ...           ...          ...   \n180  ...            163.0           1275.0      455166.0       5431.0   \n181  ...           7606.0          48583.0    19403991.0     319871.0   \n182  ...            404.0           1233.0     7883514.0     355724.0   \n183  ...          51114.0         361030.0   179474635.0    1414833.0   \n184  ...          16865.0          37876.0    23664564.0     324635.0   \n\n    dislikeCount_6M commentCount_6M viewCount_1Y  likeCount_1Y  \\\n0          208664.0        402594.0  203807111.0     9933980.0   \n1             343.0           966.0     601071.0        5844.0   \n2               0.0            10.0       7800.0         329.0   \n3              74.0           513.0     100499.0        2091.0   \n4              44.0           374.0     211097.0        1679.0   \n..              ...             ...          ...           ...   \n180           177.0          1653.0     455166.0        5431.0   \n181         17375.0         89902.0   24263759.0      386397.0   \n182          5589.0          6946.0   10529638.0      538525.0   \n183        128756.0        762559.0  223986902.0     1721451.0   \n184         26092.0         59652.0   29613303.0      368780.0   \n\n     dislikeCount_1Y  commentCount_1Y  \n0           231614.0         438927.0  \n1              371.0           1062.0  \n2                0.0             10.0  \n3               74.0            548.0  \n4               51.0            383.0  \n..               ...              ...  \n180            177.0           1653.0  \n181          21154.0         102604.0  \n182           8025.0          12148.0  \n183         180188.0         953333.0  \n184          31877.0          71617.0  \n\n[185 rows x 46 columns]",
      "text/html": "<div>\n<style scoped>\n    .dataframe tbody tr th:only-of-type {\n        vertical-align: middle;\n    }\n\n    .dataframe tbody tr th {\n        vertical-align: top;\n    }\n\n    .dataframe thead th {\n        text-align: right;\n    }\n</style>\n<table border=\"1\" class=\"dataframe\">\n  <thead>\n    <tr style=\"text-align: right;\">\n      <th></th>\n      <th>channelId</th>\n      <th>title</th>\n      <th>collectedTime</th>\n      <th>category</th>\n      <th>sub_category</th>\n      <th>description</th>\n      <th>publishedAt</th>\n      <th>thumbnailUrl</th>\n      <th>country</th>\n      <th>viewCount_x</th>\n      <th>...</th>\n      <th>dislikeCount_3M</th>\n      <th>commentCount_3M</th>\n      <th>viewCount_6M</th>\n      <th>likeCount_6M</th>\n      <th>dislikeCount_6M</th>\n      <th>commentCount_6M</th>\n      <th>viewCount_1Y</th>\n      <th>likeCount_1Y</th>\n      <th>dislikeCount_1Y</th>\n      <th>commentCount_1Y</th>\n    </tr>\n  </thead>\n  <tbody>\n    <tr>\n      <th>0</th>\n      <td>UC5HSw5OY2vfVFSihpiB-AVQ</td>\n      <td>TBS 시민의방송</td>\n      <td>2020-07-25 17:40:42</td>\n      <td>P</td>\n      <td>PSL</td>\n      <td>시민에 의한, 시민을 위한! 시민의 품격을 높여 주는 [TBS 시민의방송]  ▣ 제...</td>\n      <td>2012-02-23 07:50:03+00:00</td>\n      <td>https://yt3.ggpht.com/a/AATXAJz4FV6FcDao3P2T6R...</td>\n      <td>KR</td>\n      <td>538140044</td>\n      <td>...</td>\n      <td>98133.0</td>\n      <td>171842.0</td>\n      <td>179906837.0</td>\n      <td>8625799.0</td>\n      <td>208664.0</td>\n      <td>402594.0</td>\n      <td>203807111.0</td>\n      <td>9933980.0</td>\n      <td>231614.0</td>\n      <td>438927.0</td>\n    </tr>\n    <tr>\n      <th>1</th>\n      <td>UCaBwNyKKjDaYIzS8dhyaXBA</td>\n      <td>GugakTV</td>\n      <td>2020-07-25 17:40:42</td>\n      <td>P</td>\n      <td>PSL</td>\n      <td>(재)국악방송은 국내 유일 한국문화예술 전문 방송으로 다음의 채널에서 시청하실 수 ...</td>\n      <td>2011-10-10 06:49:20+00:00</td>\n      <td>https://yt3.ggpht.com/a/AATXAJyY9hjzgyvgERetnb...</td>\n      <td>KR</td>\n      <td>11895506</td>\n      <td>...</td>\n      <td>37.0</td>\n      <td>218.0</td>\n      <td>539786.0</td>\n      <td>4425.0</td>\n      <td>343.0</td>\n      <td>966.0</td>\n      <td>601071.0</td>\n      <td>5844.0</td>\n      <td>371.0</td>\n      <td>1062.0</td>\n    </tr>\n    <tr>\n      <th>2</th>\n      <td>UClEbJ_3EMk26pJ3Qun7QRMw</td>\n      <td>전쟁기념관 The War Memorial of Korea</td>\n      <td>2020-07-25 17:40:42</td>\n      <td>P</td>\n      <td>PSL</td>\n      <td>전쟁의 교훈과 평화의 소중함을 느낄 수 있는 곳! 국민과 함께하는, 스토리가 있는,...</td>\n      <td>2019-02-12 08:51:38+00:00</td>\n      <td>https://yt3.ggpht.com/a/AATXAJzlVhFogIlQWhAC3G...</td>\n      <td>KR</td>\n      <td>14957</td>\n      <td>...</td>\n      <td>0.0</td>\n      <td>10.0</td>\n      <td>7705.0</td>\n      <td>322.0</td>\n      <td>0.0</td>\n      <td>10.0</td>\n      <td>7800.0</td>\n      <td>329.0</td>\n      <td>0.0</td>\n      <td>10.0</td>\n    </tr>\n    <tr>\n      <th>3</th>\n      <td>UChqGvsUJKv4d9zIkmIUda8Q</td>\n      <td>의정부시</td>\n      <td>2020-07-25 17:40:42</td>\n      <td>P</td>\n      <td>PGG</td>\n      <td>의정부시청 공식 유튜브입니다. 구독  알림\"\"</td>\n      <td>2013-01-21 02:01:07+00:00</td>\n      <td>https://yt3.ggpht.com/a/AATXAJwHKg-L_IjFzOBnzC...</td>\n      <td>NaN</td>\n      <td>450568</td>\n      <td>...</td>\n      <td>53.0</td>\n      <td>397.0</td>\n      <td>96036.0</td>\n      <td>2019.0</td>\n      <td>74.0</td>\n      <td>513.0</td>\n      <td>100499.0</td>\n      <td>2091.0</td>\n      <td>74.0</td>\n      <td>548.0</td>\n    </tr>\n    <tr>\n      <th>4</th>\n      <td>UC02QEY0SPjAtOM8C4XBaG3g</td>\n      <td>안양시</td>\n      <td>2020-07-25 17:40:42</td>\n      <td>P</td>\n      <td>PGG</td>\n      <td>안양시 공식 유튜브 '안녕, 안양TV' 입니다.  안양시의 다양한 소식을 발빠르게 ...</td>\n      <td>2017-06-22 05:39:37+00:00</td>\n      <td>https://yt3.ggpht.com/a/AATXAJxyp04T05HBJFhEob...</td>\n      <td>KR</td>\n      <td>818312</td>\n      <td>...</td>\n      <td>21.0</td>\n      <td>108.0</td>\n      <td>69174.0</td>\n      <td>1531.0</td>\n      <td>44.0</td>\n      <td>374.0</td>\n      <td>211097.0</td>\n      <td>1679.0</td>\n      <td>51.0</td>\n      <td>383.0</td>\n    </tr>\n    <tr>\n      <th>...</th>\n      <td>...</td>\n      <td>...</td>\n      <td>...</td>\n      <td>...</td>\n      <td>...</td>\n      <td>...</td>\n      <td>...</td>\n      <td>...</td>\n      <td>...</td>\n      <td>...</td>\n      <td>...</td>\n      <td>...</td>\n      <td>...</td>\n      <td>...</td>\n      <td>...</td>\n      <td>...</td>\n      <td>...</td>\n      <td>...</td>\n      <td>...</td>\n      <td>...</td>\n      <td>...</td>\n    </tr>\n    <tr>\n      <th>180</th>\n      <td>UCD4PvWa8T2SpKo3Ml6KUpKg</td>\n      <td>치킨쿤</td>\n      <td>2020-07-25 17:40:42</td>\n      <td>M</td>\n      <td>MSB</td>\n      <td>'-^) ~★ 메일 : pabiibap@daum.net</td>\n      <td>2015-03-05 17:33:06+00:00</td>\n      <td>https://yt3.ggpht.com/a/AATXAJxeslmNZOni2HPE0B...</td>\n      <td>KR</td>\n      <td>24889275</td>\n      <td>...</td>\n      <td>163.0</td>\n      <td>1275.0</td>\n      <td>455166.0</td>\n      <td>5431.0</td>\n      <td>177.0</td>\n      <td>1653.0</td>\n      <td>455166.0</td>\n      <td>5431.0</td>\n      <td>177.0</td>\n      <td>1653.0</td>\n    </tr>\n    <tr>\n      <th>181</th>\n      <td>UCbbC0FaznmgJDuehIuQvYMA</td>\n      <td>뚜아뚜지TV</td>\n      <td>2020-07-25 17:40:42</td>\n      <td>M</td>\n      <td>MDT</td>\n      <td>쌍둥이 뚜아,뚜지(수아,수지)의 유튜브 계정입니다. 꿀잼영상 많이 업로드 할거니까 ...</td>\n      <td>2016-12-22 05:13:34+00:00</td>\n      <td>https://yt3.ggpht.com/a/AATXAJyjB3rUi8AVKR8r-6...</td>\n      <td>KR</td>\n      <td>247926778</td>\n      <td>...</td>\n      <td>7606.0</td>\n      <td>48583.0</td>\n      <td>19403991.0</td>\n      <td>319871.0</td>\n      <td>17375.0</td>\n      <td>89902.0</td>\n      <td>24263759.0</td>\n      <td>386397.0</td>\n      <td>21154.0</td>\n      <td>102604.0</td>\n    </tr>\n    <tr>\n      <th>182</th>\n      <td>UCEM711HSGyGQQWkmzoiev8g</td>\n      <td>East2WestOfficial</td>\n      <td>2020-07-25 17:40:42</td>\n      <td>M</td>\n      <td>MDT</td>\n      <td>‘East2West’ is a K-pop cover performance crew ...</td>\n      <td>2010-11-27 07:38:01+00:00</td>\n      <td>https://yt3.ggpht.com/a/AATXAJwiIDg9IfJ_Ieyw3m...</td>\n      <td>CA</td>\n      <td>198900873</td>\n      <td>...</td>\n      <td>404.0</td>\n      <td>1233.0</td>\n      <td>7883514.0</td>\n      <td>355724.0</td>\n      <td>5589.0</td>\n      <td>6946.0</td>\n      <td>10529638.0</td>\n      <td>538525.0</td>\n      <td>8025.0</td>\n      <td>12148.0</td>\n    </tr>\n    <tr>\n      <th>183</th>\n      <td>UCsU-I-vHLiaMfV_ceaYz5rQ</td>\n      <td>JTBC News</td>\n      <td>2020-07-25 17:40:42</td>\n      <td>T</td>\n      <td>TJT</td>\n      <td>Welcome to the official JTBC News Channel.  Ea...</td>\n      <td>2012-02-21 07:43:44+00:00</td>\n      <td>https://yt3.ggpht.com/a/AATXAJy1KnsjcpLNKvaCPn...</td>\n      <td>KR</td>\n      <td>1472459237</td>\n      <td>...</td>\n      <td>51114.0</td>\n      <td>361030.0</td>\n      <td>179474635.0</td>\n      <td>1414833.0</td>\n      <td>128756.0</td>\n      <td>762559.0</td>\n      <td>223986902.0</td>\n      <td>1721451.0</td>\n      <td>180188.0</td>\n      <td>953333.0</td>\n    </tr>\n    <tr>\n      <th>184</th>\n      <td>UCG9aFJTZ-lMCHAiO1KJsirg</td>\n      <td>MBN News</td>\n      <td>2020-07-25 17:40:42</td>\n      <td>T</td>\n      <td>TMN</td>\n      <td>「공정 신뢰 품격」이 있는 MBN 뉴스 !  유튜브 MBN NEWS로 여러분께 한발...</td>\n      <td>2006-03-05 05:34:55+00:00</td>\n      <td>https://yt3.ggpht.com/a/AATXAJxB1QCqwjYux-Xqqh...</td>\n      <td>KR</td>\n      <td>596650988</td>\n      <td>...</td>\n      <td>16865.0</td>\n      <td>37876.0</td>\n      <td>23664564.0</td>\n      <td>324635.0</td>\n      <td>26092.0</td>\n      <td>59652.0</td>\n      <td>29613303.0</td>\n      <td>368780.0</td>\n      <td>31877.0</td>\n      <td>71617.0</td>\n    </tr>\n  </tbody>\n</table>\n<p>185 rows × 46 columns</p>\n</div>"
     },
     "metadata": {},
     "execution_count": 35
    }
   ],
   "source": [
    "df_channel"
   ]
  },
  {
   "cell_type": "code",
   "execution_count": 36,
   "metadata": {},
   "outputs": [],
   "source": [
    "#상효작용지수 계산\n",
    "df_channel[\"RPND\"]=(df_channel.likeCount-df_channel.dislikeCount)*df_channel.commentCount\n",
    "df_channel[\"RPND_1M\"]=(df_channel.likeCount_1M-df_channel.dislikeCount_1M)*df_channel.commentCount_1M\n",
    "df_channel[\"RPND_3M\"]=(df_channel.likeCount_3M-df_channel.dislikeCount_3M)*df_channel.commentCount_3M\n",
    "df_channel[\"RPND_6M\"]=(df_channel.likeCount_6M-df_channel.dislikeCount_6M)*df_channel.commentCount_6M\n",
    "df_channel[\"comment_AVE\"]=df_channel.commentCount/df_channel.videoCount\n",
    "df_channel[\"comment_weekly\"]=df_channel.commentCount/(df_channel.circa_D/7)"
   ]
  },
  {
   "cell_type": "code",
   "execution_count": 26,
   "metadata": {},
   "outputs": [],
   "source": [
    "# dftest = df_channel[df_channel['channelId'].notna()]\n",
    "# dftest2 = dftest[dftest[\"title\"].notna()]\n",
    "# dftest2"
   ]
  },
  {
   "cell_type": "code",
   "execution_count": 37,
   "metadata": {},
   "outputs": [],
   "source": [
    "#상호작용지수 포함\n",
    "df_SJJ=df_channel[['channelId', 'title', 'collectedTime', 'category', 'sub_category', 'description', 'publishedAt', 'RPND', 'RPND_1M', 'RPND_3M', 'RPND_6M','comment_AVE','comment_weekly']]"
   ]
  },
  {
   "cell_type": "code",
   "execution_count": 38,
   "metadata": {},
   "outputs": [
    {
     "output_type": "execute_result",
     "data": {
      "text/plain": "                    channelId                            title  \\\n0    UC5HSw5OY2vfVFSihpiB-AVQ                        TBS 시민의방송   \n1    UCaBwNyKKjDaYIzS8dhyaXBA                          GugakTV   \n2    UClEbJ_3EMk26pJ3Qun7QRMw  전쟁기념관 The War Memorial of Korea   \n3    UChqGvsUJKv4d9zIkmIUda8Q                             의정부시   \n4    UC02QEY0SPjAtOM8C4XBaG3g                              안양시   \n..                        ...                              ...   \n180  UCD4PvWa8T2SpKo3Ml6KUpKg                              치킨쿤   \n181  UCbbC0FaznmgJDuehIuQvYMA                           뚜아뚜지TV   \n182  UCEM711HSGyGQQWkmzoiev8g                East2WestOfficial   \n183  UCsU-I-vHLiaMfV_ceaYz5rQ                        JTBC News   \n184  UCG9aFJTZ-lMCHAiO1KJsirg                         MBN News   \n\n          collectedTime category sub_category  \\\n0   2020-07-25 17:40:42        P          PSL   \n1   2020-07-25 17:40:42        P          PSL   \n2   2020-07-25 17:40:42        P          PSL   \n3   2020-07-25 17:40:42        P          PGG   \n4   2020-07-25 17:40:42        P          PGG   \n..                  ...      ...          ...   \n180 2020-07-25 17:40:42        M          MSB   \n181 2020-07-25 17:40:42        M          MDT   \n182 2020-07-25 17:40:42        M          MDT   \n183 2020-07-25 17:40:42        T          TJT   \n184 2020-07-25 17:40:42        T          TMN   \n\n                                           description  \\\n0    시민에 의한, 시민을 위한! 시민의 품격을 높여 주는 [TBS 시민의방송]  ▣ 제...   \n1    (재)국악방송은 국내 유일 한국문화예술 전문 방송으로 다음의 채널에서 시청하실 수 ...   \n2    전쟁의 교훈과 평화의 소중함을 느낄 수 있는 곳! 국민과 함께하는, 스토리가 있는,...   \n3                            의정부시청 공식 유튜브입니다. 구독  알림\"\"   \n4    안양시 공식 유튜브 '안녕, 안양TV' 입니다.  안양시의 다양한 소식을 발빠르게 ...   \n..                                                 ...   \n180                     '-^) ~★ 메일 : pabiibap@daum.net   \n181  쌍둥이 뚜아,뚜지(수아,수지)의 유튜브 계정입니다. 꿀잼영상 많이 업로드 할거니까 ...   \n182  ‘East2West’ is a K-pop cover performance crew ...   \n183  Welcome to the official JTBC News Channel.  Ea...   \n184  「공정 신뢰 품격」이 있는 MBN 뉴스 !  유튜브 MBN NEWS로 여러분께 한발...   \n\n                  publishedAt          RPND       RPND_1M       RPND_3M  \\\n0   2012-02-23 07:50:03+00:00  1.139774e+13  4.712672e+10  6.295528e+11   \n1   2011-10-10 06:49:20+00:00  1.669207e+08  1.181280e+05  3.575200e+05   \n2   2019-02-12 08:51:38+00:00  4.007700e+04  4.800000e+02  3.080000e+03   \n3   2013-01-21 02:01:07+00:00  2.586460e+06  8.733000e+03  6.701360e+05   \n4   2017-06-22 05:39:37+00:00  5.295642e+06  9.240000e+03  6.447600e+04   \n..                        ...           ...           ...           ...   \n180 2015-03-05 17:33:06+00:00  1.002044e+10  2.371750e+05  5.324400e+06   \n181 2016-12-22 05:13:34+00:00  7.527372e+11  5.484743e+08  6.716745e+09   \n182 2010-11-27 07:38:01+00:00  2.293712e+12  2.210320e+07  2.650580e+07   \n183 2012-02-21 07:43:44+00:00  3.618976e+13  2.400019e+10  1.946630e+11   \n184 2006-03-05 05:34:55+00:00  6.878717e+11  4.213367e+08  8.933812e+09   \n\n          RPND_6M  comment_AVE  comment_weekly  \n0    3.388688e+12    24.133505     1758.473684  \n1    3.943212e+06     2.248937       11.090516  \n2    3.220000e+03     1.327273        1.582043  \n3    9.977850e+05     0.629984        2.180599  \n4    5.561380e+05     2.009615        9.510293  \n..            ...          ...             ...  \n180  8.684862e+06    72.097282      200.097561  \n181  2.719500e+10   272.887541     1567.930317  \n182  2.432038e+09   341.983193      600.272125  \n183  9.807096e+11    47.458505    10055.615813  \n184  1.780869e+10     8.376905      803.647129  \n\n[185 rows x 13 columns]",
      "text/html": "<div>\n<style scoped>\n    .dataframe tbody tr th:only-of-type {\n        vertical-align: middle;\n    }\n\n    .dataframe tbody tr th {\n        vertical-align: top;\n    }\n\n    .dataframe thead th {\n        text-align: right;\n    }\n</style>\n<table border=\"1\" class=\"dataframe\">\n  <thead>\n    <tr style=\"text-align: right;\">\n      <th></th>\n      <th>channelId</th>\n      <th>title</th>\n      <th>collectedTime</th>\n      <th>category</th>\n      <th>sub_category</th>\n      <th>description</th>\n      <th>publishedAt</th>\n      <th>RPND</th>\n      <th>RPND_1M</th>\n      <th>RPND_3M</th>\n      <th>RPND_6M</th>\n      <th>comment_AVE</th>\n      <th>comment_weekly</th>\n    </tr>\n  </thead>\n  <tbody>\n    <tr>\n      <th>0</th>\n      <td>UC5HSw5OY2vfVFSihpiB-AVQ</td>\n      <td>TBS 시민의방송</td>\n      <td>2020-07-25 17:40:42</td>\n      <td>P</td>\n      <td>PSL</td>\n      <td>시민에 의한, 시민을 위한! 시민의 품격을 높여 주는 [TBS 시민의방송]  ▣ 제...</td>\n      <td>2012-02-23 07:50:03+00:00</td>\n      <td>1.139774e+13</td>\n      <td>4.712672e+10</td>\n      <td>6.295528e+11</td>\n      <td>3.388688e+12</td>\n      <td>24.133505</td>\n      <td>1758.473684</td>\n    </tr>\n    <tr>\n      <th>1</th>\n      <td>UCaBwNyKKjDaYIzS8dhyaXBA</td>\n      <td>GugakTV</td>\n      <td>2020-07-25 17:40:42</td>\n      <td>P</td>\n      <td>PSL</td>\n      <td>(재)국악방송은 국내 유일 한국문화예술 전문 방송으로 다음의 채널에서 시청하실 수 ...</td>\n      <td>2011-10-10 06:49:20+00:00</td>\n      <td>1.669207e+08</td>\n      <td>1.181280e+05</td>\n      <td>3.575200e+05</td>\n      <td>3.943212e+06</td>\n      <td>2.248937</td>\n      <td>11.090516</td>\n    </tr>\n    <tr>\n      <th>2</th>\n      <td>UClEbJ_3EMk26pJ3Qun7QRMw</td>\n      <td>전쟁기념관 The War Memorial of Korea</td>\n      <td>2020-07-25 17:40:42</td>\n      <td>P</td>\n      <td>PSL</td>\n      <td>전쟁의 교훈과 평화의 소중함을 느낄 수 있는 곳! 국민과 함께하는, 스토리가 있는,...</td>\n      <td>2019-02-12 08:51:38+00:00</td>\n      <td>4.007700e+04</td>\n      <td>4.800000e+02</td>\n      <td>3.080000e+03</td>\n      <td>3.220000e+03</td>\n      <td>1.327273</td>\n      <td>1.582043</td>\n    </tr>\n    <tr>\n      <th>3</th>\n      <td>UChqGvsUJKv4d9zIkmIUda8Q</td>\n      <td>의정부시</td>\n      <td>2020-07-25 17:40:42</td>\n      <td>P</td>\n      <td>PGG</td>\n      <td>의정부시청 공식 유튜브입니다. 구독  알림\"\"</td>\n      <td>2013-01-21 02:01:07+00:00</td>\n      <td>2.586460e+06</td>\n      <td>8.733000e+03</td>\n      <td>6.701360e+05</td>\n      <td>9.977850e+05</td>\n      <td>0.629984</td>\n      <td>2.180599</td>\n    </tr>\n    <tr>\n      <th>4</th>\n      <td>UC02QEY0SPjAtOM8C4XBaG3g</td>\n      <td>안양시</td>\n      <td>2020-07-25 17:40:42</td>\n      <td>P</td>\n      <td>PGG</td>\n      <td>안양시 공식 유튜브 '안녕, 안양TV' 입니다.  안양시의 다양한 소식을 발빠르게 ...</td>\n      <td>2017-06-22 05:39:37+00:00</td>\n      <td>5.295642e+06</td>\n      <td>9.240000e+03</td>\n      <td>6.447600e+04</td>\n      <td>5.561380e+05</td>\n      <td>2.009615</td>\n      <td>9.510293</td>\n    </tr>\n    <tr>\n      <th>...</th>\n      <td>...</td>\n      <td>...</td>\n      <td>...</td>\n      <td>...</td>\n      <td>...</td>\n      <td>...</td>\n      <td>...</td>\n      <td>...</td>\n      <td>...</td>\n      <td>...</td>\n      <td>...</td>\n      <td>...</td>\n      <td>...</td>\n    </tr>\n    <tr>\n      <th>180</th>\n      <td>UCD4PvWa8T2SpKo3Ml6KUpKg</td>\n      <td>치킨쿤</td>\n      <td>2020-07-25 17:40:42</td>\n      <td>M</td>\n      <td>MSB</td>\n      <td>'-^) ~★ 메일 : pabiibap@daum.net</td>\n      <td>2015-03-05 17:33:06+00:00</td>\n      <td>1.002044e+10</td>\n      <td>2.371750e+05</td>\n      <td>5.324400e+06</td>\n      <td>8.684862e+06</td>\n      <td>72.097282</td>\n      <td>200.097561</td>\n    </tr>\n    <tr>\n      <th>181</th>\n      <td>UCbbC0FaznmgJDuehIuQvYMA</td>\n      <td>뚜아뚜지TV</td>\n      <td>2020-07-25 17:40:42</td>\n      <td>M</td>\n      <td>MDT</td>\n      <td>쌍둥이 뚜아,뚜지(수아,수지)의 유튜브 계정입니다. 꿀잼영상 많이 업로드 할거니까 ...</td>\n      <td>2016-12-22 05:13:34+00:00</td>\n      <td>7.527372e+11</td>\n      <td>5.484743e+08</td>\n      <td>6.716745e+09</td>\n      <td>2.719500e+10</td>\n      <td>272.887541</td>\n      <td>1567.930317</td>\n    </tr>\n    <tr>\n      <th>182</th>\n      <td>UCEM711HSGyGQQWkmzoiev8g</td>\n      <td>East2WestOfficial</td>\n      <td>2020-07-25 17:40:42</td>\n      <td>M</td>\n      <td>MDT</td>\n      <td>‘East2West’ is a K-pop cover performance crew ...</td>\n      <td>2010-11-27 07:38:01+00:00</td>\n      <td>2.293712e+12</td>\n      <td>2.210320e+07</td>\n      <td>2.650580e+07</td>\n      <td>2.432038e+09</td>\n      <td>341.983193</td>\n      <td>600.272125</td>\n    </tr>\n    <tr>\n      <th>183</th>\n      <td>UCsU-I-vHLiaMfV_ceaYz5rQ</td>\n      <td>JTBC News</td>\n      <td>2020-07-25 17:40:42</td>\n      <td>T</td>\n      <td>TJT</td>\n      <td>Welcome to the official JTBC News Channel.  Ea...</td>\n      <td>2012-02-21 07:43:44+00:00</td>\n      <td>3.618976e+13</td>\n      <td>2.400019e+10</td>\n      <td>1.946630e+11</td>\n      <td>9.807096e+11</td>\n      <td>47.458505</td>\n      <td>10055.615813</td>\n    </tr>\n    <tr>\n      <th>184</th>\n      <td>UCG9aFJTZ-lMCHAiO1KJsirg</td>\n      <td>MBN News</td>\n      <td>2020-07-25 17:40:42</td>\n      <td>T</td>\n      <td>TMN</td>\n      <td>「공정 신뢰 품격」이 있는 MBN 뉴스 !  유튜브 MBN NEWS로 여러분께 한발...</td>\n      <td>2006-03-05 05:34:55+00:00</td>\n      <td>6.878717e+11</td>\n      <td>4.213367e+08</td>\n      <td>8.933812e+09</td>\n      <td>1.780869e+10</td>\n      <td>8.376905</td>\n      <td>803.647129</td>\n    </tr>\n  </tbody>\n</table>\n<p>185 rows × 13 columns</p>\n</div>"
     },
     "metadata": {},
     "execution_count": 38
    }
   ],
   "source": [
    "df_SJJ"
   ]
  },
  {
   "cell_type": "code",
   "execution_count": null,
   "metadata": {},
   "outputs": [],
   "source": []
  }
 ]
}
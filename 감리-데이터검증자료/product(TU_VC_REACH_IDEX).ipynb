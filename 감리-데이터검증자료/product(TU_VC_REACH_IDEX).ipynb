{
 "cells": [
  {
   "cell_type": "code",
   "execution_count": null,
   "metadata": {},
   "outputs": [],
   "source": [
    "import pandas as pd\n",
    "import numpy as np\n",
    "import os\n",
    "from os import listdir\n",
    "\n",
    "import scipy.stats as ss\n",
    "import math"
   ]
  },
  {
   "cell_type": "code",
   "execution_count": null,
   "metadata": {},
   "outputs": [],
   "source": [
    "# TU_VC_REACH_IDEX\n",
    "\n",
    "z_07 = 'C:/Users/Admin/Desktop/MediaBigdata_20201120/products/TU_VC_REACH_IDEX/year=2020/month=10/day=01/HYU_TU_VC_REACH_IDEX_20201001194311.csv'\n",
    "z_07 = pd.read_csv(z_07, header=0, sep=\",\")\n",
    "z_07.tail()"
   ]
  },
  {
   "cell_type": "code",
   "execution_count": null,
   "metadata": {},
   "outputs": [],
   "source": [
    "# 도달지수\n",
    "# 영상호감도\t\t\tlikeCount/viewCount\n",
    "# 영상불호도\t\t\tdislikeCount/viewCount\n",
    "# 영상인기지수\t\t\t(likeCount/viewCount)/(dislikeCount/viewCount)"
   ]
  },
  {
   "cell_type": "code",
   "execution_count": null,
   "metadata": {},
   "outputs": [],
   "source": [
    "z_07.isnull().sum()"
   ]
  },
  {
   "cell_type": "code",
   "execution_count": null,
   "metadata": {},
   "outputs": [],
   "source": [
    "z_07.columns"
   ]
  },
  {
   "cell_type": "code",
   "execution_count": null,
   "metadata": {},
   "outputs": [],
   "source": [
    "## API\n",
    "x = 'C:/Users/Admin/Desktop/MediaBigdata_20201120/data/video/year=2020'\n",
    "\n",
    "filepaths = [x + f for f in listdir(x) if f.endswith('.csv')]\n",
    "# comment = pd.read_csv(filepaths[3], header=0, sep=\"|\")\n",
    "# comment\n",
    "rawchan=[]\n",
    "# for filename in filepaths:\n",
    "#     temp = pd.read_csv(filename, header=0, sep=\"|\")\n",
    "#     rawchan.append(temp)\n",
    "\n",
    "for idx, filename in enumerate(filepaths):\n",
    "    try:\n",
    "        temp = pd.read_csv(filename, header=0, sep=\"|\")\n",
    "        rawchan.append(temp)\n",
    "    except:\n",
    "        print(idx, filename)\n",
    "api=pd.concat(rawchan, axis=0, ignore_index=True)"
   ]
  },
  {
   "cell_type": "code",
   "execution_count": null,
   "metadata": {},
   "outputs": [],
   "source": [
    "api.tail(2)"
   ]
  },
  {
   "cell_type": "code",
   "execution_count": null,
   "metadata": {},
   "outputs": [],
   "source": [
    "print(len(api.columns))\n",
    "print(len(z_.columns))"
   ]
  },
  {
   "cell_type": "code",
   "execution_count": null,
   "metadata": {},
   "outputs": [],
   "source": [
    "api.columns"
   ]
  },
  {
   "cell_type": "code",
   "execution_count": null,
   "metadata": {},
   "outputs": [],
   "source": [
    "z_07.columns"
   ]
  },
  {
   "cell_type": "code",
   "execution_count": null,
   "metadata": {},
   "outputs": [],
   "source": [
    "z_df = z_07.sort_values(by='REACH_IDEX_VIDO_ID').reset_index(drop=True)"
   ]
  },
  {
   "cell_type": "code",
   "execution_count": null,
   "metadata": {},
   "outputs": [],
   "source": [
    "orig_df = api.sort_values(by='id').reset_index(drop=True)"
   ]
  },
  {
   "cell_type": "code",
   "execution_count": null,
   "metadata": {},
   "outputs": [],
   "source": [
    "orig_df = api.fillna(0)\n",
    "z_df = z_07.fillna(0)"
   ]
  },
  {
   "cell_type": "code",
   "execution_count": null,
   "metadata": {},
   "outputs": [],
   "source": [
    "orig_df['viewCount']"
   ]
  },
  {
   "cell_type": "code",
   "execution_count": null,
   "metadata": {},
   "outputs": [],
   "source": [
    "orig_df = orig_df.groupby('channelId').sum().reset_index()"
   ]
  },
  {
   "cell_type": "code",
   "execution_count": null,
   "metadata": {},
   "outputs": [],
   "source": [
    "orig_df.tail()"
   ]
  },
  {
   "cell_type": "code",
   "execution_count": null,
   "metadata": {},
   "outputs": [],
   "source": [
    "z_df.tail(5)"
   ]
  },
  {
   "cell_type": "code",
   "execution_count": null,
   "metadata": {},
   "outputs": [],
   "source": [
    "o_CHNNL_LK_P_V = orig_df[\"likeCount\"]/orig_df[\"viewCount\"]\n",
    "o_CHNNL_DLK_P_V = orig_df[\"dislikeCount\"]/orig_df[\"viewCount\"]\n",
    "o_CHNNL_LK_P_DLK = o_CHNNL_LK_P_V/o_CHNNL_DLK_P_V\n",
    "o_CHNNL_LK_P_DLK"
   ]
  },
  {
   "cell_type": "code",
   "execution_count": null,
   "metadata": {},
   "outputs": [],
   "source": [
    "o_CHNNL_LK_P_V\n",
    "min0 = min(o_CHNNL_LK_P_V.unique())\n",
    "max0 = max(o_CHNNL_LK_P_V.unique())\n",
    "o_CHNNL_LK_P_V_100 = ((o_CHNNL_LK_P_V- min0)/(max0-min0))*100\n",
    "\n",
    "o_CHNNL_DLK_P_V\n",
    "min1 = min(o_CHNNL_DLK_P_V.unique())\n",
    "max1 = max(o_CHNNL_DLK_P_V.unique())\n",
    "o_CHNNL_DLK_P_V_100 = ((o_CHNNL_DLK_P_V- min1)/(max1-min1))*100\n",
    "\n",
    "o_CHNNL_LK_P_DLK\n",
    "min2 = min(o_CHNNL_LK_P_DLK.unique())\n",
    "max2 = max(o_CHNNL_LK_P_DLK.unique())\n",
    "o_CHNNL_LK_P_DLK_100 = ((o_CHNNL_LK_P_DLK- min1)/(max1-min1))*100"
   ]
  },
  {
   "cell_type": "code",
   "execution_count": null,
   "metadata": {},
   "outputs": [],
   "source": [
    "o_CHNNL_LK_P_V_ZSC = ss.zscore(o_CHNNL_LK_P_V)\n",
    "o_CHNNL_DLK_P_V_ZSC = ss.zscore(o_CHNNL_DLK_P_V)\n",
    "o_CHNNL_LK_P_DLK_ZSC = ss.zscore(o_CHNNL_LK_P_DLK)"
   ]
  },
  {
   "cell_type": "code",
   "execution_count": null,
   "metadata": {},
   "outputs": [],
   "source": [
    "z_df['CHNNL_LK_P_DLK_ZSC']"
   ]
  },
  {
   "cell_type": "code",
   "execution_count": null,
   "metadata": {},
   "outputs": [],
   "source": [
    "ori0 = orig_df.copy()"
   ]
  },
  {
   "cell_type": "code",
   "execution_count": null,
   "metadata": {},
   "outputs": [],
   "source": [
    "ori0.tail(2)"
   ]
  },
  {
   "cell_type": "code",
   "execution_count": null,
   "metadata": {},
   "outputs": [],
   "source": [
    "ori0['o_CHNNL_LK_P_V'] = o_CHNNL_LK_P_V\n",
    "ori0['o_CHNNL_DLK_P_V'] = o_CHNNL_DLK_P_V\n",
    "ori0['o_CHNNL_LK_P_DLK'] = o_CHNNL_LK_P_DLK\n",
    "ori0['o_CHNNL_LK_P_V_100'] = o_CHNNL_LK_P_V_100\n",
    "ori0['o_CHNNL_DLK_P_V_100'] = o_CHNNL_DLK_P_V_100\n",
    "ori0['o_CHNNL_LK_P_DLK_100'] = o_CHNNL_LK_P_DLK_100\n",
    "ori0['o_CHNNL_LK_P_V_ZSC'] = o_CHNNL_LK_P_V_ZSC\n",
    "ori0['o_CHNNL_DLK_P_V_ZSC'] = o_CHNNL_DLK_P_V_ZSC\n",
    "ori0['o_CHNNL_LK_P_DLK_ZSC'] = o_CHNNL_LK_P_DLK_ZSC"
   ]
  },
  {
   "cell_type": "code",
   "execution_count": null,
   "metadata": {},
   "outputs": [],
   "source": [
    "ori0 = ori0.drop(['viewCount', 'likeCount', 'dislikeCount', 'commentCount'], axis='columns')\n",
    "ori0.tail(2)"
   ]
  },
  {
   "cell_type": "code",
   "execution_count": null,
   "metadata": {},
   "outputs": [],
   "source": [
    "print(len(z_3))\n",
    "print(len(ori0))\n",
    "print(z_3.columns)\n",
    "print(ori0.columns)\n",
    "print(len(z_3.columns))\n",
    "print(len(ori0.columns))"
   ]
  },
  {
   "cell_type": "code",
   "execution_count": null,
   "metadata": {},
   "outputs": [],
   "source": [
    "ori0 = ori0.fillna(0)\n",
    "z_df = z_df.fillna(0)"
   ]
  },
  {
   "cell_type": "code",
   "execution_count": null,
   "metadata": {},
   "outputs": [],
   "source": [
    "ori0.columns = z_df.columns.tolist()"
   ]
  },
  {
   "cell_type": "code",
   "execution_count": null,
   "metadata": {},
   "outputs": [],
   "source": [
    "z_df = z_df.sort_values(by='REACH_IDEX_VIDO_ID').reset_index(drop=True)\n",
    "ori0 = ori0.sort_values(by='REACH_IDEX_VIDO_ID').reset_index(drop=True)"
   ]
  },
  {
   "cell_type": "code",
   "execution_count": null,
   "metadata": {},
   "outputs": [],
   "source": [
    "z_df = z_df[z_df['REACH_IDEX_VIDO_ID'].isin(ori0['REACH_IDEX_VIDO_ID'])]\n",
    "ori0 = ori0[ori0['REACH_IDEX_VIDO_ID'].isin(z_df['REACH_IDEX_VIDO_ID'])]"
   ]
  },
  {
   "cell_type": "code",
   "execution_count": null,
   "metadata": {},
   "outputs": [],
   "source": [
    "z_df.tail(2)"
   ]
  },
  {
   "cell_type": "code",
   "execution_count": null,
   "metadata": {},
   "outputs": [],
   "source": [
    "ori0.tail(2)"
   ]
  },
  {
   "cell_type": "code",
   "execution_count": null,
   "metadata": {},
   "outputs": [],
   "source": [
    "ori0 = ori0.round(3)\n",
    "ori0.tail(2)"
   ]
  },
  {
   "cell_type": "code",
   "execution_count": null,
   "metadata": {},
   "outputs": [],
   "source": [
    "abnorm = []\n",
    "\n",
    "for i in z_df.index:\n",
    "    for col in z_df.columns:\n",
    "        if z_df[col][i] == ori0[col][i]:\n",
    "            pass\n",
    "        else:\n",
    "            abnorm.append(i)\n",
    "            print(i, col, z_df['REACH_IDEX_VIDO_ID'][i])"
   ]
  },
  {
   "cell_type": "code",
   "execution_count": null,
   "metadata": {},
   "outputs": [],
   "source": [
    "Abnormal_TU_VC_REACH_IDEX = z_df[z_df.index.isin(abnorm)]"
   ]
  },
  {
   "cell_type": "code",
   "execution_count": null,
   "metadata": {},
   "outputs": [],
   "source": [
    "Abnormal_TU_VC_REACH_IDEX.to_csv('Abnormal(TU_VC_REACH_IDEX).csv')"
   ]
  }
 ],
 "metadata": {
  "kernelspec": {
   "display_name": "Python 3",
   "language": "python",
   "name": "python3"
  },
  "language_info": {
   "codemirror_mode": {
    "name": "ipython",
    "version": 3
   },
   "file_extension": ".py",
   "mimetype": "text/x-python",
   "name": "python",
   "nbconvert_exporter": "python",
   "pygments_lexer": "ipython3",
   "version": "3.8.3"
  }
 },
 "nbformat": 4,
 "nbformat_minor": 4
}

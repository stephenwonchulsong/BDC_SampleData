{
 "cells": [
  {
   "cell_type": "code",
   "execution_count": 1,
   "metadata": {},
   "outputs": [],
   "source": [
    "import pandas as pd\n",
    "import numpy as np\n",
    "import os\n",
    "from os import listdir\n",
    "\n",
    "import scipy.stats as ss\n",
    "import math"
   ]
  },
  {
   "cell_type": "code",
   "execution_count": 2,
   "metadata": {},
   "outputs": [],
   "source": [
    "#product\n",
    "#역량평가 TU_VC_ABILITY_EVL\n",
    "\n",
    "z_0 = 'C:/Users/Admin/Desktop/MediaBigdata_20201120/products/TU_VC_ABILITY_EVL/year=2020/month=10/day=01/HYU_TU_VC_ABILITY_EVL_20201001194905.csv'\n",
    "z_0 = pd.read_csv(z_0, header=0, sep=\",\")"
   ]
  },
  {
   "cell_type": "code",
   "execution_count": 3,
   "metadata": {
    "scrolled": true
   },
   "outputs": [
    {
     "data": {
      "text/html": [
       "<div>\n",
       "<style scoped>\n",
       "    .dataframe tbody tr th:only-of-type {\n",
       "        vertical-align: middle;\n",
       "    }\n",
       "\n",
       "    .dataframe tbody tr th {\n",
       "        vertical-align: top;\n",
       "    }\n",
       "\n",
       "    .dataframe thead th {\n",
       "        text-align: right;\n",
       "    }\n",
       "</style>\n",
       "<table border=\"1\" class=\"dataframe\">\n",
       "  <thead>\n",
       "    <tr style=\"text-align: right;\">\n",
       "      <th></th>\n",
       "      <th>ABILITY_EVL_CHNNL_ID</th>\n",
       "      <th>ABILITY_EVL_CHNNL_NM</th>\n",
       "      <th>ABILITY_EVL_COLCT_DE</th>\n",
       "      <th>ABILITY_EVL_CHNNL_DC</th>\n",
       "      <th>ABILITY_EVL_CHNNL_CREAT_DE</th>\n",
       "      <th>ABILITY_ACCTO_GROUP_ASGN</th>\n",
       "      <th>GROUP_ISE_CHNNL_CO</th>\n",
       "      <th>GROUP_ISE_READER_RANK</th>\n",
       "      <th>GROUP_ISE_RDCNT_RANK</th>\n",
       "      <th>GROUP_ISE_ILKT_RANK</th>\n",
       "      <th>ABILITY_EVL</th>\n",
       "      <th>PR_IDEX</th>\n",
       "      <th>RECENT_SIX_MONTH</th>\n",
       "      <th>FRST_SIX_MONTH</th>\n",
       "      <th>INTRC_DGREE_ONE_MONTH</th>\n",
       "      <th>GROUP_ISE_PR_IDEX_STD_SCORE</th>\n",
       "      <th>RECENT_SIX_MONTH_STD_SCORE</th>\n",
       "      <th>FRST_SIX_MONTH_STD_SCORE</th>\n",
       "      <th>INTRC_DO_ONE_MONTH_STD_SCORE</th>\n",
       "    </tr>\n",
       "  </thead>\n",
       "  <tbody>\n",
       "    <tr>\n",
       "      <th>2668</th>\n",
       "      <td>UC1wjdW8A3HSQMoQeu79-yLw</td>\n",
       "      <td>한국항공우주연구원 KARI TV</td>\n",
       "      <td>2020-10-01</td>\n",
       "      <td>KARI 한국항공우주연구원은 대한민국 항공우주 분야 중심 연구기관으로서 항공우주기술...</td>\n",
       "      <td>2011-11-25</td>\n",
       "      <td>MACRO</td>\n",
       "      <td>1443</td>\n",
       "      <td>1253</td>\n",
       "      <td>1064</td>\n",
       "      <td>1103</td>\n",
       "      <td>1062</td>\n",
       "      <td>2.709</td>\n",
       "      <td>0.787</td>\n",
       "      <td>-0.359</td>\n",
       "      <td>0.000</td>\n",
       "      <td>-0.324</td>\n",
       "      <td>11.251</td>\n",
       "      <td>0.292</td>\n",
       "      <td>-0.05</td>\n",
       "    </tr>\n",
       "    <tr>\n",
       "      <th>2669</th>\n",
       "      <td>UCr1YT5IRw3iI1oQgbBOpWrQ</td>\n",
       "      <td>보고싶진아</td>\n",
       "      <td>2020-10-01</td>\n",
       "      <td>진아의 일상 영상이 업로드됩니다! 비즈니스 문의 : bogoshipjina@sand...</td>\n",
       "      <td>2016-12-15</td>\n",
       "      <td>MACRO</td>\n",
       "      <td>1443</td>\n",
       "      <td>279</td>\n",
       "      <td>325</td>\n",
       "      <td>366</td>\n",
       "      <td>354</td>\n",
       "      <td>10.092</td>\n",
       "      <td>1.718</td>\n",
       "      <td>NaN</td>\n",
       "      <td>0.002</td>\n",
       "      <td>0.089</td>\n",
       "      <td>-29.066</td>\n",
       "      <td>0.156</td>\n",
       "      <td>-0.05</td>\n",
       "    </tr>\n",
       "  </tbody>\n",
       "</table>\n",
       "</div>"
      ],
      "text/plain": [
       "          ABILITY_EVL_CHNNL_ID ABILITY_EVL_CHNNL_NM ABILITY_EVL_COLCT_DE  \\\n",
       "2668  UC1wjdW8A3HSQMoQeu79-yLw    한국항공우주연구원 KARI TV           2020-10-01   \n",
       "2669  UCr1YT5IRw3iI1oQgbBOpWrQ                보고싶진아           2020-10-01   \n",
       "\n",
       "                                   ABILITY_EVL_CHNNL_DC  \\\n",
       "2668  KARI 한국항공우주연구원은 대한민국 항공우주 분야 중심 연구기관으로서 항공우주기술...   \n",
       "2669  진아의 일상 영상이 업로드됩니다! 비즈니스 문의 : bogoshipjina@sand...   \n",
       "\n",
       "     ABILITY_EVL_CHNNL_CREAT_DE ABILITY_ACCTO_GROUP_ASGN  GROUP_ISE_CHNNL_CO  \\\n",
       "2668                 2011-11-25                    MACRO                1443   \n",
       "2669                 2016-12-15                    MACRO                1443   \n",
       "\n",
       "      GROUP_ISE_READER_RANK  GROUP_ISE_RDCNT_RANK  GROUP_ISE_ILKT_RANK  \\\n",
       "2668                   1253                  1064                 1103   \n",
       "2669                    279                   325                  366   \n",
       "\n",
       "      ABILITY_EVL  PR_IDEX  RECENT_SIX_MONTH  FRST_SIX_MONTH  \\\n",
       "2668         1062    2.709             0.787          -0.359   \n",
       "2669          354   10.092             1.718             NaN   \n",
       "\n",
       "      INTRC_DGREE_ONE_MONTH  GROUP_ISE_PR_IDEX_STD_SCORE  \\\n",
       "2668                  0.000                       -0.324   \n",
       "2669                  0.002                        0.089   \n",
       "\n",
       "      RECENT_SIX_MONTH_STD_SCORE  FRST_SIX_MONTH_STD_SCORE  \\\n",
       "2668                      11.251                     0.292   \n",
       "2669                     -29.066                     0.156   \n",
       "\n",
       "      INTRC_DO_ONE_MONTH_STD_SCORE  \n",
       "2668                         -0.05  \n",
       "2669                         -0.05  "
      ]
     },
     "execution_count": 3,
     "metadata": {},
     "output_type": "execute_result"
    }
   ],
   "source": [
    "z_0.tail(2)"
   ]
  },
  {
   "cell_type": "code",
   "execution_count": 5,
   "metadata": {},
   "outputs": [],
   "source": [
    "# ABILITY_EVL_CHNNL_ID\t역량평가채널ID\n",
    "# ABILITY_EVL_CHNNL_NM\t역량평가채널명\n",
    "# ABILITY_EVL_COLCT_DE\t역량평가수집일자\n",
    "# ABILITY_EVL_CHNNL_DC\t역량평가채널설명\n",
    "# ABILITY_EVL_CHNNL_CREAT_DE\t역량평가채널생성일자\n",
    "# ABILITY_ACCTO_GROUP_ASGN\t역량별그룹할당\n",
    "# GROUP_ISE_CHNNL_CO\t그룹내채널수\n",
    "# GROUP_ISE_READER_RANK\t그룹내구독자순위\n",
    "# GROUP_ISE_RDCNT_RANK\t그룹내조회수순위\n",
    "# GROUP_ISE_ILKT_RANK\t그룹내좋아요순위\n",
    "# ABILITY_EVL\t역량평가\n",
    "# PR_IDEX\t홍보지수\n",
    "# RECENT_SIX_MONTH\t최근6개월\n",
    "# FRST_SIX_MONTH\t최초6개월\n",
    "# INTRC_DGREE_ONE_MONTH\t상호작용정도1개월\n",
    "# GROUP_ISE_PR_IDEX_STD_SCORE\t그룹내홍보지수표준점수\n",
    "# RECENT_SIX_MONTH_STD_SCORE\t최근6개월표준점수\n",
    "# FRST_SIX_MONTH_STD_SCORE\t최초6개월표준점수\n",
    "# INTRC_DO_ONE_MONTH_STD_SCORE\t상호작용도1개월표준점수\n",
    "\n"
   ]
  },
  {
   "cell_type": "code",
   "execution_count": 6,
   "metadata": {},
   "outputs": [
    {
     "data": {
      "text/plain": [
       "ABILITY_EVL_CHNNL_ID               0\n",
       "ABILITY_EVL_CHNNL_NM               0\n",
       "ABILITY_EVL_COLCT_DE               0\n",
       "ABILITY_EVL_CHNNL_DC             414\n",
       "ABILITY_EVL_CHNNL_CREAT_DE         0\n",
       "ABILITY_ACCTO_GROUP_ASGN           0\n",
       "GROUP_ISE_CHNNL_CO                 0\n",
       "GROUP_ISE_READER_RANK              0\n",
       "GROUP_ISE_RDCNT_RANK               0\n",
       "GROUP_ISE_ILKT_RANK                0\n",
       "ABILITY_EVL                        0\n",
       "PR_IDEX                          634\n",
       "RECENT_SIX_MONTH                 897\n",
       "FRST_SIX_MONTH                  1175\n",
       "INTRC_DGREE_ONE_MONTH              0\n",
       "GROUP_ISE_PR_IDEX_STD_SCORE      634\n",
       "RECENT_SIX_MONTH_STD_SCORE       257\n",
       "FRST_SIX_MONTH_STD_SCORE          11\n",
       "INTRC_DO_ONE_MONTH_STD_SCORE       0\n",
       "dtype: int64"
      ]
     },
     "execution_count": 6,
     "metadata": {},
     "output_type": "execute_result"
    }
   ],
   "source": [
    "z_0.isnull().sum()"
   ]
  },
  {
   "cell_type": "code",
   "execution_count": 7,
   "metadata": {},
   "outputs": [
    {
     "data": {
      "text/plain": [
       "Index(['ABILITY_EVL_CHNNL_ID', 'ABILITY_EVL_CHNNL_NM', 'ABILITY_EVL_COLCT_DE',\n",
       "       'ABILITY_EVL_CHNNL_DC', 'ABILITY_EVL_CHNNL_CREAT_DE',\n",
       "       'ABILITY_ACCTO_GROUP_ASGN', 'GROUP_ISE_CHNNL_CO',\n",
       "       'GROUP_ISE_READER_RANK', 'GROUP_ISE_RDCNT_RANK', 'GROUP_ISE_ILKT_RANK',\n",
       "       'ABILITY_EVL', 'PR_IDEX', 'RECENT_SIX_MONTH', 'FRST_SIX_MONTH',\n",
       "       'INTRC_DGREE_ONE_MONTH', 'GROUP_ISE_PR_IDEX_STD_SCORE',\n",
       "       'RECENT_SIX_MONTH_STD_SCORE', 'FRST_SIX_MONTH_STD_SCORE',\n",
       "       'INTRC_DO_ONE_MONTH_STD_SCORE'],\n",
       "      dtype='object')"
      ]
     },
     "execution_count": 7,
     "metadata": {},
     "output_type": "execute_result"
    }
   ],
   "source": [
    "z_0.columns"
   ]
  },
  {
   "cell_type": "code",
   "execution_count": null,
   "metadata": {},
   "outputs": [],
   "source": [
    "## API\n",
    "x = 'C:/Users/Admin/Desktop/MediaBigdata_20201120/data/video/year=2020'\n",
    "\n",
    "filepaths = [x + f for f in listdir(x) if f.endswith('.csv')]\n",
    "# comment = pd.read_csv(filepaths[3], header=0, sep=\"|\")\n",
    "# comment\n",
    "rawchan=[]\n",
    "# for filename in filepaths:\n",
    "#     temp = pd.read_csv(filename, header=0, sep=\"|\")\n",
    "#     rawchan.append(temp)\n",
    "\n",
    "for idx, filename in enumerate(filepaths):\n",
    "    try:\n",
    "        temp = pd.read_csv(filename, header=0, sep=\"|\")\n",
    "        rawchan.append(temp)\n",
    "    except:\n",
    "        print(idx, filename)\n",
    "api=pd.concat(rawchan, axis=0, ignore_index=True)"
   ]
  },
  {
   "cell_type": "code",
   "execution_count": null,
   "metadata": {},
   "outputs": [],
   "source": [
    "api.tail(2)"
   ]
  },
  {
   "cell_type": "code",
   "execution_count": null,
   "metadata": {},
   "outputs": [],
   "source": [
    "print(len(api.columns))\n",
    "print(len(z_0.columns))"
   ]
  },
  {
   "cell_type": "code",
   "execution_count": null,
   "metadata": {},
   "outputs": [],
   "source": [
    "api.columns"
   ]
  },
  {
   "cell_type": "code",
   "execution_count": null,
   "metadata": {},
   "outputs": [],
   "source": [
    "z_0.columns"
   ]
  },
  {
   "cell_type": "code",
   "execution_count": null,
   "metadata": {},
   "outputs": [],
   "source": [
    "z_df = z_0.sort_values(by='ABILITY_EVL_CHNNL_ID').reset_index(drop=True)"
   ]
  },
  {
   "cell_type": "code",
   "execution_count": null,
   "metadata": {},
   "outputs": [],
   "source": [
    "orig_df = api.sort_values(by='id').reset_index(drop=True)"
   ]
  },
  {
   "cell_type": "code",
   "execution_count": null,
   "metadata": {},
   "outputs": [],
   "source": [
    "orig_df = api.fillna(0)\n",
    "z_df = z_07.fillna(0)"
   ]
  },
  {
   "cell_type": "code",
   "execution_count": null,
   "metadata": {},
   "outputs": [],
   "source": [
    "orig_df['viewCount']"
   ]
  },
  {
   "cell_type": "code",
   "execution_count": null,
   "metadata": {},
   "outputs": [],
   "source": [
    "orig_df = orig_df.groupby('channelId').sum().reset_index()"
   ]
  },
  {
   "cell_type": "code",
   "execution_count": null,
   "metadata": {},
   "outputs": [],
   "source": [
    "orig_df.tail()"
   ]
  },
  {
   "cell_type": "code",
   "execution_count": null,
   "metadata": {},
   "outputs": [],
   "source": [
    "z_df.tail(5)"
   ]
  },
  {
   "cell_type": "code",
   "execution_count": null,
   "metadata": {},
   "outputs": [],
   "source": [
    "o_CHNNL_LK_P_V = orig_df[\"likeCount\"]/orig_df[\"viewCount\"]\n",
    "o_CHNNL_DLK_P_V = orig_df[\"dislikeCount\"]/orig_df[\"viewCount\"]\n",
    "o_CHNNL_LK_P_DLK = o_CHNNL_LK_P_V/o_CHNNL_DLK_P_V\n",
    "o_CHNNL_LK_P_DLK"
   ]
  },
  {
   "cell_type": "code",
   "execution_count": null,
   "metadata": {},
   "outputs": [],
   "source": [
    "o_CHNNL_LK_P_V\n",
    "min0 = min(o_CHNNL_LK_P_V.unique())\n",
    "max0 = max(o_CHNNL_LK_P_V.unique())\n",
    "o_CHNNL_LK_P_V_100 = ((o_CHNNL_LK_P_V- min0)/(max0-min0))*100\n",
    "\n",
    "o_CHNNL_DLK_P_V\n",
    "min1 = min(o_CHNNL_DLK_P_V.unique())\n",
    "max1 = max(o_CHNNL_DLK_P_V.unique())\n",
    "o_CHNNL_DLK_P_V_100 = ((o_CHNNL_DLK_P_V- min1)/(max1-min1))*100\n",
    "\n",
    "o_CHNNL_LK_P_DLK\n",
    "min2 = min(o_CHNNL_LK_P_DLK.unique())\n",
    "max2 = max(o_CHNNL_LK_P_DLK.unique())\n",
    "o_CHNNL_LK_P_DLK_100 = ((o_CHNNL_LK_P_DLK- min1)/(max1-min1))*100"
   ]
  },
  {
   "cell_type": "code",
   "execution_count": null,
   "metadata": {},
   "outputs": [],
   "source": [
    "o_CHNNL_LK_P_V_ZSC = ss.zscore(o_CHNNL_LK_P_V)\n",
    "o_CHNNL_DLK_P_V_ZSC = ss.zscore(o_CHNNL_DLK_P_V)\n",
    "o_CHNNL_LK_P_DLK_ZSC = ss.zscore(o_CHNNL_LK_P_DLK)"
   ]
  },
  {
   "cell_type": "code",
   "execution_count": null,
   "metadata": {},
   "outputs": [],
   "source": [
    "z_df['CHNNL_LK_P_DLK_ZSC']"
   ]
  },
  {
   "cell_type": "code",
   "execution_count": null,
   "metadata": {},
   "outputs": [],
   "source": [
    "ori0 = orig_df.copy()"
   ]
  },
  {
   "cell_type": "code",
   "execution_count": null,
   "metadata": {},
   "outputs": [],
   "source": [
    "ori0.tail(2)"
   ]
  },
  {
   "cell_type": "code",
   "execution_count": null,
   "metadata": {},
   "outputs": [],
   "source": [
    "ori0['o_CHNNL_LK_P_V'] = o_CHNNL_LK_P_V\n",
    "ori0['o_CHNNL_DLK_P_V'] = o_CHNNL_DLK_P_V\n",
    "ori0['o_CHNNL_LK_P_DLK'] = o_CHNNL_LK_P_DLK\n",
    "ori0['o_CHNNL_LK_P_V_100'] = o_CHNNL_LK_P_V_100\n",
    "ori0['o_CHNNL_DLK_P_V_100'] = o_CHNNL_DLK_P_V_100\n",
    "ori0['o_CHNNL_LK_P_DLK_100'] = o_CHNNL_LK_P_DLK_100\n",
    "ori0['o_CHNNL_LK_P_V_ZSC'] = o_CHNNL_LK_P_V_ZSC\n",
    "ori0['o_CHNNL_DLK_P_V_ZSC'] = o_CHNNL_DLK_P_V_ZSC\n",
    "ori0['o_CHNNL_LK_P_DLK_ZSC'] = o_CHNNL_LK_P_DLK_ZSC"
   ]
  },
  {
   "cell_type": "code",
   "execution_count": null,
   "metadata": {},
   "outputs": [],
   "source": [
    "ori0 = ori0.drop(['viewCount', 'likeCount', 'dislikeCount', 'commentCount'], axis='columns')\n",
    "ori0.tail(2)"
   ]
  },
  {
   "cell_type": "code",
   "execution_count": null,
   "metadata": {},
   "outputs": [],
   "source": [
    "print(len(z_3))\n",
    "print(len(ori0))\n",
    "print(z_3.columns)\n",
    "print(ori0.columns)\n",
    "print(len(z_3.columns))\n",
    "print(len(ori0.columns))"
   ]
  },
  {
   "cell_type": "code",
   "execution_count": null,
   "metadata": {},
   "outputs": [],
   "source": [
    "ori0 = ori0.fillna(0)\n",
    "z_df = z_df.fillna(0)"
   ]
  },
  {
   "cell_type": "code",
   "execution_count": null,
   "metadata": {},
   "outputs": [],
   "source": [
    "ori0.columns = z_df.columns.tolist()"
   ]
  },
  {
   "cell_type": "code",
   "execution_count": null,
   "metadata": {},
   "outputs": [],
   "source": [
    "z_df = z_df.sort_values(by='ABILITY_EVL_CHNNL_ID').reset_index(drop=True)\n",
    "ori0 = ori0.sort_values(by='ABILITY_EVL_CHNNL_ID').reset_index(drop=True)"
   ]
  },
  {
   "cell_type": "code",
   "execution_count": null,
   "metadata": {},
   "outputs": [],
   "source": [
    "z_df = z_df[z_df['ABILITY_EVL_CHNNL_ID'].isin(ori0['ABILITY_EVL_CHNNL_ID'])]\n",
    "ori0 = ori0[ori0['ABILITY_EVL_CHNNL_ID'].isin(z_df['ABILITY_EVL_CHNNL_ID'])]"
   ]
  },
  {
   "cell_type": "code",
   "execution_count": null,
   "metadata": {},
   "outputs": [],
   "source": [
    "z_df.tail(2)"
   ]
  },
  {
   "cell_type": "code",
   "execution_count": null,
   "metadata": {},
   "outputs": [],
   "source": [
    "ori0.tail(2)"
   ]
  },
  {
   "cell_type": "code",
   "execution_count": null,
   "metadata": {},
   "outputs": [],
   "source": [
    "ori0 = ori0.round(3)\n",
    "ori0.tail(2)"
   ]
  },
  {
   "cell_type": "code",
   "execution_count": null,
   "metadata": {},
   "outputs": [],
   "source": [
    "abnorm = []\n",
    "\n",
    "for i in z_df.index:\n",
    "    for col in z_df.columns:\n",
    "        if z_df[col][i] == ori0[col][i]:\n",
    "            pass\n",
    "        else:\n",
    "            abnorm.append(i)\n",
    "            print(i, col, z_df['ABILITY_EVL_CHNNL_ID'][i])"
   ]
  },
  {
   "cell_type": "code",
   "execution_count": null,
   "metadata": {},
   "outputs": [],
   "source": [
    "Abnormal_TU_VC_ABILITY_EVL = z_df[z_df.index.isin(abnorm)]"
   ]
  },
  {
   "cell_type": "code",
   "execution_count": null,
   "metadata": {},
   "outputs": [],
   "source": [
    "Abnormal_TU_VC_ABILITY_EVL.to_csv('Abnormal(TU_VC_ABILITY_EVL).csv')"
   ]
  }
 ],
 "metadata": {
  "kernelspec": {
   "display_name": "Python 3",
   "language": "python",
   "name": "python3"
  },
  "language_info": {
   "codemirror_mode": {
    "name": "ipython",
    "version": 3
   },
   "file_extension": ".py",
   "mimetype": "text/x-python",
   "name": "python",
   "nbconvert_exporter": "python",
   "pygments_lexer": "ipython3",
   "version": "3.8.3"
  }
 },
 "nbformat": 4,
 "nbformat_minor": 4
}

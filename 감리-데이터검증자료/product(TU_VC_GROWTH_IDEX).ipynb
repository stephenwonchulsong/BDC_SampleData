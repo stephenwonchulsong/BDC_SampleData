{
 "cells": [
  {
   "cell_type": "code",
   "execution_count": 1,
   "metadata": {},
   "outputs": [],
   "source": [
    "import pandas as pd\n",
    "import numpy as np\n",
    "import os\n",
    "from os import listdir\n",
    "\n",
    "import scipy.stats as ss\n",
    "import math"
   ]
  },
  {
   "cell_type": "code",
   "execution_count": 2,
   "metadata": {},
   "outputs": [],
   "source": [
    "\n",
    "\n",
    "z_0 = 'C:/Users/Admin/Desktop/MediaBigdata_20201120/products/TU_VC_GROWTH_IDEX/year=2020/month=10/day=01/HYU_TU_VC_GROWTH_IDEX_20201001193707.csv'\n",
    "z_0 = pd.read_csv(z_0, header=0, sep=\",\")"
   ]
  },
  {
   "cell_type": "code",
   "execution_count": 3,
   "metadata": {},
   "outputs": [
    {
     "data": {
      "text/html": [
       "<div>\n",
       "<style scoped>\n",
       "    .dataframe tbody tr th:only-of-type {\n",
       "        vertical-align: middle;\n",
       "    }\n",
       "\n",
       "    .dataframe tbody tr th {\n",
       "        vertical-align: top;\n",
       "    }\n",
       "\n",
       "    .dataframe thead th {\n",
       "        text-align: right;\n",
       "    }\n",
       "</style>\n",
       "<table border=\"1\" class=\"dataframe\">\n",
       "  <thead>\n",
       "    <tr style=\"text-align: right;\">\n",
       "      <th></th>\n",
       "      <th>GROWTH_IDEX_VIDO_ID</th>\n",
       "      <th>GROWTH_IDEX_VIDO_CTGRY</th>\n",
       "      <th>GROWTH_IDEX_VIDO_DC</th>\n",
       "      <th>GROWTH_IDEX_VIDO_LT</th>\n",
       "      <th>GROWTH_IDEX_VIDO_SJ</th>\n",
       "      <th>GROWTH_IDEX_CHNNL_ID</th>\n",
       "      <th>GROWTH_IDEX_CHNNL_NM</th>\n",
       "      <th>GROWTH_IDEX_COLCT_DE</th>\n",
       "      <th>GROWTH_IDEX_CHNNL_DC</th>\n",
       "      <th>GROWTH_IDEX_CHNNL_CREAT_DE</th>\n",
       "      <th>DYRG_RDCNT</th>\n",
       "      <th>AVRG_PROVS_24HOUR_RDCNT</th>\n",
       "      <th>24HOUR_RDCNT</th>\n",
       "      <th>RECENT_1WEEK_DAY</th>\n",
       "      <th>RECENT_ONE_MONTH</th>\n",
       "      <th>DYRG_RDCNT_STD_SCORE</th>\n",
       "      <th>AVRG_PROVS_24HOUR_RDCNT_SCORE</th>\n",
       "      <th>24HOUR_RDCNT_STD_SCORE</th>\n",
       "      <th>RECENT_1WEEK_DAY_STD_SCORE</th>\n",
       "      <th>RECENT_ONE_MONTH_STD_SCORE</th>\n",
       "    </tr>\n",
       "  </thead>\n",
       "  <tbody>\n",
       "    <tr>\n",
       "      <th>2033244</th>\n",
       "      <td>v7WVOSNOmCI</td>\n",
       "      <td>반려동물/동물</td>\n",
       "      <td>NaN</td>\n",
       "      <td>PT2M43S</td>\n",
       "      <td>파충익광고) 한국에만 존재하는 법의 실체는??!</td>\n",
       "      <td>UCwl9OALh8IMwSv_kFdHlMDA</td>\n",
       "      <td>다흑님</td>\n",
       "      <td>2020-10-01</td>\n",
       "      <td>파충류;절지류;곤충;이색동물;애완동물;EXOTIC;다정한흑형; https:xn--9...</td>\n",
       "      <td>2015-05-31</td>\n",
       "      <td>0.000</td>\n",
       "      <td>66.302</td>\n",
       "      <td>NaN</td>\n",
       "      <td>NaN</td>\n",
       "      <td>NaN</td>\n",
       "      <td>-0.030</td>\n",
       "      <td>-0.061</td>\n",
       "      <td>NaN</td>\n",
       "      <td>NaN</td>\n",
       "      <td>NaN</td>\n",
       "    </tr>\n",
       "    <tr>\n",
       "      <th>2033245</th>\n",
       "      <td>iiALwOVqnAk</td>\n",
       "      <td>반려동물/동물</td>\n",
       "      <td>NaN</td>\n",
       "      <td>PT2M31S</td>\n",
       "      <td>6750만원 소녀가 전달한 도마뱀의 주인을 찾습니다...!!</td>\n",
       "      <td>UCwl9OALh8IMwSv_kFdHlMDA</td>\n",
       "      <td>다흑님</td>\n",
       "      <td>2020-10-01</td>\n",
       "      <td>파충류;절지류;곤충;이색동물;애완동물;EXOTIC;다정한흑형; https:xn--9...</td>\n",
       "      <td>2015-05-31</td>\n",
       "      <td>0.001</td>\n",
       "      <td>66.192</td>\n",
       "      <td>NaN</td>\n",
       "      <td>NaN</td>\n",
       "      <td>NaN</td>\n",
       "      <td>-0.026</td>\n",
       "      <td>-0.454</td>\n",
       "      <td>NaN</td>\n",
       "      <td>NaN</td>\n",
       "      <td>NaN</td>\n",
       "    </tr>\n",
       "    <tr>\n",
       "      <th>2033246</th>\n",
       "      <td>iiALwOVqnAk</td>\n",
       "      <td>반려동물/동물</td>\n",
       "      <td>NaN</td>\n",
       "      <td>PT2M31S</td>\n",
       "      <td>6750만원 소녀가 전달한 도마뱀의 주인을 찾습니다...!!</td>\n",
       "      <td>UCwl9OALh8IMwSv_kFdHlMDA</td>\n",
       "      <td>다흑님</td>\n",
       "      <td>2020-10-01</td>\n",
       "      <td>파충류;절지류;곤충;이색동물;애완동물;EXOTIC;다정한흑형; https:xn--9...</td>\n",
       "      <td>2015-05-31</td>\n",
       "      <td>0.001</td>\n",
       "      <td>66.192</td>\n",
       "      <td>NaN</td>\n",
       "      <td>NaN</td>\n",
       "      <td>NaN</td>\n",
       "      <td>-0.026</td>\n",
       "      <td>-0.454</td>\n",
       "      <td>NaN</td>\n",
       "      <td>NaN</td>\n",
       "      <td>NaN</td>\n",
       "    </tr>\n",
       "    <tr>\n",
       "      <th>2033247</th>\n",
       "      <td>18AvxrQVzSU</td>\n",
       "      <td>반려동물/동물</td>\n",
       "      <td>NaN</td>\n",
       "      <td>PT6M16S</td>\n",
       "      <td>선물 클라스ㅋㅋ 타란튤라들을 왕창 받아버렸네</td>\n",
       "      <td>UCwl9OALh8IMwSv_kFdHlMDA</td>\n",
       "      <td>다흑님</td>\n",
       "      <td>2020-10-01</td>\n",
       "      <td>파충류;절지류;곤충;이색동물;애완동물;EXOTIC;다정한흑형; https:xn--9...</td>\n",
       "      <td>2015-05-31</td>\n",
       "      <td>0.001</td>\n",
       "      <td>66.302</td>\n",
       "      <td>NaN</td>\n",
       "      <td>NaN</td>\n",
       "      <td>NaN</td>\n",
       "      <td>-0.028</td>\n",
       "      <td>-0.060</td>\n",
       "      <td>NaN</td>\n",
       "      <td>NaN</td>\n",
       "      <td>NaN</td>\n",
       "    </tr>\n",
       "    <tr>\n",
       "      <th>2033248</th>\n",
       "      <td>18AvxrQVzSU</td>\n",
       "      <td>반려동물/동물</td>\n",
       "      <td>NaN</td>\n",
       "      <td>PT6M16S</td>\n",
       "      <td>선물 클라스ㅋㅋ 타란튤라들을 왕창 받아버렸네</td>\n",
       "      <td>UCwl9OALh8IMwSv_kFdHlMDA</td>\n",
       "      <td>다흑님</td>\n",
       "      <td>2020-10-01</td>\n",
       "      <td>파충류;절지류;곤충;이색동물;애완동물;EXOTIC;다정한흑형; https:xn--9...</td>\n",
       "      <td>2015-05-31</td>\n",
       "      <td>0.001</td>\n",
       "      <td>66.302</td>\n",
       "      <td>NaN</td>\n",
       "      <td>NaN</td>\n",
       "      <td>NaN</td>\n",
       "      <td>-0.028</td>\n",
       "      <td>-0.060</td>\n",
       "      <td>NaN</td>\n",
       "      <td>NaN</td>\n",
       "      <td>NaN</td>\n",
       "    </tr>\n",
       "  </tbody>\n",
       "</table>\n",
       "</div>"
      ],
      "text/plain": [
       "        GROWTH_IDEX_VIDO_ID GROWTH_IDEX_VIDO_CTGRY GROWTH_IDEX_VIDO_DC  \\\n",
       "2033244         v7WVOSNOmCI                반려동물/동물                 NaN   \n",
       "2033245         iiALwOVqnAk                반려동물/동물                 NaN   \n",
       "2033246         iiALwOVqnAk                반려동물/동물                 NaN   \n",
       "2033247         18AvxrQVzSU                반려동물/동물                 NaN   \n",
       "2033248         18AvxrQVzSU                반려동물/동물                 NaN   \n",
       "\n",
       "        GROWTH_IDEX_VIDO_LT                GROWTH_IDEX_VIDO_SJ  \\\n",
       "2033244             PT2M43S         파충익광고) 한국에만 존재하는 법의 실체는??!   \n",
       "2033245             PT2M31S  6750만원 소녀가 전달한 도마뱀의 주인을 찾습니다...!!   \n",
       "2033246             PT2M31S  6750만원 소녀가 전달한 도마뱀의 주인을 찾습니다...!!   \n",
       "2033247             PT6M16S           선물 클라스ㅋㅋ 타란튤라들을 왕창 받아버렸네   \n",
       "2033248             PT6M16S           선물 클라스ㅋㅋ 타란튤라들을 왕창 받아버렸네   \n",
       "\n",
       "             GROWTH_IDEX_CHNNL_ID GROWTH_IDEX_CHNNL_NM GROWTH_IDEX_COLCT_DE  \\\n",
       "2033244  UCwl9OALh8IMwSv_kFdHlMDA                  다흑님           2020-10-01   \n",
       "2033245  UCwl9OALh8IMwSv_kFdHlMDA                  다흑님           2020-10-01   \n",
       "2033246  UCwl9OALh8IMwSv_kFdHlMDA                  다흑님           2020-10-01   \n",
       "2033247  UCwl9OALh8IMwSv_kFdHlMDA                  다흑님           2020-10-01   \n",
       "2033248  UCwl9OALh8IMwSv_kFdHlMDA                  다흑님           2020-10-01   \n",
       "\n",
       "                                      GROWTH_IDEX_CHNNL_DC  \\\n",
       "2033244  파충류;절지류;곤충;이색동물;애완동물;EXOTIC;다정한흑형; https:xn--9...   \n",
       "2033245  파충류;절지류;곤충;이색동물;애완동물;EXOTIC;다정한흑형; https:xn--9...   \n",
       "2033246  파충류;절지류;곤충;이색동물;애완동물;EXOTIC;다정한흑형; https:xn--9...   \n",
       "2033247  파충류;절지류;곤충;이색동물;애완동물;EXOTIC;다정한흑형; https:xn--9...   \n",
       "2033248  파충류;절지류;곤충;이색동물;애완동물;EXOTIC;다정한흑형; https:xn--9...   \n",
       "\n",
       "        GROWTH_IDEX_CHNNL_CREAT_DE  DYRG_RDCNT  AVRG_PROVS_24HOUR_RDCNT  \\\n",
       "2033244                 2015-05-31       0.000                   66.302   \n",
       "2033245                 2015-05-31       0.001                   66.192   \n",
       "2033246                 2015-05-31       0.001                   66.192   \n",
       "2033247                 2015-05-31       0.001                   66.302   \n",
       "2033248                 2015-05-31       0.001                   66.302   \n",
       "\n",
       "         24HOUR_RDCNT  RECENT_1WEEK_DAY  RECENT_ONE_MONTH  \\\n",
       "2033244           NaN               NaN               NaN   \n",
       "2033245           NaN               NaN               NaN   \n",
       "2033246           NaN               NaN               NaN   \n",
       "2033247           NaN               NaN               NaN   \n",
       "2033248           NaN               NaN               NaN   \n",
       "\n",
       "         DYRG_RDCNT_STD_SCORE  AVRG_PROVS_24HOUR_RDCNT_SCORE  \\\n",
       "2033244                -0.030                         -0.061   \n",
       "2033245                -0.026                         -0.454   \n",
       "2033246                -0.026                         -0.454   \n",
       "2033247                -0.028                         -0.060   \n",
       "2033248                -0.028                         -0.060   \n",
       "\n",
       "         24HOUR_RDCNT_STD_SCORE  RECENT_1WEEK_DAY_STD_SCORE  \\\n",
       "2033244                     NaN                         NaN   \n",
       "2033245                     NaN                         NaN   \n",
       "2033246                     NaN                         NaN   \n",
       "2033247                     NaN                         NaN   \n",
       "2033248                     NaN                         NaN   \n",
       "\n",
       "         RECENT_ONE_MONTH_STD_SCORE  \n",
       "2033244                         NaN  \n",
       "2033245                         NaN  \n",
       "2033246                         NaN  \n",
       "2033247                         NaN  \n",
       "2033248                         NaN  "
      ]
     },
     "execution_count": 3,
     "metadata": {},
     "output_type": "execute_result"
    }
   ],
   "source": [
    "z_0.tail()"
   ]
  },
  {
   "cell_type": "code",
   "execution_count": null,
   "metadata": {},
   "outputs": [],
   "source": [
    "\n",
    "\n",
    "# GROWTH_IDEX_VIDO_ID\t성장지수영상ID\t\n",
    "# GROWTH_IDEX_VIDO_CTGRY\t성장지수영상범주\t\n",
    "# GROWTH_IDEX_VIDO_DC\t성장지수영상설명\t\n",
    "# GROWTH_IDEX_VIDO_LT\t성장지수영상길이\t\n",
    "# GROWTH_IDEX_VIDO_SJ\t성장지수영상제목\t\n",
    "# GROWTH_IDEX_CHNNL_ID\t성장지수채널ID\t\n",
    "# GROWTH_IDEX_CHNNL_NM\t성장지수채널명\t\n",
    "# GROWTH_IDEX_COLCT_DE\t성장지수수집일자\t\n",
    "# GROWTH_IDEX_CHNNL_DC\t성장지수채널설명\t\n",
    "# GROWTH_IDEX_CHNNL_CREAT_DE\t성장지수채널생성일자\t\n",
    "# DYRG_RDCNT\t일평균조회수\tviewCount_M\n",
    "# AVRG_PROVS_24HOUR_RDCNT\t평균대비24시간조회수\t((viewCount_24H / viewCount_M) * 4.6 + (likeCount_24H / (likeCount_M)) * 35.2 + (commentCount_24H / (commentCount_M)) * 8.6) / (4.6 + 35.2 + 8.6) * 100\n",
    "# 24HOUR_RDCNT\t24시간조회수\t((viewCount_24H / (viewCount_24H-viewCount_48H)) * 4.6 + (likeCount_24H / (likeCount_24H-likeCount_48H)) * 35.2 + (commentCount_24H / (commentCount_24H-commentCount_48H)) * 8.6) / (4.6 + 35.2 + 8.6) * 100\n",
    "# RECENT_1WEEK_DAY\t최근1주일\t((viewCount_1W / (viewCount_1W-viewCount_2W)) * 4.6 + (likeCount_1W / (likeCount_1W-likeCount_2W)) * 35.2 + (commentCount_1W / (commentCount_1W-commentCount_2W)) * 8.6) / (4.6 + 35.2 + 8.6) * 100\n",
    "# RECENT_ONE_MONTH\t최근1개월\t((viewCount_1M / (viewCount_1M-viewCount_2M)) * 4.6 + (likeCount_1M / (likeCount_1M-likeCount_2M)) * 35.2 + (commentCount_1M / (commentCount_1M-commentCount_2M)) * 8.6) / (4.6 + 35.2 + 8.6) * 100\n",
    "# DYRG_RDCNT_STD_SCORE\t일평균조회수표준점수\tviewCount_M\n",
    "# AVRG_PROVS_24HOUR_RDCNT_SCORE\t평균대비24시간조회수점수\t((viewCount_24H / viewCount_M) * 4.6 + (likeCount_24H / (likeCount_M)) * 35.2 + (commentCount_24H / (commentCount_M)) * 8.6) / (4.6 + 35.2 + 8.6) * 100\n",
    "# 24HOUR_RDCNT_STD_SCORE\t24시간조회수표준점수\t((viewCount_24H / (viewCount_24H-viewCount_48H)) * 4.6 + (likeCount_24H / (likeCount_24H-likeCount_48H)) * 35.2 + (commentCount_24H / (commentCount_24H-commentCount_48H)) * 8.6) / (4.6 + 35.2 + 8.6) * 100\n",
    "# RECENT_1WEEK_DAY_STD_SCORE\t최근1주일표준점수\t((viewCount_1W / (viewCount_1W-viewCount_2W)) * 4.6 + (likeCount_1W / (likeCount_1W-likeCount_2W)) * 35.2 + (commentCount_1W / (commentCount_1W-commentCount_2W)) * 8.6) / (4.6 + 35.2 + 8.6) * 100\n",
    "# RECENT_ONE_MONTH_STD_SCORE\t최근1개월표준점수\t((viewCount_1M / (viewCount_1M-viewCount_2M)) * 4.6 + (likeCount_1M / (likeCount_1M-likeCount_2M)) * 35.2 + (commentCount_1M / (commentCount_1M-commentCount_2M)) * 8.6) / (4.6 + 35.2 + 8.6) * 100\n"
   ]
  },
  {
   "cell_type": "code",
   "execution_count": 11,
   "metadata": {},
   "outputs": [
    {
     "name": "stdout",
     "output_type": "stream",
     "text": [
      "[   nan  0.377  0.658 ...  1.048 -1.464  2.339]\n",
      "[   nan  0.55   0.552 ... -3.796 -3.853 -6.214]\n",
      "[   nan  0.174  0.179 ...  2.484  0.687 -2.128]\n"
     ]
    }
   ],
   "source": [
    "print(z_0[\"24HOUR_RDCNT_STD_SCORE\"].unique())\n",
    "print(z_0[\"RECENT_1WEEK_DAY_STD_SCORE\"].unique())\n",
    "print(z_0[\"RECENT_ONE_MONTH_STD_SCORE\"].unique())\n"
   ]
  },
  {
   "cell_type": "code",
   "execution_count": null,
   "metadata": {},
   "outputs": [],
   "source": [
    "z_0.isnull().sum()"
   ]
  },
  {
   "cell_type": "code",
   "execution_count": null,
   "metadata": {},
   "outputs": [],
   "source": [
    "z_0.columns"
   ]
  },
  {
   "cell_type": "code",
   "execution_count": null,
   "metadata": {},
   "outputs": [],
   "source": [
    "## API\n",
    "x = 'C:/Users/Admin/Desktop/MediaBigdata_20201120/data/video/year=2020'\n",
    "\n",
    "filepaths = [x + f for f in listdir(x) if f.endswith('.csv')]\n",
    "# comment = pd.read_csv(filepaths[3], header=0, sep=\"|\")\n",
    "# comment\n",
    "rawchan=[]\n",
    "# for filename in filepaths:\n",
    "#     temp = pd.read_csv(filename, header=0, sep=\"|\")\n",
    "#     rawchan.append(temp)\n",
    "\n",
    "for idx, filename in enumerate(filepaths):\n",
    "    try:\n",
    "        temp = pd.read_csv(filename, header=0, sep=\"|\")\n",
    "        rawchan.append(temp)\n",
    "    except:\n",
    "        print(idx, filename)\n",
    "api=pd.concat(rawchan, axis=0, ignore_index=True)"
   ]
  },
  {
   "cell_type": "code",
   "execution_count": null,
   "metadata": {},
   "outputs": [],
   "source": [
    "api.tail(2)"
   ]
  },
  {
   "cell_type": "code",
   "execution_count": null,
   "metadata": {},
   "outputs": [],
   "source": [
    "print(len(api.columns))\n",
    "print(len(z_0.columns))"
   ]
  },
  {
   "cell_type": "code",
   "execution_count": null,
   "metadata": {},
   "outputs": [],
   "source": [
    "api.columns"
   ]
  },
  {
   "cell_type": "code",
   "execution_count": null,
   "metadata": {},
   "outputs": [],
   "source": [
    "z_0.columns"
   ]
  },
  {
   "cell_type": "code",
   "execution_count": null,
   "metadata": {},
   "outputs": [],
   "source": [
    "z_df = z_0.sort_values(by='GROWTH_IDEX_VIDO_ID').reset_index(drop=True)"
   ]
  },
  {
   "cell_type": "code",
   "execution_count": null,
   "metadata": {},
   "outputs": [],
   "source": [
    "GROWTH_IDEX_VIDO_ID"
   ]
  },
  {
   "cell_type": "code",
   "execution_count": null,
   "metadata": {},
   "outputs": [],
   "source": [
    "orig_df = api.sort_values(by='id').reset_index(drop=True)"
   ]
  },
  {
   "cell_type": "code",
   "execution_count": null,
   "metadata": {},
   "outputs": [],
   "source": [
    "orig_df = api.fillna(0)\n",
    "z_df = z_0.fillna(0)"
   ]
  },
  {
   "cell_type": "code",
   "execution_count": null,
   "metadata": {},
   "outputs": [],
   "source": [
    "orig_df['viewCount']"
   ]
  },
  {
   "cell_type": "code",
   "execution_count": null,
   "metadata": {},
   "outputs": [],
   "source": [
    "orig_df = orig_df.groupby('channelId').sum().reset_index()"
   ]
  },
  {
   "cell_type": "code",
   "execution_count": null,
   "metadata": {},
   "outputs": [],
   "source": [
    "orig_df.tail()"
   ]
  },
  {
   "cell_type": "code",
   "execution_count": null,
   "metadata": {},
   "outputs": [],
   "source": [
    "z_df.tail(5)"
   ]
  },
  {
   "cell_type": "code",
   "execution_count": null,
   "metadata": {},
   "outputs": [],
   "source": [
    "o_CHNNL_LK_P_V = orig_df[\"likeCount\"]/orig_df[\"viewCount\"]\n",
    "o_CHNNL_DLK_P_V = orig_df[\"dislikeCount\"]/orig_df[\"viewCount\"]\n",
    "o_CHNNL_LK_P_DLK = o_CHNNL_LK_P_V/o_CHNNL_DLK_P_V\n",
    "o_CHNNL_LK_P_DLK"
   ]
  },
  {
   "cell_type": "code",
   "execution_count": null,
   "metadata": {},
   "outputs": [],
   "source": [
    "o_CHNNL_LK_P_V\n",
    "min0 = min(o_CHNNL_LK_P_V.unique())\n",
    "max0 = max(o_CHNNL_LK_P_V.unique())\n",
    "o_CHNNL_LK_P_V_100 = ((o_CHNNL_LK_P_V- min0)/(max0-min0))*100\n",
    "\n",
    "o_CHNNL_DLK_P_V\n",
    "min1 = min(o_CHNNL_DLK_P_V.unique())\n",
    "max1 = max(o_CHNNL_DLK_P_V.unique())\n",
    "o_CHNNL_DLK_P_V_100 = ((o_CHNNL_DLK_P_V- min1)/(max1-min1))*100\n",
    "\n",
    "o_CHNNL_LK_P_DLK\n",
    "min2 = min(o_CHNNL_LK_P_DLK.unique())\n",
    "max2 = max(o_CHNNL_LK_P_DLK.unique())\n",
    "o_CHNNL_LK_P_DLK_100 = ((o_CHNNL_LK_P_DLK- min1)/(max1-min1))*100"
   ]
  },
  {
   "cell_type": "code",
   "execution_count": null,
   "metadata": {},
   "outputs": [],
   "source": [
    "o_CHNNL_LK_P_V_ZSC = ss.zscore(o_CHNNL_LK_P_V)\n",
    "o_CHNNL_DLK_P_V_ZSC = ss.zscore(o_CHNNL_DLK_P_V)\n",
    "o_CHNNL_LK_P_DLK_ZSC = ss.zscore(o_CHNNL_LK_P_DLK)"
   ]
  },
  {
   "cell_type": "code",
   "execution_count": null,
   "metadata": {},
   "outputs": [],
   "source": [
    "z_df['CHNNL_LK_P_DLK_ZSC']"
   ]
  },
  {
   "cell_type": "code",
   "execution_count": null,
   "metadata": {},
   "outputs": [],
   "source": [
    "ori0 = orig_df.copy()"
   ]
  },
  {
   "cell_type": "code",
   "execution_count": null,
   "metadata": {},
   "outputs": [],
   "source": [
    "ori0.tail(2)"
   ]
  },
  {
   "cell_type": "code",
   "execution_count": null,
   "metadata": {},
   "outputs": [],
   "source": [
    "ori0['o_CHNNL_LK_P_V'] = o_CHNNL_LK_P_V\n",
    "ori0['o_CHNNL_DLK_P_V'] = o_CHNNL_DLK_P_V\n",
    "ori0['o_CHNNL_LK_P_DLK'] = o_CHNNL_LK_P_DLK\n",
    "ori0['o_CHNNL_LK_P_V_100'] = o_CHNNL_LK_P_V_100\n",
    "ori0['o_CHNNL_DLK_P_V_100'] = o_CHNNL_DLK_P_V_100\n",
    "ori0['o_CHNNL_LK_P_DLK_100'] = o_CHNNL_LK_P_DLK_100\n",
    "ori0['o_CHNNL_LK_P_V_ZSC'] = o_CHNNL_LK_P_V_ZSC\n",
    "ori0['o_CHNNL_DLK_P_V_ZSC'] = o_CHNNL_DLK_P_V_ZSC\n",
    "ori0['o_CHNNL_LK_P_DLK_ZSC'] = o_CHNNL_LK_P_DLK_ZSC"
   ]
  },
  {
   "cell_type": "code",
   "execution_count": null,
   "metadata": {},
   "outputs": [],
   "source": [
    "ori0 = ori0.drop(['viewCount', 'likeCount', 'dislikeCount', 'commentCount'], axis='columns')\n",
    "ori0.tail(2)"
   ]
  },
  {
   "cell_type": "code",
   "execution_count": null,
   "metadata": {},
   "outputs": [],
   "source": [
    "print(len(z_3))\n",
    "print(len(ori0))\n",
    "print(z_3.columns)\n",
    "print(ori0.columns)\n",
    "print(len(z_3.columns))\n",
    "print(len(ori0.columns))"
   ]
  },
  {
   "cell_type": "code",
   "execution_count": null,
   "metadata": {},
   "outputs": [],
   "source": [
    "ori0 = ori0.fillna(0)\n",
    "z_df = z_df.fillna(0)"
   ]
  },
  {
   "cell_type": "code",
   "execution_count": null,
   "metadata": {},
   "outputs": [],
   "source": [
    "ori0.columns = z_df.columns.tolist()"
   ]
  },
  {
   "cell_type": "code",
   "execution_count": null,
   "metadata": {},
   "outputs": [],
   "source": [
    "z_df = z_df.sort_values(by='GROWTH_IDEX_VIDO_ID').reset_index(drop=True)\n",
    "ori0 = ori0.sort_values(by='GROWTH_IDEX_VIDO_ID').reset_index(drop=True)"
   ]
  },
  {
   "cell_type": "code",
   "execution_count": null,
   "metadata": {},
   "outputs": [],
   "source": [
    "z_df = z_df[z_df['GROWTH_IDEX_VIDO_ID'].isin(ori0['GROWTH_IDEX_VIDO_ID'])]\n",
    "ori0 = ori0[ori0['GROWTH_IDEX_VIDO_ID'].isin(z_df['GROWTH_IDEX_VIDO_ID'])]"
   ]
  },
  {
   "cell_type": "code",
   "execution_count": null,
   "metadata": {},
   "outputs": [],
   "source": [
    "z_df.tail(2)"
   ]
  },
  {
   "cell_type": "code",
   "execution_count": null,
   "metadata": {},
   "outputs": [],
   "source": [
    "ori0.tail(2)"
   ]
  },
  {
   "cell_type": "code",
   "execution_count": null,
   "metadata": {},
   "outputs": [],
   "source": [
    "ori0 = ori0.round(3)\n",
    "ori0.tail(2)"
   ]
  },
  {
   "cell_type": "code",
   "execution_count": null,
   "metadata": {},
   "outputs": [],
   "source": [
    "abnorm = []\n",
    "\n",
    "for i in z_df.index:\n",
    "    for col in z_df.columns:\n",
    "        if z_df[col][i] == ori0[col][i]:\n",
    "            pass\n",
    "        else:\n",
    "            abnorm.append(i)\n",
    "            print(i, col, z_df['GROWTH_IDEX_VIDO_ID'][i])"
   ]
  },
  {
   "cell_type": "code",
   "execution_count": null,
   "metadata": {},
   "outputs": [],
   "source": [
    "Abnormal_TU_VC_GROWTH_IDEX = z_df[z_df.index.isin(abnorm)]"
   ]
  },
  {
   "cell_type": "code",
   "execution_count": null,
   "metadata": {},
   "outputs": [],
   "source": [
    "Abnormal_TU_VC_GROWTH_IDEX.to_csv('Abnormal(TU_VC_GROWTH_IDEX).csv')"
   ]
  }
 ],
 "metadata": {
  "kernelspec": {
   "display_name": "Python 3",
   "language": "python",
   "name": "python3"
  },
  "language_info": {
   "codemirror_mode": {
    "name": "ipython",
    "version": 3
   },
   "file_extension": ".py",
   "mimetype": "text/x-python",
   "name": "python",
   "nbconvert_exporter": "python",
   "pygments_lexer": "ipython3",
   "version": "3.8.3"
  }
 },
 "nbformat": 4,
 "nbformat_minor": 4
}

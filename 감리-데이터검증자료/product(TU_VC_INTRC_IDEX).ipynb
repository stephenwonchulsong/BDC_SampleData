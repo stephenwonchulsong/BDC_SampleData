{
 "cells": [
  {
   "cell_type": "code",
   "execution_count": 1,
   "metadata": {},
   "outputs": [],
   "source": [
    "import pandas as pd\n",
    "import numpy as np\n",
    "import os\n",
    "from os import listdir\n",
    "\n",
    "import scipy.stats as ss\n",
    "import math"
   ]
  },
  {
   "cell_type": "code",
   "execution_count": 2,
   "metadata": {},
   "outputs": [
    {
     "data": {
      "text/html": [
       "<div>\n",
       "<style scoped>\n",
       "    .dataframe tbody tr th:only-of-type {\n",
       "        vertical-align: middle;\n",
       "    }\n",
       "\n",
       "    .dataframe tbody tr th {\n",
       "        vertical-align: top;\n",
       "    }\n",
       "\n",
       "    .dataframe thead th {\n",
       "        text-align: right;\n",
       "    }\n",
       "</style>\n",
       "<table border=\"1\" class=\"dataframe\">\n",
       "  <thead>\n",
       "    <tr style=\"text-align: right;\">\n",
       "      <th></th>\n",
       "      <th>INTRC_IDEX_CHNNL_ID</th>\n",
       "      <th>INTRC_IDEX_CHNNL_NM</th>\n",
       "      <th>INTRC_IDEX_COLCT_DE</th>\n",
       "      <th>INTRC_IDEX_CHNNL_DC</th>\n",
       "      <th>INTRC_IDEX_CHNNL_CREAT_DE</th>\n",
       "      <th>IDEX_ALL</th>\n",
       "      <th>IDEX_ONE_MONTH</th>\n",
       "      <th>IDEX_THREE_MONTH</th>\n",
       "      <th>AVRG_CMNTR_CO</th>\n",
       "      <th>PERWEEK_CMNTR_CO</th>\n",
       "      <th>INTRC_IDEX_ALL</th>\n",
       "      <th>INTRC_IDEX_ONE_MONTH</th>\n",
       "      <th>INTRC_IDEX_THREE_MONTH</th>\n",
       "      <th>INTRC_IDEX_AVRG_CMNTR_CO</th>\n",
       "      <th>INTRC_IDEX_PERWEEK_CMNTR_CO</th>\n",
       "      <th>INTRC_IDEX_ALL_STD_SCORE</th>\n",
       "      <th>ONE_MONTH_STD_SCORE</th>\n",
       "      <th>THREE_MONTH_STD_SCORE</th>\n",
       "      <th>AVRG_CO_STD_SCORE</th>\n",
       "      <th>PERWEEK_CO_STD_SCORE</th>\n",
       "    </tr>\n",
       "  </thead>\n",
       "  <tbody>\n",
       "    <tr>\n",
       "      <th>2665</th>\n",
       "      <td>UC_jNan0EvSTUNKT2dj6U31A</td>\n",
       "      <td>피큐큐</td>\n",
       "      <td>2020-10-01</td>\n",
       "      <td>친근한 동네 형 같은 마성의 매력 삐뀨뀪  문의 - pqq@sandbox.co.kr</td>\n",
       "      <td>2015-06-09</td>\n",
       "      <td>6.000750e+11</td>\n",
       "      <td>4106946.0</td>\n",
       "      <td>6.122304e+09</td>\n",
       "      <td>191.783</td>\n",
       "      <td>1361.152</td>\n",
       "      <td>0.003</td>\n",
       "      <td>0.0</td>\n",
       "      <td>0.002</td>\n",
       "      <td>0.142</td>\n",
       "      <td>1.503</td>\n",
       "      <td>-0.040</td>\n",
       "      <td>-0.027</td>\n",
       "      <td>-0.035</td>\n",
       "      <td>-0.054</td>\n",
       "      <td>0.235</td>\n",
       "    </tr>\n",
       "    <tr>\n",
       "      <th>2666</th>\n",
       "      <td>UC9SZ7d8YtD4C_zWuGCoNM7A</td>\n",
       "      <td>JET 1004</td>\n",
       "      <td>2020-10-01</td>\n",
       "      <td>NaN</td>\n",
       "      <td>2019-05-25</td>\n",
       "      <td>2.170000e+02</td>\n",
       "      <td>0.0</td>\n",
       "      <td>0.000000e+00</td>\n",
       "      <td>0.875</td>\n",
       "      <td>0.099</td>\n",
       "      <td>0.000</td>\n",
       "      <td>0.0</td>\n",
       "      <td>0.000</td>\n",
       "      <td>0.001</td>\n",
       "      <td>0.000</td>\n",
       "      <td>-0.041</td>\n",
       "      <td>-0.027</td>\n",
       "      <td>-0.036</td>\n",
       "      <td>-0.114</td>\n",
       "      <td>-0.184</td>\n",
       "    </tr>\n",
       "    <tr>\n",
       "      <th>2667</th>\n",
       "      <td>UCzC0CyJV8KwRDA0JKevQKng</td>\n",
       "      <td>스무고개</td>\n",
       "      <td>2020-10-01</td>\n",
       "      <td>스무살 혹은 그 언저리의 고민들!  스무고개가 들어줄게요 :)   스무와 함께해요!...</td>\n",
       "      <td>2019-01-24</td>\n",
       "      <td>1.039300e+05</td>\n",
       "      <td>0.0</td>\n",
       "      <td>0.000000e+00</td>\n",
       "      <td>7.600</td>\n",
       "      <td>2.159</td>\n",
       "      <td>0.000</td>\n",
       "      <td>0.0</td>\n",
       "      <td>0.000</td>\n",
       "      <td>0.006</td>\n",
       "      <td>0.002</td>\n",
       "      <td>-0.041</td>\n",
       "      <td>-0.027</td>\n",
       "      <td>-0.036</td>\n",
       "      <td>-0.112</td>\n",
       "      <td>-0.184</td>\n",
       "    </tr>\n",
       "    <tr>\n",
       "      <th>2668</th>\n",
       "      <td>UC1wjdW8A3HSQMoQeu79-yLw</td>\n",
       "      <td>한국항공우주연구원 KARI TV</td>\n",
       "      <td>2020-10-01</td>\n",
       "      <td>KARI 한국항공우주연구원은 대한민국 항공우주 분야 중심 연구기관으로서 항공우주기술...</td>\n",
       "      <td>2011-11-25</td>\n",
       "      <td>7.978129e+08</td>\n",
       "      <td>345432.0</td>\n",
       "      <td>2.505855e+07</td>\n",
       "      <td>30.560</td>\n",
       "      <td>25.276</td>\n",
       "      <td>0.000</td>\n",
       "      <td>0.0</td>\n",
       "      <td>0.000</td>\n",
       "      <td>0.023</td>\n",
       "      <td>0.028</td>\n",
       "      <td>-0.041</td>\n",
       "      <td>-0.027</td>\n",
       "      <td>-0.036</td>\n",
       "      <td>-0.105</td>\n",
       "      <td>-0.176</td>\n",
       "    </tr>\n",
       "    <tr>\n",
       "      <th>2669</th>\n",
       "      <td>UCr1YT5IRw3iI1oQgbBOpWrQ</td>\n",
       "      <td>보고싶진아</td>\n",
       "      <td>2020-10-01</td>\n",
       "      <td>진아의 일상 영상이 업로드됩니다! 비즈니스 문의 : bogoshipjina@sand...</td>\n",
       "      <td>2016-12-15</td>\n",
       "      <td>9.551856e+10</td>\n",
       "      <td>12226890.0</td>\n",
       "      <td>9.428190e+07</td>\n",
       "      <td>808.965</td>\n",
       "      <td>576.081</td>\n",
       "      <td>0.000</td>\n",
       "      <td>0.0</td>\n",
       "      <td>0.000</td>\n",
       "      <td>0.597</td>\n",
       "      <td>0.636</td>\n",
       "      <td>-0.041</td>\n",
       "      <td>-0.027</td>\n",
       "      <td>-0.036</td>\n",
       "      <td>0.139</td>\n",
       "      <td>-0.007</td>\n",
       "    </tr>\n",
       "  </tbody>\n",
       "</table>\n",
       "</div>"
      ],
      "text/plain": [
       "           INTRC_IDEX_CHNNL_ID INTRC_IDEX_CHNNL_NM INTRC_IDEX_COLCT_DE  \\\n",
       "2665  UC_jNan0EvSTUNKT2dj6U31A                 피큐큐          2020-10-01   \n",
       "2666  UC9SZ7d8YtD4C_zWuGCoNM7A            JET 1004          2020-10-01   \n",
       "2667  UCzC0CyJV8KwRDA0JKevQKng                스무고개          2020-10-01   \n",
       "2668  UC1wjdW8A3HSQMoQeu79-yLw   한국항공우주연구원 KARI TV          2020-10-01   \n",
       "2669  UCr1YT5IRw3iI1oQgbBOpWrQ               보고싶진아          2020-10-01   \n",
       "\n",
       "                                    INTRC_IDEX_CHNNL_DC  \\\n",
       "2665     친근한 동네 형 같은 마성의 매력 삐뀨뀪  문의 - pqq@sandbox.co.kr   \n",
       "2666                                                NaN   \n",
       "2667  스무살 혹은 그 언저리의 고민들!  스무고개가 들어줄게요 :)   스무와 함께해요!...   \n",
       "2668  KARI 한국항공우주연구원은 대한민국 항공우주 분야 중심 연구기관으로서 항공우주기술...   \n",
       "2669  진아의 일상 영상이 업로드됩니다! 비즈니스 문의 : bogoshipjina@sand...   \n",
       "\n",
       "     INTRC_IDEX_CHNNL_CREAT_DE      IDEX_ALL  IDEX_ONE_MONTH  \\\n",
       "2665                2015-06-09  6.000750e+11       4106946.0   \n",
       "2666                2019-05-25  2.170000e+02             0.0   \n",
       "2667                2019-01-24  1.039300e+05             0.0   \n",
       "2668                2011-11-25  7.978129e+08        345432.0   \n",
       "2669                2016-12-15  9.551856e+10      12226890.0   \n",
       "\n",
       "      IDEX_THREE_MONTH  AVRG_CMNTR_CO  PERWEEK_CMNTR_CO  INTRC_IDEX_ALL  \\\n",
       "2665      6.122304e+09        191.783          1361.152           0.003   \n",
       "2666      0.000000e+00          0.875             0.099           0.000   \n",
       "2667      0.000000e+00          7.600             2.159           0.000   \n",
       "2668      2.505855e+07         30.560            25.276           0.000   \n",
       "2669      9.428190e+07        808.965           576.081           0.000   \n",
       "\n",
       "      INTRC_IDEX_ONE_MONTH  INTRC_IDEX_THREE_MONTH  INTRC_IDEX_AVRG_CMNTR_CO  \\\n",
       "2665                   0.0                   0.002                     0.142   \n",
       "2666                   0.0                   0.000                     0.001   \n",
       "2667                   0.0                   0.000                     0.006   \n",
       "2668                   0.0                   0.000                     0.023   \n",
       "2669                   0.0                   0.000                     0.597   \n",
       "\n",
       "      INTRC_IDEX_PERWEEK_CMNTR_CO  INTRC_IDEX_ALL_STD_SCORE  \\\n",
       "2665                        1.503                    -0.040   \n",
       "2666                        0.000                    -0.041   \n",
       "2667                        0.002                    -0.041   \n",
       "2668                        0.028                    -0.041   \n",
       "2669                        0.636                    -0.041   \n",
       "\n",
       "      ONE_MONTH_STD_SCORE  THREE_MONTH_STD_SCORE  AVRG_CO_STD_SCORE  \\\n",
       "2665               -0.027                 -0.035             -0.054   \n",
       "2666               -0.027                 -0.036             -0.114   \n",
       "2667               -0.027                 -0.036             -0.112   \n",
       "2668               -0.027                 -0.036             -0.105   \n",
       "2669               -0.027                 -0.036              0.139   \n",
       "\n",
       "      PERWEEK_CO_STD_SCORE  \n",
       "2665                 0.235  \n",
       "2666                -0.184  \n",
       "2667                -0.184  \n",
       "2668                -0.176  \n",
       "2669                -0.007  "
      ]
     },
     "execution_count": 2,
     "metadata": {},
     "output_type": "execute_result"
    }
   ],
   "source": [
    "# TU_VC_INTRC_IDEX\n",
    "\n",
    "z_03 = 'C:/Users/Admin/Desktop/MediaBigdata_20201120/products/TU_VC_INTRC_IDEX/year=2020/month=10/day=01/HYU_TU_VC_INTRC_IDEX_20201001194305.csv'\n",
    "z_03 = pd.read_csv(z_03, header=0, sep=\",\")\n",
    "z_03.tail()"
   ]
  },
  {
   "cell_type": "code",
   "execution_count": 3,
   "metadata": {},
   "outputs": [
    {
     "data": {
      "text/plain": [
       "Index(['INTRC_IDEX_CHNNL_ID', 'INTRC_IDEX_CHNNL_NM', 'INTRC_IDEX_COLCT_DE',\n",
       "       'INTRC_IDEX_CHNNL_DC', 'INTRC_IDEX_CHNNL_CREAT_DE', 'IDEX_ALL',\n",
       "       'IDEX_ONE_MONTH', 'IDEX_THREE_MONTH', 'AVRG_CMNTR_CO',\n",
       "       'PERWEEK_CMNTR_CO', 'INTRC_IDEX_ALL', 'INTRC_IDEX_ONE_MONTH',\n",
       "       'INTRC_IDEX_THREE_MONTH', 'INTRC_IDEX_AVRG_CMNTR_CO',\n",
       "       'INTRC_IDEX_PERWEEK_CMNTR_CO', 'INTRC_IDEX_ALL_STD_SCORE',\n",
       "       'ONE_MONTH_STD_SCORE', 'THREE_MONTH_STD_SCORE', 'AVRG_CO_STD_SCORE',\n",
       "       'PERWEEK_CO_STD_SCORE'],\n",
       "      dtype='object')"
      ]
     },
     "execution_count": 3,
     "metadata": {},
     "output_type": "execute_result"
    }
   ],
   "source": [
    "z_03.columns"
   ]
  },
  {
   "cell_type": "code",
   "execution_count": 4,
   "metadata": {},
   "outputs": [
    {
     "data": {
      "text/plain": [
       "INTRC_IDEX_CHNNL_ID              0\n",
       "INTRC_IDEX_CHNNL_NM              0\n",
       "INTRC_IDEX_COLCT_DE              0\n",
       "INTRC_IDEX_CHNNL_DC            414\n",
       "INTRC_IDEX_CHNNL_CREAT_DE        0\n",
       "IDEX_ALL                         0\n",
       "IDEX_ONE_MONTH                   0\n",
       "IDEX_THREE_MONTH                 0\n",
       "AVRG_CMNTR_CO                   47\n",
       "PERWEEK_CMNTR_CO                 0\n",
       "INTRC_IDEX_ALL                   0\n",
       "INTRC_IDEX_ONE_MONTH             0\n",
       "INTRC_IDEX_THREE_MONTH           0\n",
       "INTRC_IDEX_AVRG_CMNTR_CO        47\n",
       "INTRC_IDEX_PERWEEK_CMNTR_CO      0\n",
       "INTRC_IDEX_ALL_STD_SCORE         0\n",
       "ONE_MONTH_STD_SCORE              0\n",
       "THREE_MONTH_STD_SCORE            0\n",
       "AVRG_CO_STD_SCORE               47\n",
       "PERWEEK_CO_STD_SCORE             0\n",
       "dtype: int64"
      ]
     },
     "execution_count": 4,
     "metadata": {},
     "output_type": "execute_result"
    }
   ],
   "source": [
    "z_03.isnull().sum()"
   ]
  },
  {
   "cell_type": "code",
   "execution_count": null,
   "metadata": {},
   "outputs": [],
   "source": [
    "## API\n",
    "x = 'C:/Users/Admin/Desktop/MediaBigdata_20201120/data/video/year=2020'\n",
    "\n",
    "filepaths = [x + f for f in listdir(x) if f.endswith('.csv')]\n",
    "# comment = pd.read_csv(filepaths[3], header=0, sep=\"|\")\n",
    "# comment\n",
    "rawchan=[]\n",
    "# for filename in filepaths:\n",
    "#     temp = pd.read_csv(filename, header=0, sep=\"|\")\n",
    "#     rawchan.append(temp)\n",
    "\n",
    "for idx, filename in enumerate(filepaths):\n",
    "    try:\n",
    "        temp = pd.read_csv(filename, header=0, sep=\"|\")\n",
    "        rawchan.append(temp)\n",
    "    except:\n",
    "        print(idx, filename)\n",
    "api=pd.concat(rawchan, axis=0, ignore_index=True)"
   ]
  },
  {
   "cell_type": "code",
   "execution_count": null,
   "metadata": {},
   "outputs": [],
   "source": [
    "api.tail(2)"
   ]
  },
  {
   "cell_type": "code",
   "execution_count": null,
   "metadata": {},
   "outputs": [],
   "source": [
    "print(len(api.columns))\n",
    "print(len(z_03.columns))"
   ]
  },
  {
   "cell_type": "code",
   "execution_count": null,
   "metadata": {},
   "outputs": [],
   "source": [
    "api.columns"
   ]
  },
  {
   "cell_type": "code",
   "execution_count": null,
   "metadata": {},
   "outputs": [],
   "source": [
    "z_03.columns"
   ]
  },
  {
   "cell_type": "code",
   "execution_count": null,
   "metadata": {},
   "outputs": [],
   "source": [
    "z_df = z_03.sort_values(by='INTRC_IDEX_CHNNL_ID').reset_index(drop=True)"
   ]
  },
  {
   "cell_type": "code",
   "execution_count": null,
   "metadata": {},
   "outputs": [],
   "source": [
    "orig_df = api.sort_values(by='id').reset_index(drop=True)"
   ]
  },
  {
   "cell_type": "code",
   "execution_count": null,
   "metadata": {},
   "outputs": [],
   "source": [
    "orig_df = api.fillna(0)\n",
    "z_df = z_03.fillna(0)"
   ]
  },
  {
   "cell_type": "code",
   "execution_count": null,
   "metadata": {},
   "outputs": [],
   "source": [
    "orig_df['viewCount']"
   ]
  },
  {
   "cell_type": "code",
   "execution_count": null,
   "metadata": {},
   "outputs": [],
   "source": [
    "orig_df = orig_df.groupby('channelId').sum().reset_index()"
   ]
  },
  {
   "cell_type": "code",
   "execution_count": null,
   "metadata": {},
   "outputs": [],
   "source": [
    "orig_df.tail()"
   ]
  },
  {
   "cell_type": "code",
   "execution_count": null,
   "metadata": {},
   "outputs": [],
   "source": [
    "z_df.tail(5)"
   ]
  },
  {
   "cell_type": "code",
   "execution_count": null,
   "metadata": {},
   "outputs": [],
   "source": [
    "o_CHNNL_LK_P_V = orig_df[\"likeCount\"]/orig_df[\"viewCount\"]\n",
    "o_CHNNL_DLK_P_V = orig_df[\"dislikeCount\"]/orig_df[\"viewCount\"]\n",
    "o_CHNNL_LK_P_DLK = o_CHNNL_LK_P_V/o_CHNNL_DLK_P_V\n",
    "o_CHNNL_LK_P_DLK"
   ]
  },
  {
   "cell_type": "code",
   "execution_count": null,
   "metadata": {},
   "outputs": [],
   "source": [
    "o_CHNNL_LK_P_V\n",
    "min0 = min(o_CHNNL_LK_P_V.unique())\n",
    "max0 = max(o_CHNNL_LK_P_V.unique())\n",
    "o_CHNNL_LK_P_V_100 = ((o_CHNNL_LK_P_V- min0)/(max0-min0))*100\n",
    "\n",
    "o_CHNNL_DLK_P_V\n",
    "min1 = min(o_CHNNL_DLK_P_V.unique())\n",
    "max1 = max(o_CHNNL_DLK_P_V.unique())\n",
    "o_CHNNL_DLK_P_V_100 = ((o_CHNNL_DLK_P_V- min1)/(max1-min1))*100\n",
    "\n",
    "o_CHNNL_LK_P_DLK\n",
    "min2 = min(o_CHNNL_LK_P_DLK.unique())\n",
    "max2 = max(o_CHNNL_LK_P_DLK.unique())\n",
    "o_CHNNL_LK_P_DLK_100 = ((o_CHNNL_LK_P_DLK- min1)/(max1-min1))*100"
   ]
  },
  {
   "cell_type": "code",
   "execution_count": null,
   "metadata": {},
   "outputs": [],
   "source": [
    "o_CHNNL_LK_P_V_ZSC = ss.zscore(o_CHNNL_LK_P_V)\n",
    "o_CHNNL_DLK_P_V_ZSC = ss.zscore(o_CHNNL_DLK_P_V)\n",
    "o_CHNNL_LK_P_DLK_ZSC = ss.zscore(o_CHNNL_LK_P_DLK)"
   ]
  },
  {
   "cell_type": "code",
   "execution_count": null,
   "metadata": {},
   "outputs": [],
   "source": [
    "z_df['CHNNL_LK_P_DLK_ZSC']"
   ]
  },
  {
   "cell_type": "code",
   "execution_count": null,
   "metadata": {},
   "outputs": [],
   "source": [
    "ori0 = orig_df.copy()"
   ]
  },
  {
   "cell_type": "code",
   "execution_count": null,
   "metadata": {},
   "outputs": [],
   "source": [
    "ori0.tail(2)"
   ]
  },
  {
   "cell_type": "code",
   "execution_count": null,
   "metadata": {},
   "outputs": [],
   "source": [
    "ori0['o_CHNNL_LK_P_V'] = o_CHNNL_LK_P_V\n",
    "ori0['o_CHNNL_DLK_P_V'] = o_CHNNL_DLK_P_V\n",
    "ori0['o_CHNNL_LK_P_DLK'] = o_CHNNL_LK_P_DLK\n",
    "ori0['o_CHNNL_LK_P_V_100'] = o_CHNNL_LK_P_V_100\n",
    "ori0['o_CHNNL_DLK_P_V_100'] = o_CHNNL_DLK_P_V_100\n",
    "ori0['o_CHNNL_LK_P_DLK_100'] = o_CHNNL_LK_P_DLK_100\n",
    "ori0['o_CHNNL_LK_P_V_ZSC'] = o_CHNNL_LK_P_V_ZSC\n",
    "ori0['o_CHNNL_DLK_P_V_ZSC'] = o_CHNNL_DLK_P_V_ZSC\n",
    "ori0['o_CHNNL_LK_P_DLK_ZSC'] = o_CHNNL_LK_P_DLK_ZSC"
   ]
  },
  {
   "cell_type": "code",
   "execution_count": null,
   "metadata": {},
   "outputs": [],
   "source": [
    "ori0 = ori0.drop(['viewCount', 'likeCount', 'dislikeCount', 'commentCount'], axis='columns')\n",
    "ori0.tail(2)"
   ]
  },
  {
   "cell_type": "code",
   "execution_count": null,
   "metadata": {},
   "outputs": [],
   "source": [
    "print(len(z_3))\n",
    "print(len(ori0))\n",
    "print(z_3.columns)\n",
    "print(ori0.columns)\n",
    "print(len(z_3.columns))\n",
    "print(len(ori0.columns))"
   ]
  },
  {
   "cell_type": "code",
   "execution_count": null,
   "metadata": {},
   "outputs": [],
   "source": [
    "ori0 = ori0.fillna(0)\n",
    "z_df = z_df.fillna(0)"
   ]
  },
  {
   "cell_type": "code",
   "execution_count": null,
   "metadata": {},
   "outputs": [],
   "source": [
    "ori0.columns = z_df.columns.tolist()"
   ]
  },
  {
   "cell_type": "code",
   "execution_count": null,
   "metadata": {},
   "outputs": [],
   "source": [
    "z_df = z_df.sort_values(by='INTRC_IDEX_CHNNL_ID').reset_index(drop=True)\n",
    "ori0 = ori0.sort_values(by='INTRC_IDEX_CHNNL_ID').reset_index(drop=True)"
   ]
  },
  {
   "cell_type": "code",
   "execution_count": null,
   "metadata": {},
   "outputs": [],
   "source": [
    "z_df = z_df[z_df['INTRC_IDEX_CHNNL_ID'].isin(ori0['INTRC_IDEX_CHNNL_ID'])]\n",
    "ori0 = ori0[ori0['INTRC_IDEX_CHNNL_ID'].isin(z_df['INTRC_IDEX_CHNNL_ID'])]"
   ]
  },
  {
   "cell_type": "code",
   "execution_count": null,
   "metadata": {},
   "outputs": [],
   "source": [
    "z_df.tail(2)"
   ]
  },
  {
   "cell_type": "code",
   "execution_count": null,
   "metadata": {},
   "outputs": [],
   "source": [
    "ori0.tail(2)"
   ]
  },
  {
   "cell_type": "code",
   "execution_count": null,
   "metadata": {},
   "outputs": [],
   "source": [
    "ori0 = ori0.round(3)\n",
    "ori0.tail(2)"
   ]
  },
  {
   "cell_type": "code",
   "execution_count": null,
   "metadata": {},
   "outputs": [],
   "source": [
    "abnorm = []\n",
    "\n",
    "for i in z_df.index:\n",
    "    for col in z_df.columns:\n",
    "        if z_df[col][i] == ori0[col][i]:\n",
    "            pass\n",
    "        else:\n",
    "            abnorm.append(i)\n",
    "            print(i, col, z_df['INTRC_IDEX_CHNNL_ID'][i])"
   ]
  },
  {
   "cell_type": "code",
   "execution_count": null,
   "metadata": {},
   "outputs": [],
   "source": [
    "Abnormal_TU_VC_INTRC_IDEX = z_df[z_df.index.isin(abnorm)]"
   ]
  },
  {
   "cell_type": "code",
   "execution_count": null,
   "metadata": {},
   "outputs": [],
   "source": [
    "Abnormal_TU_VC_INTRC_IDEX.to_csv('Abnormal(TU_VC_INTRC_IDEX).csv')"
   ]
  }
 ],
 "metadata": {
  "kernelspec": {
   "display_name": "Python 3",
   "language": "python",
   "name": "python3"
  },
  "language_info": {
   "codemirror_mode": {
    "name": "ipython",
    "version": 3
   },
   "file_extension": ".py",
   "mimetype": "text/x-python",
   "name": "python",
   "nbconvert_exporter": "python",
   "pygments_lexer": "ipython3",
   "version": "3.8.3"
  }
 },
 "nbformat": 4,
 "nbformat_minor": 4
}

{
 "cells": [
  {
   "cell_type": "code",
   "execution_count": 1,
   "metadata": {},
   "outputs": [],
   "source": [
    "import pandas as pd\n",
    "import numpy as np\n",
    "import os\n",
    "from os import listdir\n",
    "\n",
    "import scipy.stats as ss\n",
    "import math"
   ]
  },
  {
   "cell_type": "code",
   "execution_count": 2,
   "metadata": {},
   "outputs": [],
   "source": [
    "\n",
    "z_0 = 'C:/Users/Admin/Desktop/MediaBigdata_20201120/products/TU_VC_IMPRVMDGREE_IDEX/year=2020/month=10/day=01/HYU_TU_VC_IMPRVMDGREE_IDEX_20201001194308.csv'\n",
    "z_0 = pd.read_csv(z_0, header=0, sep=\",\")"
   ]
  },
  {
   "cell_type": "code",
   "execution_count": 3,
   "metadata": {},
   "outputs": [
    {
     "data": {
      "text/html": [
       "<div>\n",
       "<style scoped>\n",
       "    .dataframe tbody tr th:only-of-type {\n",
       "        vertical-align: middle;\n",
       "    }\n",
       "\n",
       "    .dataframe tbody tr th {\n",
       "        vertical-align: top;\n",
       "    }\n",
       "\n",
       "    .dataframe thead th {\n",
       "        text-align: right;\n",
       "    }\n",
       "</style>\n",
       "<table border=\"1\" class=\"dataframe\">\n",
       "  <thead>\n",
       "    <tr style=\"text-align: right;\">\n",
       "      <th></th>\n",
       "      <th>IMPRVMDGREE_IDEX_CHNNL_ID</th>\n",
       "      <th>IMPRVMDGREE_IDEX_CHNNL_NM</th>\n",
       "      <th>IMPRVMDGREE_IDEX_COLCT_DE</th>\n",
       "      <th>IMPRVMDGREE_IDEX_CHNNL_DC</th>\n",
       "      <th>IMPRVMDGREE_CHNNL_CREAT_DE</th>\n",
       "      <th>RECENT_SIX_MONTH_IMPRVMDGREE</th>\n",
       "      <th>RECENT_12_MONTH_IMPRVMDGREE</th>\n",
       "      <th>FRST_SIX_MONTH_IMPRVMDGREE</th>\n",
       "      <th>FRST_12_MONTH_IMPRVMDGREE</th>\n",
       "      <th>RECENT_IMPRVMDGREE_IDEX</th>\n",
       "      <th>RECENT_SIX_MONTH_STD_SCORE</th>\n",
       "      <th>RECENT_12_MONTH_STD_SCORE</th>\n",
       "      <th>FRST_SIX_MONTH_STD_SCORE</th>\n",
       "      <th>FRST_12_MONTH_STD_SCORE</th>\n",
       "      <th>IMPRVMDGREE_RECENT_STD_SCORE</th>\n",
       "    </tr>\n",
       "  </thead>\n",
       "  <tbody>\n",
       "    <tr>\n",
       "      <th>2668</th>\n",
       "      <td>UC1wjdW8A3HSQMoQeu79-yLw</td>\n",
       "      <td>한국항공우주연구원 KARI TV</td>\n",
       "      <td>2020-10-01</td>\n",
       "      <td>KARI 한국항공우주연구원은 대한민국 항공우주 분야 중심 연구기관으로서 항공우주기술...</td>\n",
       "      <td>2011-11-25</td>\n",
       "      <td>-12.792</td>\n",
       "      <td>2.175</td>\n",
       "      <td>-0.371</td>\n",
       "      <td>-0.355</td>\n",
       "      <td>18.744</td>\n",
       "      <td>14.161</td>\n",
       "      <td>5.205</td>\n",
       "      <td>0.375</td>\n",
       "      <td>0.335</td>\n",
       "      <td>14.976</td>\n",
       "    </tr>\n",
       "    <tr>\n",
       "      <th>2669</th>\n",
       "      <td>UCr1YT5IRw3iI1oQgbBOpWrQ</td>\n",
       "      <td>보고싶진아</td>\n",
       "      <td>2020-10-01</td>\n",
       "      <td>진아의 일상 영상이 업로드됩니다! 비즈니스 문의 : bogoshipjina@sand...</td>\n",
       "      <td>2016-12-15</td>\n",
       "      <td>2.016</td>\n",
       "      <td>2.354</td>\n",
       "      <td>NaN</td>\n",
       "      <td>1.000</td>\n",
       "      <td>22.876</td>\n",
       "      <td>-30.924</td>\n",
       "      <td>-2.322</td>\n",
       "      <td>0.171</td>\n",
       "      <td>1.229</td>\n",
       "      <td>19.863</td>\n",
       "    </tr>\n",
       "  </tbody>\n",
       "</table>\n",
       "</div>"
      ],
      "text/plain": [
       "     IMPRVMDGREE_IDEX_CHNNL_ID IMPRVMDGREE_IDEX_CHNNL_NM  \\\n",
       "2668  UC1wjdW8A3HSQMoQeu79-yLw         한국항공우주연구원 KARI TV   \n",
       "2669  UCr1YT5IRw3iI1oQgbBOpWrQ                     보고싶진아   \n",
       "\n",
       "     IMPRVMDGREE_IDEX_COLCT_DE  \\\n",
       "2668                2020-10-01   \n",
       "2669                2020-10-01   \n",
       "\n",
       "                              IMPRVMDGREE_IDEX_CHNNL_DC  \\\n",
       "2668  KARI 한국항공우주연구원은 대한민국 항공우주 분야 중심 연구기관으로서 항공우주기술...   \n",
       "2669  진아의 일상 영상이 업로드됩니다! 비즈니스 문의 : bogoshipjina@sand...   \n",
       "\n",
       "     IMPRVMDGREE_CHNNL_CREAT_DE  RECENT_SIX_MONTH_IMPRVMDGREE  \\\n",
       "2668                 2011-11-25                       -12.792   \n",
       "2669                 2016-12-15                         2.016   \n",
       "\n",
       "      RECENT_12_MONTH_IMPRVMDGREE  FRST_SIX_MONTH_IMPRVMDGREE  \\\n",
       "2668                        2.175                      -0.371   \n",
       "2669                        2.354                         NaN   \n",
       "\n",
       "      FRST_12_MONTH_IMPRVMDGREE  RECENT_IMPRVMDGREE_IDEX  \\\n",
       "2668                     -0.355                   18.744   \n",
       "2669                      1.000                   22.876   \n",
       "\n",
       "      RECENT_SIX_MONTH_STD_SCORE  RECENT_12_MONTH_STD_SCORE  \\\n",
       "2668                      14.161                      5.205   \n",
       "2669                     -30.924                     -2.322   \n",
       "\n",
       "      FRST_SIX_MONTH_STD_SCORE  FRST_12_MONTH_STD_SCORE  \\\n",
       "2668                     0.375                    0.335   \n",
       "2669                     0.171                    1.229   \n",
       "\n",
       "      IMPRVMDGREE_RECENT_STD_SCORE  \n",
       "2668                        14.976  \n",
       "2669                        19.863  "
      ]
     },
     "execution_count": 3,
     "metadata": {},
     "output_type": "execute_result"
    }
   ],
   "source": [
    "z_0.tail(2)"
   ]
  },
  {
   "cell_type": "code",
   "execution_count": 4,
   "metadata": {},
   "outputs": [
    {
     "data": {
      "text/plain": [
       "IMPRVMDGREE_IDEX_CHNNL_ID          0\n",
       "IMPRVMDGREE_IDEX_CHNNL_NM          0\n",
       "IMPRVMDGREE_IDEX_COLCT_DE          0\n",
       "IMPRVMDGREE_IDEX_CHNNL_DC        414\n",
       "IMPRVMDGREE_CHNNL_CREAT_DE         0\n",
       "RECENT_SIX_MONTH_IMPRVMDGREE    1485\n",
       "RECENT_12_MONTH_IMPRVMDGREE     1365\n",
       "FRST_SIX_MONTH_IMPRVMDGREE      1554\n",
       "FRST_12_MONTH_IMPRVMDGREE       1377\n",
       "RECENT_IMPRVMDGREE_IDEX          840\n",
       "RECENT_SIX_MONTH_STD_SCORE       137\n",
       "RECENT_12_MONTH_STD_SCORE         76\n",
       "FRST_SIX_MONTH_STD_SCORE           8\n",
       "FRST_12_MONTH_STD_SCORE            9\n",
       "IMPRVMDGREE_RECENT_STD_SCORE       8\n",
       "dtype: int64"
      ]
     },
     "execution_count": 4,
     "metadata": {},
     "output_type": "execute_result"
    }
   ],
   "source": [
    "z_0.isnull().sum()"
   ]
  },
  {
   "cell_type": "code",
   "execution_count": 5,
   "metadata": {},
   "outputs": [
    {
     "data": {
      "text/plain": [
       "Index(['IMPRVMDGREE_IDEX_CHNNL_ID', 'IMPRVMDGREE_IDEX_CHNNL_NM',\n",
       "       'IMPRVMDGREE_IDEX_COLCT_DE', 'IMPRVMDGREE_IDEX_CHNNL_DC',\n",
       "       'IMPRVMDGREE_CHNNL_CREAT_DE', 'RECENT_SIX_MONTH_IMPRVMDGREE',\n",
       "       'RECENT_12_MONTH_IMPRVMDGREE', 'FRST_SIX_MONTH_IMPRVMDGREE',\n",
       "       'FRST_12_MONTH_IMPRVMDGREE', 'RECENT_IMPRVMDGREE_IDEX',\n",
       "       'RECENT_SIX_MONTH_STD_SCORE', 'RECENT_12_MONTH_STD_SCORE',\n",
       "       'FRST_SIX_MONTH_STD_SCORE', 'FRST_12_MONTH_STD_SCORE',\n",
       "       'IMPRVMDGREE_RECENT_STD_SCORE'],\n",
       "      dtype='object')"
      ]
     },
     "execution_count": 5,
     "metadata": {},
     "output_type": "execute_result"
    }
   ],
   "source": [
    "z_0.columns"
   ]
  },
  {
   "cell_type": "code",
   "execution_count": null,
   "metadata": {},
   "outputs": [],
   "source": [
    "## API\n",
    "x = 'C:/Users/Admin/Desktop/MediaBigdata_20201120/data/video/year=2020'\n",
    "\n",
    "filepaths = [x + f for f in listdir(x) if f.endswith('.csv')]\n",
    "# comment = pd.read_csv(filepaths[3], header=0, sep=\"|\")\n",
    "# comment\n",
    "rawchan=[]\n",
    "# for filename in filepaths:\n",
    "#     temp = pd.read_csv(filename, header=0, sep=\"|\")\n",
    "#     rawchan.append(temp)\n",
    "\n",
    "for idx, filename in enumerate(filepaths):\n",
    "    try:\n",
    "        temp = pd.read_csv(filename, header=0, sep=\"|\")\n",
    "        rawchan.append(temp)\n",
    "    except:\n",
    "        print(idx, filename)\n",
    "api=pd.concat(rawchan, axis=0, ignore_index=True)"
   ]
  },
  {
   "cell_type": "code",
   "execution_count": null,
   "metadata": {},
   "outputs": [],
   "source": [
    "api.tail(2)"
   ]
  },
  {
   "cell_type": "code",
   "execution_count": null,
   "metadata": {},
   "outputs": [],
   "source": [
    "print(len(api.columns))\n",
    "print(len(z_3.columns))"
   ]
  },
  {
   "cell_type": "code",
   "execution_count": null,
   "metadata": {},
   "outputs": [],
   "source": [
    "api.columns"
   ]
  },
  {
   "cell_type": "code",
   "execution_count": null,
   "metadata": {},
   "outputs": [],
   "source": [
    "z_0.columns"
   ]
  },
  {
   "cell_type": "code",
   "execution_count": null,
   "metadata": {},
   "outputs": [],
   "source": [
    "z_df = z_0.sort_values(by='IMPRVMDGREE_IDEX_CHNNL_ID').reset_index(drop=True)"
   ]
  },
  {
   "cell_type": "code",
   "execution_count": null,
   "metadata": {},
   "outputs": [],
   "source": [
    "orig_df = api.sort_values(by='id').reset_index(drop=True)"
   ]
  },
  {
   "cell_type": "code",
   "execution_count": null,
   "metadata": {},
   "outputs": [],
   "source": [
    "orig_df = api.fillna(0)\n",
    "z_df = z_07.fillna(0)"
   ]
  },
  {
   "cell_type": "code",
   "execution_count": null,
   "metadata": {},
   "outputs": [],
   "source": [
    "orig_df['viewCount']"
   ]
  },
  {
   "cell_type": "code",
   "execution_count": null,
   "metadata": {},
   "outputs": [],
   "source": [
    "orig_df = orig_df.groupby('channelId').sum().reset_index()"
   ]
  },
  {
   "cell_type": "code",
   "execution_count": null,
   "metadata": {},
   "outputs": [],
   "source": [
    "orig_df.tail()"
   ]
  },
  {
   "cell_type": "code",
   "execution_count": null,
   "metadata": {},
   "outputs": [],
   "source": [
    "z_df.tail(5)"
   ]
  },
  {
   "cell_type": "code",
   "execution_count": null,
   "metadata": {},
   "outputs": [],
   "source": [
    "o_CHNNL_LK_P_V = orig_df[\"likeCount\"]/orig_df[\"viewCount\"]\n",
    "o_CHNNL_DLK_P_V = orig_df[\"dislikeCount\"]/orig_df[\"viewCount\"]\n",
    "o_CHNNL_LK_P_DLK = o_CHNNL_LK_P_V/o_CHNNL_DLK_P_V\n",
    "o_CHNNL_LK_P_DLK"
   ]
  },
  {
   "cell_type": "code",
   "execution_count": null,
   "metadata": {},
   "outputs": [],
   "source": [
    "o_CHNNL_LK_P_V\n",
    "min0 = min(o_CHNNL_LK_P_V.unique())\n",
    "max0 = max(o_CHNNL_LK_P_V.unique())\n",
    "o_CHNNL_LK_P_V_100 = ((o_CHNNL_LK_P_V- min0)/(max0-min0))*100\n",
    "\n",
    "o_CHNNL_DLK_P_V\n",
    "min1 = min(o_CHNNL_DLK_P_V.unique())\n",
    "max1 = max(o_CHNNL_DLK_P_V.unique())\n",
    "o_CHNNL_DLK_P_V_100 = ((o_CHNNL_DLK_P_V- min1)/(max1-min1))*100\n",
    "\n",
    "o_CHNNL_LK_P_DLK\n",
    "min2 = min(o_CHNNL_LK_P_DLK.unique())\n",
    "max2 = max(o_CHNNL_LK_P_DLK.unique())\n",
    "o_CHNNL_LK_P_DLK_100 = ((o_CHNNL_LK_P_DLK- min1)/(max1-min1))*100"
   ]
  },
  {
   "cell_type": "code",
   "execution_count": null,
   "metadata": {},
   "outputs": [],
   "source": [
    "o_CHNNL_LK_P_V_ZSC = ss.zscore(o_CHNNL_LK_P_V)\n",
    "o_CHNNL_DLK_P_V_ZSC = ss.zscore(o_CHNNL_DLK_P_V)\n",
    "o_CHNNL_LK_P_DLK_ZSC = ss.zscore(o_CHNNL_LK_P_DLK)"
   ]
  },
  {
   "cell_type": "code",
   "execution_count": null,
   "metadata": {},
   "outputs": [],
   "source": [
    "z_df['CHNNL_LK_P_DLK_ZSC']"
   ]
  },
  {
   "cell_type": "code",
   "execution_count": null,
   "metadata": {},
   "outputs": [],
   "source": [
    "ori0 = orig_df.copy()"
   ]
  },
  {
   "cell_type": "code",
   "execution_count": null,
   "metadata": {},
   "outputs": [],
   "source": [
    "ori0.tail(2)"
   ]
  },
  {
   "cell_type": "code",
   "execution_count": null,
   "metadata": {},
   "outputs": [],
   "source": [
    "ori0['o_CHNNL_LK_P_V'] = o_CHNNL_LK_P_V\n",
    "ori0['o_CHNNL_DLK_P_V'] = o_CHNNL_DLK_P_V\n",
    "ori0['o_CHNNL_LK_P_DLK'] = o_CHNNL_LK_P_DLK\n",
    "ori0['o_CHNNL_LK_P_V_100'] = o_CHNNL_LK_P_V_100\n",
    "ori0['o_CHNNL_DLK_P_V_100'] = o_CHNNL_DLK_P_V_100\n",
    "ori0['o_CHNNL_LK_P_DLK_100'] = o_CHNNL_LK_P_DLK_100\n",
    "ori0['o_CHNNL_LK_P_V_ZSC'] = o_CHNNL_LK_P_V_ZSC\n",
    "ori0['o_CHNNL_DLK_P_V_ZSC'] = o_CHNNL_DLK_P_V_ZSC\n",
    "ori0['o_CHNNL_LK_P_DLK_ZSC'] = o_CHNNL_LK_P_DLK_ZSC"
   ]
  },
  {
   "cell_type": "code",
   "execution_count": null,
   "metadata": {},
   "outputs": [],
   "source": [
    "ori0 = ori0.drop(['viewCount', 'likeCount', 'dislikeCount', 'commentCount'], axis='columns')\n",
    "ori0.tail(2)"
   ]
  },
  {
   "cell_type": "code",
   "execution_count": null,
   "metadata": {},
   "outputs": [],
   "source": [
    "print(len(z_3))\n",
    "print(len(ori0))\n",
    "print(z_3.columns)\n",
    "print(ori0.columns)\n",
    "print(len(z_3.columns))\n",
    "print(len(ori0.columns))"
   ]
  },
  {
   "cell_type": "code",
   "execution_count": null,
   "metadata": {},
   "outputs": [],
   "source": [
    "ori0 = ori0.fillna(0)\n",
    "z_df = z_df.fillna(0)"
   ]
  },
  {
   "cell_type": "code",
   "execution_count": null,
   "metadata": {},
   "outputs": [],
   "source": [
    "ori0.columns = z_df.columns.tolist()"
   ]
  },
  {
   "cell_type": "code",
   "execution_count": null,
   "metadata": {},
   "outputs": [],
   "source": [
    "z_df = z_df.sort_values(by='IMPRVMDGREE_IDEX_CHNNL_ID').reset_index(drop=True)\n",
    "ori0 = ori0.sort_values(by='IMPRVMDGREE_IDEX_CHNNL_ID').reset_index(drop=True)"
   ]
  },
  {
   "cell_type": "code",
   "execution_count": null,
   "metadata": {},
   "outputs": [],
   "source": [
    "z_df = z_df[z_df['IMPRVMDGREE_IDEX_CHNNL_ID'].isin(ori0['IMPRVMDGREE_IDEX_CHNNL_ID'])]\n",
    "ori0 = ori0[ori0['IMPRVMDGREE_IDEX_CHNNL_ID'].isin(z_df['IMPRVMDGREE_IDEX_CHNNL_ID'])]"
   ]
  },
  {
   "cell_type": "code",
   "execution_count": null,
   "metadata": {},
   "outputs": [],
   "source": [
    "z_df.tail(2)"
   ]
  },
  {
   "cell_type": "code",
   "execution_count": null,
   "metadata": {},
   "outputs": [],
   "source": [
    "ori0.tail(2)"
   ]
  },
  {
   "cell_type": "code",
   "execution_count": null,
   "metadata": {},
   "outputs": [],
   "source": [
    "ori0 = ori0.round(3)\n",
    "ori0.tail(2)"
   ]
  },
  {
   "cell_type": "code",
   "execution_count": null,
   "metadata": {},
   "outputs": [],
   "source": [
    "abnorm = []\n",
    "\n",
    "for i in z_df.index:\n",
    "    for col in z_df.columns:\n",
    "        if z_df[col][i] == ori0[col][i]:\n",
    "            pass\n",
    "        else:\n",
    "            abnorm.append(i)\n",
    "            print(i, col, z_df['IMPRVMDGREE_IDEX_CHNNL_ID'][i])"
   ]
  },
  {
   "cell_type": "code",
   "execution_count": null,
   "metadata": {},
   "outputs": [],
   "source": [
    "Abnormal_TU_VC_IMPRVMDGREE_IDEX = z_df[z_df.index.isin(abnorm)]"
   ]
  },
  {
   "cell_type": "code",
   "execution_count": null,
   "metadata": {},
   "outputs": [],
   "source": [
    "Abnormal_TU_VC_IMPRVMDGREE_IDEX.to_csv('Abnormal(TU_VC_IMPRVMDGREE_IDEX).csv')"
   ]
  }
 ],
 "metadata": {
  "kernelspec": {
   "display_name": "Python 3",
   "language": "python",
   "name": "python3"
  },
  "language_info": {
   "codemirror_mode": {
    "name": "ipython",
    "version": 3
   },
   "file_extension": ".py",
   "mimetype": "text/x-python",
   "name": "python",
   "nbconvert_exporter": "python",
   "pygments_lexer": "ipython3",
   "version": "3.8.3"
  }
 },
 "nbformat": 4,
 "nbformat_minor": 4
}

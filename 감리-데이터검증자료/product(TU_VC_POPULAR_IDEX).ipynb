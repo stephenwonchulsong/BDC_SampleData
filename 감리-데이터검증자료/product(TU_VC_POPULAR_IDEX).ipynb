{
 "cells": [
  {
   "cell_type": "code",
   "execution_count": 1,
   "metadata": {},
   "outputs": [],
   "source": [
    "import pandas as pd\n",
    "import numpy as np\n",
    "import os\n",
    "from os import listdir\n",
    "\n",
    "import scipy.stats as ss\n",
    "import math"
   ]
  },
  {
   "cell_type": "code",
   "execution_count": 2,
   "metadata": {},
   "outputs": [],
   "source": [
    "z_0 = 'C:/Users/Admin/Desktop/MediaBigdata_20201120/products/TU_VC_POPULAR_IDEX/year=2020/month=10/day=01/HYU_TU_VC_POPULAR_IDEX_20201001193658.csv'\n",
    "z_0 = pd.read_csv(z_0, header=0, sep=\",\")"
   ]
  },
  {
   "cell_type": "code",
   "execution_count": 3,
   "metadata": {},
   "outputs": [
    {
     "data": {
      "text/html": [
       "<div>\n",
       "<style scoped>\n",
       "    .dataframe tbody tr th:only-of-type {\n",
       "        vertical-align: middle;\n",
       "    }\n",
       "\n",
       "    .dataframe tbody tr th {\n",
       "        vertical-align: top;\n",
       "    }\n",
       "\n",
       "    .dataframe thead th {\n",
       "        text-align: right;\n",
       "    }\n",
       "</style>\n",
       "<table border=\"1\" class=\"dataframe\">\n",
       "  <thead>\n",
       "    <tr style=\"text-align: right;\">\n",
       "      <th></th>\n",
       "      <th>POPULAR_IDEX_CHNNL_ID</th>\n",
       "      <th>POPULAR_IDEX_CHNNL_NM</th>\n",
       "      <th>POPULAR_IDEX_COLCT_DE</th>\n",
       "      <th>POPULAR_IDEX_CHNNL_DC</th>\n",
       "      <th>POPULAR_IDEX_CHNNL_CREAT_DE</th>\n",
       "      <th>POPULAR_IDEX_CHNNL_ICON</th>\n",
       "      <th>POPULAR_IDEX_LIKE</th>\n",
       "      <th>POPULAR_IDEX_DISLIKE</th>\n",
       "      <th>CHNNL_POPULAR_IDEX</th>\n",
       "      <th>LIKE</th>\n",
       "      <th>DISLIKE</th>\n",
       "      <th>POPULAR_IDEX</th>\n",
       "      <th>LIKE_STD_SCORE</th>\n",
       "      <th>DISLIKE_STD_SCORE</th>\n",
       "      <th>POPULAR_IDEX_STD_SCORE</th>\n",
       "    </tr>\n",
       "  </thead>\n",
       "  <tbody>\n",
       "    <tr>\n",
       "      <th>2668</th>\n",
       "      <td>UC1wjdW8A3HSQMoQeu79-yLw</td>\n",
       "      <td>한국항공우주연구원 KARI TV</td>\n",
       "      <td>2020-10-01</td>\n",
       "      <td>KARI 한국항공우주연구원은 대한민국 항공우주 분야 중심 연구기관으로서 항공우주기술...</td>\n",
       "      <td>2011-11-25</td>\n",
       "      <td>https://yt3.ggpht.com/a/AATXAJxDQso6Plbnm5P_R2...</td>\n",
       "      <td>0.010</td>\n",
       "      <td>0.0</td>\n",
       "      <td>35.222</td>\n",
       "      <td>3.650</td>\n",
       "      <td>0.0</td>\n",
       "      <td>3.834</td>\n",
       "      <td>-0.353</td>\n",
       "      <td>-1.0</td>\n",
       "      <td>-0.106</td>\n",
       "    </tr>\n",
       "    <tr>\n",
       "      <th>2669</th>\n",
       "      <td>UCr1YT5IRw3iI1oQgbBOpWrQ</td>\n",
       "      <td>보고싶진아</td>\n",
       "      <td>2020-10-01</td>\n",
       "      <td>진아의 일상 영상이 업로드됩니다! 비즈니스 문의 : bogoshipjina@sand...</td>\n",
       "      <td>2016-12-15</td>\n",
       "      <td>https://yt3.ggpht.com/a/AATXAJy-NcxTOj5DCwHmPj...</td>\n",
       "      <td>0.011</td>\n",
       "      <td>0.0</td>\n",
       "      <td>50.280</td>\n",
       "      <td>4.015</td>\n",
       "      <td>0.0</td>\n",
       "      <td>5.487</td>\n",
       "      <td>-0.294</td>\n",
       "      <td>-1.0</td>\n",
       "      <td>0.219</td>\n",
       "    </tr>\n",
       "  </tbody>\n",
       "</table>\n",
       "</div>"
      ],
      "text/plain": [
       "         POPULAR_IDEX_CHNNL_ID POPULAR_IDEX_CHNNL_NM POPULAR_IDEX_COLCT_DE  \\\n",
       "2668  UC1wjdW8A3HSQMoQeu79-yLw     한국항공우주연구원 KARI TV            2020-10-01   \n",
       "2669  UCr1YT5IRw3iI1oQgbBOpWrQ                 보고싶진아            2020-10-01   \n",
       "\n",
       "                                  POPULAR_IDEX_CHNNL_DC  \\\n",
       "2668  KARI 한국항공우주연구원은 대한민국 항공우주 분야 중심 연구기관으로서 항공우주기술...   \n",
       "2669  진아의 일상 영상이 업로드됩니다! 비즈니스 문의 : bogoshipjina@sand...   \n",
       "\n",
       "     POPULAR_IDEX_CHNNL_CREAT_DE  \\\n",
       "2668                  2011-11-25   \n",
       "2669                  2016-12-15   \n",
       "\n",
       "                                POPULAR_IDEX_CHNNL_ICON  POPULAR_IDEX_LIKE  \\\n",
       "2668  https://yt3.ggpht.com/a/AATXAJxDQso6Plbnm5P_R2...              0.010   \n",
       "2669  https://yt3.ggpht.com/a/AATXAJy-NcxTOj5DCwHmPj...              0.011   \n",
       "\n",
       "      POPULAR_IDEX_DISLIKE  CHNNL_POPULAR_IDEX   LIKE  DISLIKE  POPULAR_IDEX  \\\n",
       "2668                   0.0              35.222  3.650      0.0         3.834   \n",
       "2669                   0.0              50.280  4.015      0.0         5.487   \n",
       "\n",
       "      LIKE_STD_SCORE  DISLIKE_STD_SCORE  POPULAR_IDEX_STD_SCORE  \n",
       "2668          -0.353               -1.0                  -0.106  \n",
       "2669          -0.294               -1.0                   0.219  "
      ]
     },
     "execution_count": 3,
     "metadata": {},
     "output_type": "execute_result"
    }
   ],
   "source": [
    "z_0.tail(2)"
   ]
  },
  {
   "cell_type": "code",
   "execution_count": 4,
   "metadata": {},
   "outputs": [
    {
     "data": {
      "text/plain": [
       "POPULAR_IDEX_CHNNL_ID            0\n",
       "POPULAR_IDEX_CHNNL_NM            0\n",
       "POPULAR_IDEX_COLCT_DE            0\n",
       "POPULAR_IDEX_CHNNL_DC          414\n",
       "POPULAR_IDEX_CHNNL_CREAT_DE      0\n",
       "POPULAR_IDEX_CHNNL_ICON          0\n",
       "POPULAR_IDEX_LIKE               47\n",
       "POPULAR_IDEX_DISLIKE            47\n",
       "CHNNL_POPULAR_IDEX             137\n",
       "LIKE                            47\n",
       "DISLIKE                         47\n",
       "POPULAR_IDEX                   137\n",
       "LIKE_STD_SCORE                  47\n",
       "DISLIKE_STD_SCORE               47\n",
       "POPULAR_IDEX_STD_SCORE         137\n",
       "dtype: int64"
      ]
     },
     "execution_count": 4,
     "metadata": {},
     "output_type": "execute_result"
    }
   ],
   "source": [
    "z_0.isnull().sum()"
   ]
  },
  {
   "cell_type": "code",
   "execution_count": 5,
   "metadata": {},
   "outputs": [
    {
     "data": {
      "text/plain": [
       "Index(['POPULAR_IDEX_CHNNL_ID', 'POPULAR_IDEX_CHNNL_NM',\n",
       "       'POPULAR_IDEX_COLCT_DE', 'POPULAR_IDEX_CHNNL_DC',\n",
       "       'POPULAR_IDEX_CHNNL_CREAT_DE', 'POPULAR_IDEX_CHNNL_ICON',\n",
       "       'POPULAR_IDEX_LIKE', 'POPULAR_IDEX_DISLIKE', 'CHNNL_POPULAR_IDEX',\n",
       "       'LIKE', 'DISLIKE', 'POPULAR_IDEX', 'LIKE_STD_SCORE',\n",
       "       'DISLIKE_STD_SCORE', 'POPULAR_IDEX_STD_SCORE'],\n",
       "      dtype='object')"
      ]
     },
     "execution_count": 5,
     "metadata": {},
     "output_type": "execute_result"
    }
   ],
   "source": [
    "z_0.columns"
   ]
  },
  {
   "cell_type": "code",
   "execution_count": null,
   "metadata": {},
   "outputs": [],
   "source": [
    "## API\n",
    "x = 'C:/Users/Admin/Desktop/MediaBigdata_20201120/data/video/year=2020'\n",
    "\n",
    "filepaths = [x + f for f in listdir(x) if f.endswith('.csv')]\n",
    "# comment = pd.read_csv(filepaths[3], header=0, sep=\"|\")\n",
    "# comment\n",
    "rawchan=[]\n",
    "# for filename in filepaths:\n",
    "#     temp = pd.read_csv(filename, header=0, sep=\"|\")\n",
    "#     rawchan.append(temp)\n",
    "\n",
    "for idx, filename in enumerate(filepaths):\n",
    "    try:\n",
    "        temp = pd.read_csv(filename, header=0, sep=\"|\")\n",
    "        rawchan.append(temp)\n",
    "    except:\n",
    "        print(idx, filename)\n",
    "api=pd.concat(rawchan, axis=0, ignore_index=True)"
   ]
  },
  {
   "cell_type": "code",
   "execution_count": null,
   "metadata": {},
   "outputs": [],
   "source": [
    "api.tail(2)"
   ]
  },
  {
   "cell_type": "code",
   "execution_count": null,
   "metadata": {},
   "outputs": [],
   "source": [
    "print(len(api.columns))\n",
    "print(len(z_0.columns))"
   ]
  },
  {
   "cell_type": "code",
   "execution_count": null,
   "metadata": {},
   "outputs": [],
   "source": [
    "api.columns"
   ]
  },
  {
   "cell_type": "code",
   "execution_count": null,
   "metadata": {},
   "outputs": [],
   "source": [
    "z_0.columns"
   ]
  },
  {
   "cell_type": "code",
   "execution_count": null,
   "metadata": {},
   "outputs": [],
   "source": [
    "z_df = z_0.sort_values(by='POPULAR_IDEX_CHNNL_ID').reset_index(drop=True)"
   ]
  },
  {
   "cell_type": "code",
   "execution_count": null,
   "metadata": {},
   "outputs": [],
   "source": [
    "orig_df = api.sort_values(by='id').reset_index(drop=True)"
   ]
  },
  {
   "cell_type": "code",
   "execution_count": null,
   "metadata": {},
   "outputs": [],
   "source": [
    "orig_df = api.fillna(0)\n",
    "z_df = z_07.fillna(0)"
   ]
  },
  {
   "cell_type": "code",
   "execution_count": null,
   "metadata": {},
   "outputs": [],
   "source": [
    "orig_df['viewCount']"
   ]
  },
  {
   "cell_type": "code",
   "execution_count": null,
   "metadata": {},
   "outputs": [],
   "source": [
    "orig_df = orig_df.groupby('channelId').sum().reset_index()"
   ]
  },
  {
   "cell_type": "code",
   "execution_count": null,
   "metadata": {},
   "outputs": [],
   "source": [
    "orig_df.tail()"
   ]
  },
  {
   "cell_type": "code",
   "execution_count": null,
   "metadata": {},
   "outputs": [],
   "source": [
    "z_df.tail(5)"
   ]
  },
  {
   "cell_type": "code",
   "execution_count": null,
   "metadata": {},
   "outputs": [],
   "source": [
    "o_CHNNL_LK_P_V = orig_df[\"likeCount\"]/orig_df[\"viewCount\"]\n",
    "o_CHNNL_DLK_P_V = orig_df[\"dislikeCount\"]/orig_df[\"viewCount\"]\n",
    "o_CHNNL_LK_P_DLK = o_CHNNL_LK_P_V/o_CHNNL_DLK_P_V\n",
    "o_CHNNL_LK_P_DLK"
   ]
  },
  {
   "cell_type": "code",
   "execution_count": null,
   "metadata": {},
   "outputs": [],
   "source": [
    "o_CHNNL_LK_P_V\n",
    "min0 = min(o_CHNNL_LK_P_V.unique())\n",
    "max0 = max(o_CHNNL_LK_P_V.unique())\n",
    "o_CHNNL_LK_P_V_100 = ((o_CHNNL_LK_P_V- min0)/(max0-min0))*100\n",
    "\n",
    "o_CHNNL_DLK_P_V\n",
    "min1 = min(o_CHNNL_DLK_P_V.unique())\n",
    "max1 = max(o_CHNNL_DLK_P_V.unique())\n",
    "o_CHNNL_DLK_P_V_100 = ((o_CHNNL_DLK_P_V- min1)/(max1-min1))*100\n",
    "\n",
    "o_CHNNL_LK_P_DLK\n",
    "min2 = min(o_CHNNL_LK_P_DLK.unique())\n",
    "max2 = max(o_CHNNL_LK_P_DLK.unique())\n",
    "o_CHNNL_LK_P_DLK_100 = ((o_CHNNL_LK_P_DLK- min1)/(max1-min1))*100"
   ]
  },
  {
   "cell_type": "code",
   "execution_count": null,
   "metadata": {},
   "outputs": [],
   "source": [
    "o_CHNNL_LK_P_V_ZSC = ss.zscore(o_CHNNL_LK_P_V)\n",
    "o_CHNNL_DLK_P_V_ZSC = ss.zscore(o_CHNNL_DLK_P_V)\n",
    "o_CHNNL_LK_P_DLK_ZSC = ss.zscore(o_CHNNL_LK_P_DLK)"
   ]
  },
  {
   "cell_type": "code",
   "execution_count": null,
   "metadata": {},
   "outputs": [],
   "source": [
    "z_df['CHNNL_LK_P_DLK_ZSC']"
   ]
  },
  {
   "cell_type": "code",
   "execution_count": null,
   "metadata": {},
   "outputs": [],
   "source": [
    "ori0 = orig_df.copy()"
   ]
  },
  {
   "cell_type": "code",
   "execution_count": null,
   "metadata": {},
   "outputs": [],
   "source": [
    "ori0.tail(2)"
   ]
  },
  {
   "cell_type": "code",
   "execution_count": null,
   "metadata": {},
   "outputs": [],
   "source": [
    "ori0['o_CHNNL_LK_P_V'] = o_CHNNL_LK_P_V\n",
    "ori0['o_CHNNL_DLK_P_V'] = o_CHNNL_DLK_P_V\n",
    "ori0['o_CHNNL_LK_P_DLK'] = o_CHNNL_LK_P_DLK\n",
    "ori0['o_CHNNL_LK_P_V_100'] = o_CHNNL_LK_P_V_100\n",
    "ori0['o_CHNNL_DLK_P_V_100'] = o_CHNNL_DLK_P_V_100\n",
    "ori0['o_CHNNL_LK_P_DLK_100'] = o_CHNNL_LK_P_DLK_100\n",
    "ori0['o_CHNNL_LK_P_V_ZSC'] = o_CHNNL_LK_P_V_ZSC\n",
    "ori0['o_CHNNL_DLK_P_V_ZSC'] = o_CHNNL_DLK_P_V_ZSC\n",
    "ori0['o_CHNNL_LK_P_DLK_ZSC'] = o_CHNNL_LK_P_DLK_ZSC"
   ]
  },
  {
   "cell_type": "code",
   "execution_count": null,
   "metadata": {},
   "outputs": [],
   "source": [
    "ori0 = ori0.drop(['viewCount', 'likeCount', 'dislikeCount', 'commentCount'], axis='columns')\n",
    "ori0.tail(2)"
   ]
  },
  {
   "cell_type": "code",
   "execution_count": null,
   "metadata": {},
   "outputs": [],
   "source": [
    "print(len(z_3))\n",
    "print(len(ori0))\n",
    "print(z_3.columns)\n",
    "print(ori0.columns)\n",
    "print(len(z_3.columns))\n",
    "print(len(ori0.columns))"
   ]
  },
  {
   "cell_type": "code",
   "execution_count": null,
   "metadata": {},
   "outputs": [],
   "source": [
    "ori0 = ori0.fillna(0)\n",
    "z_df = z_df.fillna(0)"
   ]
  },
  {
   "cell_type": "code",
   "execution_count": null,
   "metadata": {},
   "outputs": [],
   "source": [
    "ori0.columns = z_df.columns.tolist()"
   ]
  },
  {
   "cell_type": "code",
   "execution_count": null,
   "metadata": {},
   "outputs": [],
   "source": [
    "z_df = z_df.sort_values(by='POPULAR_IDEX_CHNNL_ID').reset_index(drop=True)\n",
    "ori0 = ori0.sort_values(by='POPULAR_IDEX_CHNNL_ID').reset_index(drop=True)"
   ]
  },
  {
   "cell_type": "code",
   "execution_count": null,
   "metadata": {},
   "outputs": [],
   "source": [
    "z_df = z_df[z_df['POPULAR_IDEX_CHNNL_ID'].isin(ori0['POPULAR_IDEX_CHNNL_ID'])]\n",
    "ori0 = ori0[ori0['POPULAR_IDEX_CHNNL_ID'].isin(z_df['POPULAR_IDEX_CHNNL_ID'])]"
   ]
  },
  {
   "cell_type": "code",
   "execution_count": null,
   "metadata": {},
   "outputs": [],
   "source": [
    "z_df.tail(2)"
   ]
  },
  {
   "cell_type": "code",
   "execution_count": null,
   "metadata": {},
   "outputs": [],
   "source": [
    "ori0.tail(2)"
   ]
  },
  {
   "cell_type": "code",
   "execution_count": null,
   "metadata": {},
   "outputs": [],
   "source": [
    "ori0 = ori0.round(3)\n",
    "ori0.tail(2)"
   ]
  },
  {
   "cell_type": "code",
   "execution_count": null,
   "metadata": {},
   "outputs": [],
   "source": [
    "abnorm = []\n",
    "\n",
    "for i in z_df.index:\n",
    "    for col in z_df.columns:\n",
    "        if z_df[col][i] == ori0[col][i]:\n",
    "            pass\n",
    "        else:\n",
    "            abnorm.append(i)\n",
    "            print(i, col, z_df['POPULAR_IDEX_CHNNL_ID'][i])"
   ]
  },
  {
   "cell_type": "code",
   "execution_count": null,
   "metadata": {},
   "outputs": [],
   "source": [
    "Abnormal_TU_VC_POPULAR_IDEX = z_df[z_df.index.isin(abnorm)]"
   ]
  },
  {
   "cell_type": "code",
   "execution_count": null,
   "metadata": {},
   "outputs": [],
   "source": [
    "Abnormal_TU_VC_POPULAR_IDEX.to_csv('Abnormal(TU_VC_POPULAR_IDEX).csv')"
   ]
  }
 ],
 "metadata": {
  "kernelspec": {
   "display_name": "Python 3",
   "language": "python",
   "name": "python3"
  },
  "language_info": {
   "codemirror_mode": {
    "name": "ipython",
    "version": 3
   },
   "file_extension": ".py",
   "mimetype": "text/x-python",
   "name": "python",
   "nbconvert_exporter": "python",
   "pygments_lexer": "ipython3",
   "version": "3.8.3"
  }
 },
 "nbformat": 4,
 "nbformat_minor": 4
}

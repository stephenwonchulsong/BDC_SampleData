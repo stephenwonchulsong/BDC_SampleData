{
 "cells": [
  {
   "cell_type": "code",
   "execution_count": 1,
   "metadata": {},
   "outputs": [],
   "source": [
    "import pandas as pd\n",
    "import numpy as np\n",
    "import os\n",
    "from os import listdir\n",
    "\n",
    "import scipy.stats as ss\n",
    "import math"
   ]
  },
  {
   "cell_type": "code",
   "execution_count": 2,
   "metadata": {},
   "outputs": [],
   "source": [
    "z_0 = 'C:/Users/Admin/Desktop/MediaBigdata_20201120/products/TU_VC_PR_IDEX/year=2020/month=10/day=01/HYU_TU_VC_PR_IDEX_20201001194256.csv'\n",
    "z_0 = pd.read_csv(z_0, header=0, sep=\",\")"
   ]
  },
  {
   "cell_type": "code",
   "execution_count": 3,
   "metadata": {},
   "outputs": [
    {
     "data": {
      "text/html": [
       "<div>\n",
       "<style scoped>\n",
       "    .dataframe tbody tr th:only-of-type {\n",
       "        vertical-align: middle;\n",
       "    }\n",
       "\n",
       "    .dataframe tbody tr th {\n",
       "        vertical-align: top;\n",
       "    }\n",
       "\n",
       "    .dataframe thead th {\n",
       "        text-align: right;\n",
       "    }\n",
       "</style>\n",
       "<table border=\"1\" class=\"dataframe\">\n",
       "  <thead>\n",
       "    <tr style=\"text-align: right;\">\n",
       "      <th></th>\n",
       "      <th>PR_IDEX_CHNNL_ID</th>\n",
       "      <th>PR_IDEX_CHNNL_NM</th>\n",
       "      <th>PR_IDEX_COLCT_DE</th>\n",
       "      <th>PR_IDEX_CHNNL_DC</th>\n",
       "      <th>CHNNL_CREAT_DAY</th>\n",
       "      <th>OUTPUT_CO</th>\n",
       "      <th>PR_IDEX_READER_CO</th>\n",
       "      <th>TOT_RDCNT</th>\n",
       "      <th>TOT_ILKT_CO</th>\n",
       "      <th>TOT_NLKT_CO</th>\n",
       "      <th>...</th>\n",
       "      <th>RECENT_ILKT_CO</th>\n",
       "      <th>RECENT_NLKT_CO</th>\n",
       "      <th>CO</th>\n",
       "      <th>PR_FDQNT_IMPRVMDGREE</th>\n",
       "      <th>FDQNT_IDEX</th>\n",
       "      <th>QL_IDEX</th>\n",
       "      <th>GNRLZ_PR_IDEX</th>\n",
       "      <th>FDQNT_IDEX_STD_SCORE</th>\n",
       "      <th>QL_IDEX_STD_SCORE</th>\n",
       "      <th>GNRLZ_PR_IDEX_STD_SCORE</th>\n",
       "    </tr>\n",
       "  </thead>\n",
       "  <tbody>\n",
       "    <tr>\n",
       "      <th>2668</th>\n",
       "      <td>UC1wjdW8A3HSQMoQeu79-yLw</td>\n",
       "      <td>한국항공우주연구원 KARI TV</td>\n",
       "      <td>2020-10-01</td>\n",
       "      <td>KARI 한국항공우주연구원은 대한민국 항공우주 분야 중심 연구기관으로서 항공우주기술...</td>\n",
       "      <td>2011-11-25</td>\n",
       "      <td>382</td>\n",
       "      <td>24000</td>\n",
       "      <td>7079400</td>\n",
       "      <td>70338</td>\n",
       "      <td>1997</td>\n",
       "      <td>...</td>\n",
       "      <td>15714</td>\n",
       "      <td>527</td>\n",
       "      <td>1650</td>\n",
       "      <td>1.200</td>\n",
       "      <td>0.296</td>\n",
       "      <td>0.391</td>\n",
       "      <td>0.363</td>\n",
       "      <td>0.296</td>\n",
       "      <td>0.391</td>\n",
       "      <td>0.363</td>\n",
       "    </tr>\n",
       "    <tr>\n",
       "      <th>2669</th>\n",
       "      <td>UCr1YT5IRw3iI1oQgbBOpWrQ</td>\n",
       "      <td>보고싶진아</td>\n",
       "      <td>2020-10-01</td>\n",
       "      <td>진아의 일상 영상이 업로드됩니다! 비즈니스 문의 : bogoshipjina@sand...</td>\n",
       "      <td>2016-12-15</td>\n",
       "      <td>141</td>\n",
       "      <td>398000</td>\n",
       "      <td>75130926</td>\n",
       "      <td>854405</td>\n",
       "      <td>16993</td>\n",
       "      <td>...</td>\n",
       "      <td>32965</td>\n",
       "      <td>454</td>\n",
       "      <td>2900</td>\n",
       "      <td>0.917</td>\n",
       "      <td>0.203</td>\n",
       "      <td>0.418</td>\n",
       "      <td>0.356</td>\n",
       "      <td>0.203</td>\n",
       "      <td>0.418</td>\n",
       "      <td>0.356</td>\n",
       "    </tr>\n",
       "  </tbody>\n",
       "</table>\n",
       "<p>2 rows × 22 columns</p>\n",
       "</div>"
      ],
      "text/plain": [
       "              PR_IDEX_CHNNL_ID   PR_IDEX_CHNNL_NM PR_IDEX_COLCT_DE  \\\n",
       "2668  UC1wjdW8A3HSQMoQeu79-yLw  한국항공우주연구원 KARI TV       2020-10-01   \n",
       "2669  UCr1YT5IRw3iI1oQgbBOpWrQ              보고싶진아       2020-10-01   \n",
       "\n",
       "                                       PR_IDEX_CHNNL_DC CHNNL_CREAT_DAY  \\\n",
       "2668  KARI 한국항공우주연구원은 대한민국 항공우주 분야 중심 연구기관으로서 항공우주기술...      2011-11-25   \n",
       "2669  진아의 일상 영상이 업로드됩니다! 비즈니스 문의 : bogoshipjina@sand...      2016-12-15   \n",
       "\n",
       "      OUTPUT_CO  PR_IDEX_READER_CO  TOT_RDCNT  TOT_ILKT_CO  TOT_NLKT_CO  ...  \\\n",
       "2668        382              24000    7079400        70338         1997  ...   \n",
       "2669        141             398000   75130926       854405        16993  ...   \n",
       "\n",
       "      RECENT_ILKT_CO  RECENT_NLKT_CO    CO  PR_FDQNT_IMPRVMDGREE  FDQNT_IDEX  \\\n",
       "2668           15714             527  1650                 1.200       0.296   \n",
       "2669           32965             454  2900                 0.917       0.203   \n",
       "\n",
       "      QL_IDEX  GNRLZ_PR_IDEX  FDQNT_IDEX_STD_SCORE  QL_IDEX_STD_SCORE  \\\n",
       "2668    0.391          0.363                 0.296              0.391   \n",
       "2669    0.418          0.356                 0.203              0.418   \n",
       "\n",
       "      GNRLZ_PR_IDEX_STD_SCORE  \n",
       "2668                    0.363  \n",
       "2669                    0.356  \n",
       "\n",
       "[2 rows x 22 columns]"
      ]
     },
     "execution_count": 3,
     "metadata": {},
     "output_type": "execute_result"
    }
   ],
   "source": [
    "z_0.tail(2)"
   ]
  },
  {
   "cell_type": "code",
   "execution_count": 4,
   "metadata": {},
   "outputs": [
    {
     "data": {
      "text/plain": [
       "PR_IDEX_CHNNL_ID             0\n",
       "PR_IDEX_CHNNL_NM             0\n",
       "PR_IDEX_COLCT_DE             0\n",
       "PR_IDEX_CHNNL_DC           414\n",
       "CHNNL_CREAT_DAY              0\n",
       "OUTPUT_CO                    0\n",
       "PR_IDEX_READER_CO            0\n",
       "TOT_RDCNT                    0\n",
       "TOT_ILKT_CO                  0\n",
       "TOT_NLKT_CO                  0\n",
       "MNTHNG_ACTVTY_EMPLYR_CO    147\n",
       "RECENT_RDCNT                 0\n",
       "RECENT_ILKT_CO               0\n",
       "RECENT_NLKT_CO               0\n",
       "CO                           0\n",
       "PR_FDQNT_IMPRVMDGREE       528\n",
       "FDQNT_IDEX                 528\n",
       "QL_IDEX                    147\n",
       "GNRLZ_PR_IDEX              634\n",
       "FDQNT_IDEX_STD_SCORE       528\n",
       "QL_IDEX_STD_SCORE          147\n",
       "GNRLZ_PR_IDEX_STD_SCORE    634\n",
       "dtype: int64"
      ]
     },
     "execution_count": 4,
     "metadata": {},
     "output_type": "execute_result"
    }
   ],
   "source": [
    "z_0.isnull().sum()"
   ]
  },
  {
   "cell_type": "code",
   "execution_count": 5,
   "metadata": {},
   "outputs": [
    {
     "data": {
      "text/plain": [
       "Index(['PR_IDEX_CHNNL_ID', 'PR_IDEX_CHNNL_NM', 'PR_IDEX_COLCT_DE',\n",
       "       'PR_IDEX_CHNNL_DC', 'CHNNL_CREAT_DAY', 'OUTPUT_CO', 'PR_IDEX_READER_CO',\n",
       "       'TOT_RDCNT', 'TOT_ILKT_CO', 'TOT_NLKT_CO', 'MNTHNG_ACTVTY_EMPLYR_CO',\n",
       "       'RECENT_RDCNT', 'RECENT_ILKT_CO', 'RECENT_NLKT_CO', 'CO',\n",
       "       'PR_FDQNT_IMPRVMDGREE', 'FDQNT_IDEX', 'QL_IDEX', 'GNRLZ_PR_IDEX',\n",
       "       'FDQNT_IDEX_STD_SCORE', 'QL_IDEX_STD_SCORE', 'GNRLZ_PR_IDEX_STD_SCORE'],\n",
       "      dtype='object')"
      ]
     },
     "execution_count": 5,
     "metadata": {},
     "output_type": "execute_result"
    }
   ],
   "source": [
    "z_0.columns"
   ]
  },
  {
   "cell_type": "code",
   "execution_count": null,
   "metadata": {},
   "outputs": [],
   "source": [
    "## API\n",
    "x = 'C:/Users/Admin/Desktop/MediaBigdata_20201120/data/video/year=2020'\n",
    "\n",
    "filepaths = [x + f for f in listdir(x) if f.endswith('.csv')]\n",
    "# comment = pd.read_csv(filepaths[3], header=0, sep=\"|\")\n",
    "# comment\n",
    "rawchan=[]\n",
    "# for filename in filepaths:\n",
    "#     temp = pd.read_csv(filename, header=0, sep=\"|\")\n",
    "#     rawchan.append(temp)\n",
    "\n",
    "for idx, filename in enumerate(filepaths):\n",
    "    try:\n",
    "        temp = pd.read_csv(filename, header=0, sep=\"|\")\n",
    "        rawchan.append(temp)\n",
    "    except:\n",
    "        print(idx, filename)\n",
    "api=pd.concat(rawchan, axis=0, ignore_index=True)"
   ]
  },
  {
   "cell_type": "code",
   "execution_count": null,
   "metadata": {},
   "outputs": [],
   "source": [
    "api.tail(2)"
   ]
  },
  {
   "cell_type": "code",
   "execution_count": null,
   "metadata": {},
   "outputs": [],
   "source": [
    "print(len(api.columns))\n",
    "print(len(z_0.columns))"
   ]
  },
  {
   "cell_type": "code",
   "execution_count": null,
   "metadata": {},
   "outputs": [],
   "source": [
    "api.columns"
   ]
  },
  {
   "cell_type": "code",
   "execution_count": null,
   "metadata": {},
   "outputs": [],
   "source": [
    "z_0.columns"
   ]
  },
  {
   "cell_type": "code",
   "execution_count": null,
   "metadata": {},
   "outputs": [],
   "source": [
    "z_df = z_0.sort_values(by='PR_IDEX_CHNNL_ID').reset_index(drop=True)"
   ]
  },
  {
   "cell_type": "code",
   "execution_count": null,
   "metadata": {},
   "outputs": [],
   "source": [
    "orig_df = api.sort_values(by='id').reset_index(drop=True)"
   ]
  },
  {
   "cell_type": "code",
   "execution_count": null,
   "metadata": {},
   "outputs": [],
   "source": [
    "orig_df = api.fillna(0)\n",
    "z_df = z_07.fillna(0)"
   ]
  },
  {
   "cell_type": "code",
   "execution_count": null,
   "metadata": {},
   "outputs": [],
   "source": [
    "orig_df['viewCount']"
   ]
  },
  {
   "cell_type": "code",
   "execution_count": null,
   "metadata": {},
   "outputs": [],
   "source": [
    "orig_df = orig_df.groupby('channelId').sum().reset_index()"
   ]
  },
  {
   "cell_type": "code",
   "execution_count": null,
   "metadata": {},
   "outputs": [],
   "source": [
    "orig_df.tail()"
   ]
  },
  {
   "cell_type": "code",
   "execution_count": null,
   "metadata": {},
   "outputs": [],
   "source": [
    "z_df.tail(5)"
   ]
  },
  {
   "cell_type": "code",
   "execution_count": null,
   "metadata": {},
   "outputs": [],
   "source": [
    "o_CHNNL_LK_P_V = orig_df[\"likeCount\"]/orig_df[\"viewCount\"]\n",
    "o_CHNNL_DLK_P_V = orig_df[\"dislikeCount\"]/orig_df[\"viewCount\"]\n",
    "o_CHNNL_LK_P_DLK = o_CHNNL_LK_P_V/o_CHNNL_DLK_P_V\n",
    "o_CHNNL_LK_P_DLK"
   ]
  },
  {
   "cell_type": "code",
   "execution_count": null,
   "metadata": {},
   "outputs": [],
   "source": [
    "o_CHNNL_LK_P_V\n",
    "min0 = min(o_CHNNL_LK_P_V.unique())\n",
    "max0 = max(o_CHNNL_LK_P_V.unique())\n",
    "o_CHNNL_LK_P_V_100 = ((o_CHNNL_LK_P_V- min0)/(max0-min0))*100\n",
    "\n",
    "o_CHNNL_DLK_P_V\n",
    "min1 = min(o_CHNNL_DLK_P_V.unique())\n",
    "max1 = max(o_CHNNL_DLK_P_V.unique())\n",
    "o_CHNNL_DLK_P_V_100 = ((o_CHNNL_DLK_P_V- min1)/(max1-min1))*100\n",
    "\n",
    "o_CHNNL_LK_P_DLK\n",
    "min2 = min(o_CHNNL_LK_P_DLK.unique())\n",
    "max2 = max(o_CHNNL_LK_P_DLK.unique())\n",
    "o_CHNNL_LK_P_DLK_100 = ((o_CHNNL_LK_P_DLK- min1)/(max1-min1))*100"
   ]
  },
  {
   "cell_type": "code",
   "execution_count": null,
   "metadata": {},
   "outputs": [],
   "source": [
    "o_CHNNL_LK_P_V_ZSC = ss.zscore(o_CHNNL_LK_P_V)\n",
    "o_CHNNL_DLK_P_V_ZSC = ss.zscore(o_CHNNL_DLK_P_V)\n",
    "o_CHNNL_LK_P_DLK_ZSC = ss.zscore(o_CHNNL_LK_P_DLK)"
   ]
  },
  {
   "cell_type": "code",
   "execution_count": null,
   "metadata": {},
   "outputs": [],
   "source": [
    "z_df['CHNNL_LK_P_DLK_ZSC']"
   ]
  },
  {
   "cell_type": "code",
   "execution_count": null,
   "metadata": {},
   "outputs": [],
   "source": [
    "ori0 = orig_df.copy()"
   ]
  },
  {
   "cell_type": "code",
   "execution_count": null,
   "metadata": {},
   "outputs": [],
   "source": [
    "ori0.tail(2)"
   ]
  },
  {
   "cell_type": "code",
   "execution_count": null,
   "metadata": {},
   "outputs": [],
   "source": [
    "ori0['o_CHNNL_LK_P_V'] = o_CHNNL_LK_P_V\n",
    "ori0['o_CHNNL_DLK_P_V'] = o_CHNNL_DLK_P_V\n",
    "ori0['o_CHNNL_LK_P_DLK'] = o_CHNNL_LK_P_DLK\n",
    "ori0['o_CHNNL_LK_P_V_100'] = o_CHNNL_LK_P_V_100\n",
    "ori0['o_CHNNL_DLK_P_V_100'] = o_CHNNL_DLK_P_V_100\n",
    "ori0['o_CHNNL_LK_P_DLK_100'] = o_CHNNL_LK_P_DLK_100\n",
    "ori0['o_CHNNL_LK_P_V_ZSC'] = o_CHNNL_LK_P_V_ZSC\n",
    "ori0['o_CHNNL_DLK_P_V_ZSC'] = o_CHNNL_DLK_P_V_ZSC\n",
    "ori0['o_CHNNL_LK_P_DLK_ZSC'] = o_CHNNL_LK_P_DLK_ZSC"
   ]
  },
  {
   "cell_type": "code",
   "execution_count": null,
   "metadata": {},
   "outputs": [],
   "source": [
    "ori0 = ori0.drop(['viewCount', 'likeCount', 'dislikeCount', 'commentCount'], axis='columns')\n",
    "ori0.tail(2)"
   ]
  },
  {
   "cell_type": "code",
   "execution_count": null,
   "metadata": {},
   "outputs": [],
   "source": [
    "print(len(z_3))\n",
    "print(len(ori0))\n",
    "print(z_3.columns)\n",
    "print(ori0.columns)\n",
    "print(len(z_3.columns))\n",
    "print(len(ori0.columns))"
   ]
  },
  {
   "cell_type": "code",
   "execution_count": null,
   "metadata": {},
   "outputs": [],
   "source": [
    "ori0 = ori0.fillna(0)\n",
    "z_df = z_df.fillna(0)"
   ]
  },
  {
   "cell_type": "code",
   "execution_count": null,
   "metadata": {},
   "outputs": [],
   "source": [
    "ori0.columns = z_df.columns.tolist()"
   ]
  },
  {
   "cell_type": "code",
   "execution_count": null,
   "metadata": {},
   "outputs": [],
   "source": [
    "z_df = z_df.sort_values(by='PR_IDEX_CHNNL_ID').reset_index(drop=True)\n",
    "ori0 = ori0.sort_values(by='PR_IDEX_CHNNL_ID').reset_index(drop=True)"
   ]
  },
  {
   "cell_type": "code",
   "execution_count": null,
   "metadata": {},
   "outputs": [],
   "source": [
    "z_df = z_df[z_df['PR_IDEX_CHNNL_ID'].isin(ori0['PR_IDEX_CHNNL_ID'])]\n",
    "ori0 = ori0[ori0['PR_IDEX_CHNNL_ID'].isin(z_df['PR_IDEX_CHNNL_ID'])]"
   ]
  },
  {
   "cell_type": "code",
   "execution_count": null,
   "metadata": {},
   "outputs": [],
   "source": [
    "z_df.tail(2)"
   ]
  },
  {
   "cell_type": "code",
   "execution_count": null,
   "metadata": {},
   "outputs": [],
   "source": [
    "ori0.tail(2)"
   ]
  },
  {
   "cell_type": "code",
   "execution_count": null,
   "metadata": {},
   "outputs": [],
   "source": [
    "ori0 = ori0.round(3)\n",
    "ori0.tail(2)"
   ]
  },
  {
   "cell_type": "code",
   "execution_count": null,
   "metadata": {},
   "outputs": [],
   "source": [
    "abnorm = []\n",
    "\n",
    "for i in z_df.index:\n",
    "    for col in z_df.columns:\n",
    "        if z_df[col][i] == ori0[col][i]:\n",
    "            pass\n",
    "        else:\n",
    "            abnorm.append(i)\n",
    "            print(i, col, z_df['PR_IDEX_CHNNL_ID][i])"
   ]
  },
  {
   "cell_type": "code",
   "execution_count": null,
   "metadata": {},
   "outputs": [],
   "source": [
    "Abnormal_TU_VC_PR_IDEX = z_df[z_df.index.isin(abnorm)]"
   ]
  },
  {
   "cell_type": "code",
   "execution_count": null,
   "metadata": {},
   "outputs": [],
   "source": [
    "Abnormal_TU_VC_PR_IDEX.to_csv('Abnormal(TU_VC_PR_IDEX).csv')"
   ]
  }
 ],
 "metadata": {
  "kernelspec": {
   "display_name": "Python 3",
   "language": "python",
   "name": "python3"
  },
  "language_info": {
   "codemirror_mode": {
    "name": "ipython",
    "version": 3
   },
   "file_extension": ".py",
   "mimetype": "text/x-python",
   "name": "python",
   "nbconvert_exporter": "python",
   "pygments_lexer": "ipython3",
   "version": "3.8.3"
  }
 },
 "nbformat": 4,
 "nbformat_minor": 4
}
